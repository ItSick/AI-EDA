{
 "cells": [
  {
   "cell_type": "markdown",
   "id": "6130fb96-3c76-461c-aa01-47310bd90fa3",
   "metadata": {},
   "source": [
    "עוד בדיקות שצריך לעשות\n",
    "\n",
    "2. לבדוק קורלציות בין כל עמודה לעמודת הנוטשים\n",
    "3. לסדר את הכל לפי הבדיקה כלומר בדיקה - גרף - הסבר\n",
    "4. לבדוק על ידי הפרדה של הערכים הקטגוריאלים - למשל כמה נשים נוטשות לעומת גברים\n",
    "5. כמה אזרחים ותיקים לעומת צעירים נוטשים - נבדק\n",
    "6. כמה כאלה שיש להם בן זוג לעומת אלא שלא - נבדק\n",
    "7. ליצור דטא של נוטשים ודטא של קבועים ולעשות עליהם בדיוקת בנפרד ואולי גם T-Test\n",
    "8. לכמה מהנוטשים היו את כל השירותים ולכמה מהלא נוטשים היו כל השירותים\n",
    "9. לכמה מכל אחד מהם היה רק שירות אחד\n",
    "   "
   ]
  },
  {
   "cell_type": "markdown",
   "id": "eb4d087d-d441-4e3a-b374-3a1d64adca3a",
   "metadata": {},
   "source": [
    "# ***EDA For \"Telco-Customer-Churn\" dataset***\n",
    "\n",
    "### Why this dataset?\n",
    "\n",
    "In the future I would like to use the dataset to try and make a prediction model about customers that are about to churn/leave\n",
    "\n",
    "(dataset and the follow content taken from kaggle)\n",
    "\n",
    " - Each row represents a customer\n",
    " - Each column contains customer's attibutes discribed below\n",
    " - The data set includes information about:\n",
    "\n",
    "1. Customers who left within the last month – the column is called Churn\n",
    "\n",
    "2. Services that each customer has signed up for – phone, multiple lines, internet, online security, online backup, device protection, tech support,       and streaming TV and movies\n",
    "\n",
    "3. Customer account information – how long they’ve been a customer, contract, payment method, paperless billing, monthly charges, and total charges\n",
    "\n",
    "4. Demographic info about customers – gender, age range, and if they have partners and dependents"
   ]
  },
  {
   "cell_type": "markdown",
   "id": "e703028d-5d0b-4e93-baea-903d197b0785",
   "metadata": {},
   "source": [
    "\n",
    "## ***COLUMNS DESCRIPTION:***\n"
   ]
  },
  {
   "cell_type": "markdown",
   "id": "f0c74b10-81e6-4124-9327-8f7014b59f96",
   "metadata": {},
   "source": [
    "\n",
    "      customerID                          Unique ID assigned to each customer\n",
    "      gender                              Customer’s gender (e.g., 'Male' or 'Female')\n",
    "      SeniorCitizen                       Indicates if the customer is a senior citizen (1 = Yes, 0 = No)\n",
    "      Partner                             Indicates if the customer has a partner(example: Husband/Wife) (Yes/No)\n",
    "      Dependents                          Indicates if the customer has dependents (example: children) (Yes/No)\n",
    "      tenure                              Number of months the customer has stayed with the company\n",
    "      PhoneService                        Indicates if the customer subscribes to phone service (Yes/No)\n",
    "      MultipleLines                       Indicates if customer has multiple phone lines (Yes/No/No phone service)\n",
    "      InternetService                     Type of internet service (DSL/Fiber optic/No)\n",
    "      OnlineSecurity                      Online security service (Yes/No/No internet service)\n",
    "      OnlineBackup                        Online backup service (Yes/No/No internet service)\n",
    "      DeviceProtection                    Device protection plan (Yes/No/No internet service)\n",
    "      TechSupport                         Tech support service (Yes/No/No internet service)\n",
    "      StreamingTV                         Streaming TV service (Yes/No/No internet service)\n",
    "      StreamingMovies                     Streaming movies service (Yes/No/No internet service)\n",
    "      Contract                            Contract term (Month-to-month, One year, Two year)\n",
    "      PaperlessBilling                    Indicates if customer opts for paperless billing (Yes/No)\n",
    "      PaymentMethod                       Payment method (e.g., 'Electronic check', 'Mailed check', etc.)\n",
    "      MonthlyCharges                      Amount charged to the customer monthly (in USD)\n",
    "      TotalCharges                        Total amount charged to the customer (in USD)\n",
    "      Churn                               Indicates if the customer has left (Yes/No)\n"
   ]
  },
  {
   "cell_type": "code",
   "execution_count": 3,
   "id": "fab6c666-4f63-454d-bb2f-0c2168c5b3e0",
   "metadata": {},
   "outputs": [],
   "source": [
    "import pandas as pd\n",
    "import numpy as np\n",
    "import matplotlib.pyplot as plt\n",
    "import seaborn as sns\n",
    "import scipy.stats as stats\n"
   ]
  },
  {
   "cell_type": "code",
   "execution_count": 4,
   "id": "b8f9185b-e064-46c1-8f89-2e4ba55fa226",
   "metadata": {},
   "outputs": [
    {
     "data": {
      "text/html": [
       "<div>\n",
       "<style scoped>\n",
       "    .dataframe tbody tr th:only-of-type {\n",
       "        vertical-align: middle;\n",
       "    }\n",
       "\n",
       "    .dataframe tbody tr th {\n",
       "        vertical-align: top;\n",
       "    }\n",
       "\n",
       "    .dataframe thead th {\n",
       "        text-align: right;\n",
       "    }\n",
       "</style>\n",
       "<table border=\"1\" class=\"dataframe\">\n",
       "  <thead>\n",
       "    <tr style=\"text-align: right;\">\n",
       "      <th></th>\n",
       "      <th>customerID</th>\n",
       "      <th>gender</th>\n",
       "      <th>SeniorCitizen</th>\n",
       "      <th>Partner</th>\n",
       "      <th>Dependents</th>\n",
       "      <th>tenure</th>\n",
       "      <th>PhoneService</th>\n",
       "      <th>MultipleLines</th>\n",
       "      <th>InternetService</th>\n",
       "      <th>OnlineSecurity</th>\n",
       "      <th>...</th>\n",
       "      <th>DeviceProtection</th>\n",
       "      <th>TechSupport</th>\n",
       "      <th>StreamingTV</th>\n",
       "      <th>StreamingMovies</th>\n",
       "      <th>Contract</th>\n",
       "      <th>PaperlessBilling</th>\n",
       "      <th>PaymentMethod</th>\n",
       "      <th>MonthlyCharges</th>\n",
       "      <th>TotalCharges</th>\n",
       "      <th>Churn</th>\n",
       "    </tr>\n",
       "  </thead>\n",
       "  <tbody>\n",
       "    <tr>\n",
       "      <th>0</th>\n",
       "      <td>7590-VHVEG</td>\n",
       "      <td>Female</td>\n",
       "      <td>0</td>\n",
       "      <td>Yes</td>\n",
       "      <td>No</td>\n",
       "      <td>1</td>\n",
       "      <td>No</td>\n",
       "      <td>No phone service</td>\n",
       "      <td>DSL</td>\n",
       "      <td>No</td>\n",
       "      <td>...</td>\n",
       "      <td>No</td>\n",
       "      <td>No</td>\n",
       "      <td>No</td>\n",
       "      <td>No</td>\n",
       "      <td>Month-to-month</td>\n",
       "      <td>Yes</td>\n",
       "      <td>Electronic check</td>\n",
       "      <td>29.85</td>\n",
       "      <td>29.85</td>\n",
       "      <td>No</td>\n",
       "    </tr>\n",
       "    <tr>\n",
       "      <th>1</th>\n",
       "      <td>5575-GNVDE</td>\n",
       "      <td>Male</td>\n",
       "      <td>0</td>\n",
       "      <td>No</td>\n",
       "      <td>No</td>\n",
       "      <td>34</td>\n",
       "      <td>Yes</td>\n",
       "      <td>No</td>\n",
       "      <td>DSL</td>\n",
       "      <td>Yes</td>\n",
       "      <td>...</td>\n",
       "      <td>Yes</td>\n",
       "      <td>No</td>\n",
       "      <td>No</td>\n",
       "      <td>No</td>\n",
       "      <td>One year</td>\n",
       "      <td>No</td>\n",
       "      <td>Mailed check</td>\n",
       "      <td>56.95</td>\n",
       "      <td>1889.5</td>\n",
       "      <td>No</td>\n",
       "    </tr>\n",
       "    <tr>\n",
       "      <th>2</th>\n",
       "      <td>3668-QPYBK</td>\n",
       "      <td>Male</td>\n",
       "      <td>0</td>\n",
       "      <td>No</td>\n",
       "      <td>No</td>\n",
       "      <td>2</td>\n",
       "      <td>Yes</td>\n",
       "      <td>No</td>\n",
       "      <td>DSL</td>\n",
       "      <td>Yes</td>\n",
       "      <td>...</td>\n",
       "      <td>No</td>\n",
       "      <td>No</td>\n",
       "      <td>No</td>\n",
       "      <td>No</td>\n",
       "      <td>Month-to-month</td>\n",
       "      <td>Yes</td>\n",
       "      <td>Mailed check</td>\n",
       "      <td>53.85</td>\n",
       "      <td>108.15</td>\n",
       "      <td>Yes</td>\n",
       "    </tr>\n",
       "    <tr>\n",
       "      <th>3</th>\n",
       "      <td>7795-CFOCW</td>\n",
       "      <td>Male</td>\n",
       "      <td>0</td>\n",
       "      <td>No</td>\n",
       "      <td>No</td>\n",
       "      <td>45</td>\n",
       "      <td>No</td>\n",
       "      <td>No phone service</td>\n",
       "      <td>DSL</td>\n",
       "      <td>Yes</td>\n",
       "      <td>...</td>\n",
       "      <td>Yes</td>\n",
       "      <td>Yes</td>\n",
       "      <td>No</td>\n",
       "      <td>No</td>\n",
       "      <td>One year</td>\n",
       "      <td>No</td>\n",
       "      <td>Bank transfer (automatic)</td>\n",
       "      <td>42.30</td>\n",
       "      <td>1840.75</td>\n",
       "      <td>No</td>\n",
       "    </tr>\n",
       "    <tr>\n",
       "      <th>4</th>\n",
       "      <td>9237-HQITU</td>\n",
       "      <td>Female</td>\n",
       "      <td>0</td>\n",
       "      <td>No</td>\n",
       "      <td>No</td>\n",
       "      <td>2</td>\n",
       "      <td>Yes</td>\n",
       "      <td>No</td>\n",
       "      <td>Fiber optic</td>\n",
       "      <td>No</td>\n",
       "      <td>...</td>\n",
       "      <td>No</td>\n",
       "      <td>No</td>\n",
       "      <td>No</td>\n",
       "      <td>No</td>\n",
       "      <td>Month-to-month</td>\n",
       "      <td>Yes</td>\n",
       "      <td>Electronic check</td>\n",
       "      <td>70.70</td>\n",
       "      <td>151.65</td>\n",
       "      <td>Yes</td>\n",
       "    </tr>\n",
       "  </tbody>\n",
       "</table>\n",
       "<p>5 rows × 21 columns</p>\n",
       "</div>"
      ],
      "text/plain": [
       "   customerID  gender  SeniorCitizen Partner Dependents  tenure PhoneService  \\\n",
       "0  7590-VHVEG  Female              0     Yes         No       1           No   \n",
       "1  5575-GNVDE    Male              0      No         No      34          Yes   \n",
       "2  3668-QPYBK    Male              0      No         No       2          Yes   \n",
       "3  7795-CFOCW    Male              0      No         No      45           No   \n",
       "4  9237-HQITU  Female              0      No         No       2          Yes   \n",
       "\n",
       "      MultipleLines InternetService OnlineSecurity  ... DeviceProtection  \\\n",
       "0  No phone service             DSL             No  ...               No   \n",
       "1                No             DSL            Yes  ...              Yes   \n",
       "2                No             DSL            Yes  ...               No   \n",
       "3  No phone service             DSL            Yes  ...              Yes   \n",
       "4                No     Fiber optic             No  ...               No   \n",
       "\n",
       "  TechSupport StreamingTV StreamingMovies        Contract PaperlessBilling  \\\n",
       "0          No          No              No  Month-to-month              Yes   \n",
       "1          No          No              No        One year               No   \n",
       "2          No          No              No  Month-to-month              Yes   \n",
       "3         Yes          No              No        One year               No   \n",
       "4          No          No              No  Month-to-month              Yes   \n",
       "\n",
       "               PaymentMethod MonthlyCharges  TotalCharges Churn  \n",
       "0           Electronic check          29.85         29.85    No  \n",
       "1               Mailed check          56.95        1889.5    No  \n",
       "2               Mailed check          53.85        108.15   Yes  \n",
       "3  Bank transfer (automatic)          42.30       1840.75    No  \n",
       "4           Electronic check          70.70        151.65   Yes  \n",
       "\n",
       "[5 rows x 21 columns]"
      ]
     },
     "execution_count": 4,
     "metadata": {},
     "output_type": "execute_result"
    }
   ],
   "source": [
    "data = pd.read_csv('./datasets/Telco-Customer-Churn.csv')\n",
    "data.head()"
   ]
  },
  {
   "cell_type": "code",
   "execution_count": 61,
   "id": "15032d26-e0eb-44e2-962f-6e5d8918f3b2",
   "metadata": {},
   "outputs": [
    {
     "data": {
      "text/plain": [
       "Index(['customerID', 'gender', 'SeniorCitizen', 'Partner', 'Dependents',\n",
       "       'tenure', 'PhoneService', 'MultipleLines', 'InternetService',\n",
       "       'OnlineSecurity', 'OnlineBackup', 'DeviceProtection', 'TechSupport',\n",
       "       'StreamingTV', 'StreamingMovies', 'Contract', 'PaperlessBilling',\n",
       "       'PaymentMethod', 'MonthlyCharges', 'TotalCharges', 'Churn'],\n",
       "      dtype='object')"
      ]
     },
     "execution_count": 61,
     "metadata": {},
     "output_type": "execute_result"
    }
   ],
   "source": [
    "data.columns"
   ]
  },
  {
   "cell_type": "code",
   "execution_count": 62,
   "id": "cc35fe8d-69b7-4be4-91ca-94c1437fad4f",
   "metadata": {},
   "outputs": [
    {
     "name": "stdout",
     "output_type": "stream",
     "text": [
      "<class 'pandas.core.frame.DataFrame'>\n",
      "RangeIndex: 7043 entries, 0 to 7042\n",
      "Data columns (total 21 columns):\n",
      " #   Column            Non-Null Count  Dtype  \n",
      "---  ------            --------------  -----  \n",
      " 0   customerID        7043 non-null   object \n",
      " 1   gender            7043 non-null   object \n",
      " 2   SeniorCitizen     7043 non-null   int64  \n",
      " 3   Partner           7043 non-null   object \n",
      " 4   Dependents        7043 non-null   object \n",
      " 5   tenure            7043 non-null   int64  \n",
      " 6   PhoneService      7043 non-null   object \n",
      " 7   MultipleLines     7043 non-null   object \n",
      " 8   InternetService   7043 non-null   object \n",
      " 9   OnlineSecurity    7043 non-null   object \n",
      " 10  OnlineBackup      7043 non-null   object \n",
      " 11  DeviceProtection  7043 non-null   object \n",
      " 12  TechSupport       7043 non-null   object \n",
      " 13  StreamingTV       7043 non-null   object \n",
      " 14  StreamingMovies   7043 non-null   object \n",
      " 15  Contract          7043 non-null   object \n",
      " 16  PaperlessBilling  7043 non-null   object \n",
      " 17  PaymentMethod     7043 non-null   object \n",
      " 18  MonthlyCharges    7043 non-null   float64\n",
      " 19  TotalCharges      7043 non-null   object \n",
      " 20  Churn             7043 non-null   object \n",
      "dtypes: float64(1), int64(2), object(18)\n",
      "memory usage: 1.1+ MB\n"
     ]
    }
   ],
   "source": [
    "data.info() \n"
   ]
  },
  {
   "cell_type": "code",
   "execution_count": 63,
   "id": "c22c4824-e542-4831-b5b6-5b063d2faa3e",
   "metadata": {},
   "outputs": [
    {
     "data": {
      "text/plain": [
       "customerID           object\n",
       "gender               object\n",
       "SeniorCitizen         int64\n",
       "Partner              object\n",
       "Dependents           object\n",
       "tenure                int64\n",
       "PhoneService         object\n",
       "MultipleLines        object\n",
       "InternetService      object\n",
       "OnlineSecurity       object\n",
       "OnlineBackup         object\n",
       "DeviceProtection     object\n",
       "TechSupport          object\n",
       "StreamingTV          object\n",
       "StreamingMovies      object\n",
       "Contract             object\n",
       "PaperlessBilling     object\n",
       "PaymentMethod        object\n",
       "MonthlyCharges      float64\n",
       "TotalCharges         object\n",
       "Churn                object\n",
       "dtype: object"
      ]
     },
     "execution_count": 63,
     "metadata": {},
     "output_type": "execute_result"
    }
   ],
   "source": [
    "data.dtypes"
   ]
  },
  {
   "cell_type": "markdown",
   "id": "ba55b340-858f-4f01-abbf-15ad4ef1f156",
   "metadata": {},
   "source": [
    "some string type are present as object, and can be convert to string and maby to booloan or category types"
   ]
  },
  {
   "cell_type": "markdown",
   "id": "34a48a54-6e48-480c-afd5-823f74e0dbfc",
   "metadata": {},
   "source": [
    "# <b>Convertion</b>"
   ]
  },
  {
   "cell_type": "code",
   "execution_count": 64,
   "id": "9e749e5b-f63b-45ce-89e7-e7104daeccdd",
   "metadata": {},
   "outputs": [
    {
     "data": {
      "text/plain": [
       "customerID          7043\n",
       "gender                 2\n",
       "SeniorCitizen          2\n",
       "Partner                2\n",
       "Dependents             2\n",
       "tenure                73\n",
       "PhoneService           2\n",
       "MultipleLines          3\n",
       "InternetService        3\n",
       "OnlineSecurity         3\n",
       "OnlineBackup           3\n",
       "DeviceProtection       3\n",
       "TechSupport            3\n",
       "StreamingTV            3\n",
       "StreamingMovies        3\n",
       "Contract               3\n",
       "PaperlessBilling       2\n",
       "PaymentMethod          4\n",
       "MonthlyCharges      1585\n",
       "TotalCharges        6531\n",
       "Churn                  2\n",
       "dtype: int64"
      ]
     },
     "execution_count": 64,
     "metadata": {},
     "output_type": "execute_result"
    }
   ],
   "source": [
    "data.nunique()"
   ]
  },
  {
   "cell_type": "code",
   "execution_count": 22,
   "id": "82cb9557-184d-4023-b991-688e3ecd4d8e",
   "metadata": {},
   "outputs": [],
   "source": [
    "data = data.convert_dtypes()"
   ]
  },
  {
   "cell_type": "code",
   "execution_count": 35,
   "id": "1e87754e-b8a2-490c-ab3f-5f217945d838",
   "metadata": {},
   "outputs": [],
   "source": [
    " #convert 'TotalCharges' to float\n",
    "# errors='coerce' convert missing values (like blank strings) into NaN\n",
    "data['TotalCharges']=pd.to_numeric(data['TotalCharges'], errors='coerce')"
   ]
  },
  {
   "cell_type": "code",
   "execution_count": 24,
   "id": "2a7a4807-06be-41ed-9cf5-a0ccd843f318",
   "metadata": {},
   "outputs": [
    {
     "name": "stdout",
     "output_type": "stream",
     "text": [
      "<class 'pandas.core.frame.DataFrame'>\n",
      "RangeIndex: 7043 entries, 0 to 7042\n",
      "Data columns (total 21 columns):\n",
      " #   Column            Non-Null Count  Dtype  \n",
      "---  ------            --------------  -----  \n",
      " 0   customerID        7043 non-null   string \n",
      " 1   gender            7043 non-null   string \n",
      " 2   SeniorCitizen     7043 non-null   Int64  \n",
      " 3   Partner           7043 non-null   string \n",
      " 4   Dependents        7043 non-null   string \n",
      " 5   tenure            7043 non-null   Int64  \n",
      " 6   PhoneService      7043 non-null   string \n",
      " 7   MultipleLines     7043 non-null   string \n",
      " 8   InternetService   7043 non-null   string \n",
      " 9   OnlineSecurity    7043 non-null   string \n",
      " 10  OnlineBackup      7043 non-null   string \n",
      " 11  DeviceProtection  7043 non-null   string \n",
      " 12  TechSupport       7043 non-null   string \n",
      " 13  StreamingTV       7043 non-null   string \n",
      " 14  StreamingMovies   7043 non-null   string \n",
      " 15  Contract          7043 non-null   string \n",
      " 16  PaperlessBilling  7043 non-null   string \n",
      " 17  PaymentMethod     7043 non-null   string \n",
      " 18  MonthlyCharges    7043 non-null   Float64\n",
      " 19  TotalCharges      7032 non-null   Float64\n",
      " 20  Churn             7043 non-null   string \n",
      "dtypes: Float64(2), Int64(2), string(17)\n",
      "memory usage: 1.2 MB\n"
     ]
    }
   ],
   "source": [
    "data.info()"
   ]
  },
  {
   "cell_type": "markdown",
   "id": "c583c91c-cc10-4e03-9369-c0ab6c87dae5",
   "metadata": {},
   "source": [
    "- columns with 2 to 4 options should be category type (or keep them string?)\n",
    "- TotalCharges column present as object (and actually was string) converted to float"
   ]
  },
  {
   "cell_type": "markdown",
   "id": "34cabde9-aa35-49df-9b09-2d5fe7211586",
   "metadata": {},
   "source": [
    "# Gender And Churn"
   ]
  },
  {
   "cell_type": "code",
   "execution_count": 25,
   "id": "af1e07a5-e4f7-4960-b57d-47d45a5e7490",
   "metadata": {},
   "outputs": [],
   "source": [
    "woman = data[data['gender'] == 'Female']"
   ]
  },
  {
   "cell_type": "code",
   "execution_count": 26,
   "id": "37974993-a450-4d9a-872b-8eb5877c1f74",
   "metadata": {},
   "outputs": [
    {
     "data": {
      "text/html": [
       "<div>\n",
       "<style scoped>\n",
       "    .dataframe tbody tr th:only-of-type {\n",
       "        vertical-align: middle;\n",
       "    }\n",
       "\n",
       "    .dataframe tbody tr th {\n",
       "        vertical-align: top;\n",
       "    }\n",
       "\n",
       "    .dataframe thead th {\n",
       "        text-align: right;\n",
       "    }\n",
       "</style>\n",
       "<table border=\"1\" class=\"dataframe\">\n",
       "  <thead>\n",
       "    <tr style=\"text-align: right;\">\n",
       "      <th></th>\n",
       "      <th>count</th>\n",
       "      <th>mean</th>\n",
       "      <th>std</th>\n",
       "      <th>min</th>\n",
       "      <th>25%</th>\n",
       "      <th>50%</th>\n",
       "      <th>75%</th>\n",
       "      <th>max</th>\n",
       "    </tr>\n",
       "  </thead>\n",
       "  <tbody>\n",
       "    <tr>\n",
       "      <th>SeniorCitizen</th>\n",
       "      <td>3488.0</td>\n",
       "      <td>0.162844</td>\n",
       "      <td>0.369276</td>\n",
       "      <td>0.0</td>\n",
       "      <td>0.0</td>\n",
       "      <td>0.0</td>\n",
       "      <td>0.0</td>\n",
       "      <td>1.0</td>\n",
       "    </tr>\n",
       "    <tr>\n",
       "      <th>tenure</th>\n",
       "      <td>3488.0</td>\n",
       "      <td>32.244553</td>\n",
       "      <td>24.463233</td>\n",
       "      <td>0.0</td>\n",
       "      <td>9.0</td>\n",
       "      <td>29.0</td>\n",
       "      <td>55.0</td>\n",
       "      <td>72.0</td>\n",
       "    </tr>\n",
       "    <tr>\n",
       "      <th>MonthlyCharges</th>\n",
       "      <td>3488.0</td>\n",
       "      <td>65.204243</td>\n",
       "      <td>30.061341</td>\n",
       "      <td>18.4</td>\n",
       "      <td>35.9</td>\n",
       "      <td>70.65</td>\n",
       "      <td>89.85</td>\n",
       "      <td>118.75</td>\n",
       "    </tr>\n",
       "    <tr>\n",
       "      <th>TotalCharges</th>\n",
       "      <td>3483.0</td>\n",
       "      <td>2283.190985</td>\n",
       "      <td>2270.830254</td>\n",
       "      <td>18.85</td>\n",
       "      <td>402.875</td>\n",
       "      <td>1387.35</td>\n",
       "      <td>3819.8</td>\n",
       "      <td>8672.45</td>\n",
       "    </tr>\n",
       "  </tbody>\n",
       "</table>\n",
       "</div>"
      ],
      "text/plain": [
       "                 count         mean          std    min      25%      50%  \\\n",
       "SeniorCitizen   3488.0     0.162844     0.369276    0.0      0.0      0.0   \n",
       "tenure          3488.0    32.244553    24.463233    0.0      9.0     29.0   \n",
       "MonthlyCharges  3488.0    65.204243    30.061341   18.4     35.9    70.65   \n",
       "TotalCharges    3483.0  2283.190985  2270.830254  18.85  402.875  1387.35   \n",
       "\n",
       "                   75%      max  \n",
       "SeniorCitizen      0.0      1.0  \n",
       "tenure            55.0     72.0  \n",
       "MonthlyCharges   89.85   118.75  \n",
       "TotalCharges    3819.8  8672.45  "
      ]
     },
     "execution_count": 26,
     "metadata": {},
     "output_type": "execute_result"
    }
   ],
   "source": [
    "woman.describe().T"
   ]
  },
  {
   "cell_type": "code",
   "execution_count": 27,
   "id": "6965374a-1b95-494f-af95-d929e3fffb43",
   "metadata": {},
   "outputs": [],
   "source": [
    "man = data[data['gender'] == 'Male']"
   ]
  },
  {
   "cell_type": "code",
   "execution_count": 28,
   "id": "77c7b217-b694-43bb-baa6-29a7711f7af6",
   "metadata": {},
   "outputs": [
    {
     "data": {
      "text/html": [
       "<div>\n",
       "<style scoped>\n",
       "    .dataframe tbody tr th:only-of-type {\n",
       "        vertical-align: middle;\n",
       "    }\n",
       "\n",
       "    .dataframe tbody tr th {\n",
       "        vertical-align: top;\n",
       "    }\n",
       "\n",
       "    .dataframe thead th {\n",
       "        text-align: right;\n",
       "    }\n",
       "</style>\n",
       "<table border=\"1\" class=\"dataframe\">\n",
       "  <thead>\n",
       "    <tr style=\"text-align: right;\">\n",
       "      <th></th>\n",
       "      <th>count</th>\n",
       "      <th>mean</th>\n",
       "      <th>std</th>\n",
       "      <th>min</th>\n",
       "      <th>25%</th>\n",
       "      <th>50%</th>\n",
       "      <th>75%</th>\n",
       "      <th>max</th>\n",
       "    </tr>\n",
       "  </thead>\n",
       "  <tbody>\n",
       "    <tr>\n",
       "      <th>SeniorCitizen</th>\n",
       "      <td>3555.0</td>\n",
       "      <td>0.161463</td>\n",
       "      <td>0.368009</td>\n",
       "      <td>0.0</td>\n",
       "      <td>0.0</td>\n",
       "      <td>0.0</td>\n",
       "      <td>0.0</td>\n",
       "      <td>1.0</td>\n",
       "    </tr>\n",
       "    <tr>\n",
       "      <th>tenure</th>\n",
       "      <td>3555.0</td>\n",
       "      <td>32.495359</td>\n",
       "      <td>24.656359</td>\n",
       "      <td>0.0</td>\n",
       "      <td>9.0</td>\n",
       "      <td>29.0</td>\n",
       "      <td>56.0</td>\n",
       "      <td>72.0</td>\n",
       "    </tr>\n",
       "    <tr>\n",
       "      <th>MonthlyCharges</th>\n",
       "      <td>3555.0</td>\n",
       "      <td>64.327482</td>\n",
       "      <td>30.116093</td>\n",
       "      <td>18.25</td>\n",
       "      <td>35.225</td>\n",
       "      <td>70.1</td>\n",
       "      <td>89.875</td>\n",
       "      <td>118.35</td>\n",
       "    </tr>\n",
       "    <tr>\n",
       "      <th>TotalCharges</th>\n",
       "      <td>3549.0</td>\n",
       "      <td>2283.407861</td>\n",
       "      <td>2263.100874</td>\n",
       "      <td>18.8</td>\n",
       "      <td>397.0</td>\n",
       "      <td>1404.65</td>\n",
       "      <td>3771.5</td>\n",
       "      <td>8684.8</td>\n",
       "    </tr>\n",
       "  </tbody>\n",
       "</table>\n",
       "</div>"
      ],
      "text/plain": [
       "                 count         mean          std    min     25%      50%  \\\n",
       "SeniorCitizen   3555.0     0.161463     0.368009    0.0     0.0      0.0   \n",
       "tenure          3555.0    32.495359    24.656359    0.0     9.0     29.0   \n",
       "MonthlyCharges  3555.0    64.327482    30.116093  18.25  35.225     70.1   \n",
       "TotalCharges    3549.0  2283.407861  2263.100874   18.8   397.0  1404.65   \n",
       "\n",
       "                   75%     max  \n",
       "SeniorCitizen      0.0     1.0  \n",
       "tenure            56.0    72.0  \n",
       "MonthlyCharges  89.875  118.35  \n",
       "TotalCharges    3771.5  8684.8  "
      ]
     },
     "execution_count": 28,
     "metadata": {},
     "output_type": "execute_result"
    }
   ],
   "source": [
    "man.describe().T"
   ]
  },
  {
   "cell_type": "markdown",
   "id": "dc1dab63-4d4f-49d3-ab77-1dedd8deafb4",
   "metadata": {},
   "source": [
    "- woman count is a bit less then man count\n",
    "- "
   ]
  },
  {
   "cell_type": "markdown",
   "id": "d76e948d-b9a0-42bc-b898-dcad5a756ad2",
   "metadata": {},
   "source": [
    "# ***Correlations And Crosstabs***"
   ]
  },
  {
   "cell_type": "code",
   "execution_count": 57,
   "id": "b4c3311d-5a61-4034-aa56-4f4c0472adcd",
   "metadata": {},
   "outputs": [
    {
     "data": {
      "text/html": [
       "<div>\n",
       "<style scoped>\n",
       "    .dataframe tbody tr th:only-of-type {\n",
       "        vertical-align: middle;\n",
       "    }\n",
       "\n",
       "    .dataframe tbody tr th {\n",
       "        vertical-align: top;\n",
       "    }\n",
       "\n",
       "    .dataframe thead th {\n",
       "        text-align: right;\n",
       "    }\n",
       "</style>\n",
       "<table border=\"1\" class=\"dataframe\">\n",
       "  <thead>\n",
       "    <tr style=\"text-align: right;\">\n",
       "      <th></th>\n",
       "      <th>tenure</th>\n",
       "      <th>MonthlyCharges</th>\n",
       "      <th>TotalCharges</th>\n",
       "      <th>SeniorCitizen</th>\n",
       "    </tr>\n",
       "  </thead>\n",
       "  <tbody>\n",
       "    <tr>\n",
       "      <th>tenure</th>\n",
       "      <td>1.000000</td>\n",
       "      <td>0.247900</td>\n",
       "      <td>0.825880</td>\n",
       "      <td>0.016567</td>\n",
       "    </tr>\n",
       "    <tr>\n",
       "      <th>MonthlyCharges</th>\n",
       "      <td>0.247900</td>\n",
       "      <td>1.000000</td>\n",
       "      <td>0.651065</td>\n",
       "      <td>0.220173</td>\n",
       "    </tr>\n",
       "    <tr>\n",
       "      <th>TotalCharges</th>\n",
       "      <td>0.825880</td>\n",
       "      <td>0.651065</td>\n",
       "      <td>1.000000</td>\n",
       "      <td>0.102411</td>\n",
       "    </tr>\n",
       "    <tr>\n",
       "      <th>SeniorCitizen</th>\n",
       "      <td>0.016567</td>\n",
       "      <td>0.220173</td>\n",
       "      <td>0.102411</td>\n",
       "      <td>1.000000</td>\n",
       "    </tr>\n",
       "  </tbody>\n",
       "</table>\n",
       "</div>"
      ],
      "text/plain": [
       "                  tenure  MonthlyCharges  TotalCharges  SeniorCitizen\n",
       "tenure          1.000000        0.247900      0.825880       0.016567\n",
       "MonthlyCharges  0.247900        1.000000      0.651065       0.220173\n",
       "TotalCharges    0.825880        0.651065      1.000000       0.102411\n",
       "SeniorCitizen   0.016567        0.220173      0.102411       1.000000"
      ]
     },
     "execution_count": 57,
     "metadata": {},
     "output_type": "execute_result"
    }
   ],
   "source": [
    "numeric_cols = ['tenure','MonthlyCharges','TotalCharges','SeniorCitizen']\n",
    "sub_df = data[numeric_cols].copy()\n",
    "sub_df['TotalCharges']=pd.to_numeric(sub_df['TotalCharges'], errors='coerce')\n",
    "sub_df['MonthlyCharges']=pd.to_numeric(sub_df['MonthlyCharges'], errors='coerce')\n",
    "sub_df.corr()"
   ]
  },
  {
   "cell_type": "code",
   "execution_count": 58,
   "id": "99762d7f-39a7-47d4-810c-ca763c58ba9f",
   "metadata": {},
   "outputs": [
    {
     "data": {
      "text/plain": [
       "tenure              Int64\n",
       "MonthlyCharges    Float64\n",
       "TotalCharges      Float64\n",
       "SeniorCitizen       Int64\n",
       "dtype: object"
      ]
     },
     "execution_count": 58,
     "metadata": {},
     "output_type": "execute_result"
    }
   ],
   "source": [
    "sub_df.dtypes"
   ]
  },
  {
   "cell_type": "code",
   "execution_count": 60,
   "id": "5590a8c3-2c1f-4e80-b668-03880518962d",
   "metadata": {},
   "outputs": [
    {
     "data": {
      "image/png": "[encoded data removed]",
      "text/plain": [
       "<Figure size 640x480 with 2 Axes>"
      ]
     },
     "metadata": {},
     "output_type": "display_data"
    }
   ],
   "source": [
    "corr_matrix = sub_df.corr()\n",
    "sns.heatmap(corr_matrix, annot=True, cmap='Blues')\n",
    "plt.title('Correlation Matrix')\n",
    "plt.show()"
   ]
  },
  {
   "cell_type": "markdown",
   "id": "4cb67a96-5fe6-48d9-9a06-d4b73f786bfa",
   "metadata": {},
   "source": [
    "<table>\n",
    "    <tr>\n",
    "        <td>Pair</td>\n",
    "        <td>Correlation</td>\n",
    "        <td>Interpretation</td>\n",
    "    </tr>\n",
    "    <tr>\n",
    "        <td>tenure & TotalCharges</td>\n",
    "        <td>0.83</td>\n",
    "        <td>Strongly positive: longer-tenured customers tend to have higher total charges over time.</td>\n",
    "    </tr>\n",
    "    <tr>\n",
    "        <td>MonthlyCharges & TotalCharges</td>\n",
    "        <td>0.65</td>\n",
    "        <td>Moderately to strongly positive: higher monthly fees lead to higher total charges overall.</td>\n",
    "    </tr>\n",
    "     <tr>\n",
    "        <td>tenure & MonthlyCharges</td>\n",
    "        <td>0.25</td>\n",
    "        <td>Mild positive: customers staying longer slightly tend to have higher monthly charges, but not by a                                                      large amount.</td>\n",
    "    </tr>\n",
    "</table>"
   ]
  },
  {
   "cell_type": "markdown",
   "id": "35fbc105-008f-4e36-8a9f-20ac84aaf7fb",
   "metadata": {},
   "source": [
    "<table></table>"
   ]
  },
  {
   "cell_type": "code",
   "execution_count": 51,
   "id": "d3a5a67a-b6fc-465e-be6e-c3165047a59a",
   "metadata": {},
   "outputs": [
    {
     "data": {
      "text/html": [
       "<div>\n",
       "<style scoped>\n",
       "    .dataframe tbody tr th:only-of-type {\n",
       "        vertical-align: middle;\n",
       "    }\n",
       "\n",
       "    .dataframe tbody tr th {\n",
       "        vertical-align: top;\n",
       "    }\n",
       "\n",
       "    .dataframe thead th {\n",
       "        text-align: right;\n",
       "    }\n",
       "</style>\n",
       "<table border=\"1\" class=\"dataframe\">\n",
       "  <thead>\n",
       "    <tr style=\"text-align: right;\">\n",
       "      <th></th>\n",
       "      <th>count</th>\n",
       "      <th>mean</th>\n",
       "      <th>std</th>\n",
       "      <th>min</th>\n",
       "      <th>25%</th>\n",
       "      <th>50%</th>\n",
       "      <th>75%</th>\n",
       "      <th>max</th>\n",
       "    </tr>\n",
       "  </thead>\n",
       "  <tbody>\n",
       "    <tr>\n",
       "      <th>SeniorCitizen</th>\n",
       "      <td>7043.0</td>\n",
       "      <td>0.162147</td>\n",
       "      <td>0.368612</td>\n",
       "      <td>0.0</td>\n",
       "      <td>0.0</td>\n",
       "      <td>0.0</td>\n",
       "      <td>0.0</td>\n",
       "      <td>1.0</td>\n",
       "    </tr>\n",
       "    <tr>\n",
       "      <th>tenure</th>\n",
       "      <td>7043.0</td>\n",
       "      <td>32.371149</td>\n",
       "      <td>24.559481</td>\n",
       "      <td>0.0</td>\n",
       "      <td>9.0</td>\n",
       "      <td>29.0</td>\n",
       "      <td>55.0</td>\n",
       "      <td>72.0</td>\n",
       "    </tr>\n",
       "    <tr>\n",
       "      <th>MonthlyCharges</th>\n",
       "      <td>7043.0</td>\n",
       "      <td>64.761692</td>\n",
       "      <td>30.090047</td>\n",
       "      <td>18.25</td>\n",
       "      <td>35.5</td>\n",
       "      <td>70.35</td>\n",
       "      <td>89.85</td>\n",
       "      <td>118.75</td>\n",
       "    </tr>\n",
       "    <tr>\n",
       "      <th>TotalCharges</th>\n",
       "      <td>7032.0</td>\n",
       "      <td>2283.300441</td>\n",
       "      <td>2266.771362</td>\n",
       "      <td>18.8</td>\n",
       "      <td>401.45</td>\n",
       "      <td>1397.475</td>\n",
       "      <td>3794.7375</td>\n",
       "      <td>8684.8</td>\n",
       "    </tr>\n",
       "  </tbody>\n",
       "</table>\n",
       "</div>"
      ],
      "text/plain": [
       "                 count         mean          std    min     25%       50%  \\\n",
       "SeniorCitizen   7043.0     0.162147     0.368612    0.0     0.0       0.0   \n",
       "tenure          7043.0    32.371149    24.559481    0.0     9.0      29.0   \n",
       "MonthlyCharges  7043.0    64.761692    30.090047  18.25    35.5     70.35   \n",
       "TotalCharges    7032.0  2283.300441  2266.771362   18.8  401.45  1397.475   \n",
       "\n",
       "                      75%     max  \n",
       "SeniorCitizen         0.0     1.0  \n",
       "tenure               55.0    72.0  \n",
       "MonthlyCharges      89.85  118.75  \n",
       "TotalCharges    3794.7375  8684.8  "
      ]
     },
     "execution_count": 51,
     "metadata": {},
     "output_type": "execute_result"
    }
   ],
   "source": [
    "data.describe().T"
   ]
  },
  {
   "cell_type": "markdown",
   "id": "2426a78c-e2a2-4f2e-bd0b-d64be6ff35e9",
   "metadata": {},
   "source": [
    "#### Explanation\n",
    "##### Quartiles:\n",
    "- **25% (First Quartile)**: (The value below which 25% of the observations may be found)\n",
    "\n",
    "  - if  **25.1** under “No” and **56.15** under “Yes,” it means:\n",
    "    - Among customers who did not churn (`Churn == No`), 25% pay **\\$25.10** or less per month.\n",
    "    - Among customers who did churn (`Churn == Yes`), 25% pay **\\$56.15** or less per month.\n",
    "\n",
    "<hr>\n",
    "\n",
    "-  **50% (Median)**: (The middle value—50% of the observations lie below and 50% lie above)\n",
    "\n",
    "  - If  **64.425** under “No” and **79.65** under “Yes,” it means:\n",
    "    - For non-churning customers, the median monthly charge is **\\$64.43**.\n",
    "    - For churning customers, the median monthly charge is **\\$79.65**.\n",
    "\n",
    "<hr>\n",
    "\n",
    "-  **75% (Third Quartile)**: (The value below which 75% of the observations may be found)\n",
    "\n",
    "  - If  **88.4** under “No” and **94.2** under “Yes,” it means:\n",
    "    - Among non-churners, 75% pay **\\$88.40** or less per month.\n",
    "    - Among churners, 75% pay **\\$94.20** or less per month.\n",
    "\n",
    "the quantiles suggest that customers who churn might have higher monthly charges, since all quartile values (25%, 50%, and 75%) are greater for the “Yes” (churn) group compared to the “No” group.\n"
   ]
  },
  {
   "cell_type": "markdown",
   "id": "54d0eec9-8301-4178-adb9-ad2d6e63754f",
   "metadata": {},
   "source": [
    "### ***Do customers with shorter tenure have higher churn rates?***"
   ]
  },
  {
   "cell_type": "code",
   "execution_count": 76,
   "id": "709b2ef0-0bac-4ee5-9d67-aa744f2203d6",
   "metadata": {},
   "outputs": [
    {
     "data": {
      "text/plain": [
       "Churn\n",
       "No     72\n",
       "Yes    72\n",
       "Name: tenure, dtype: int64"
      ]
     },
     "execution_count": 76,
     "metadata": {},
     "output_type": "execute_result"
    }
   ],
   "source": [
    "data.groupby('Churn')['tenure'].max()\n",
    "#churners = data[data['Churn'] == 'Yes']\n",
    "#non_churners = data[data['Churn'] == 'No']\n",
    "#print(f\"{len(churners)} churners and {len(non_churners)} Non-churners\")"
   ]
  },
  {
   "cell_type": "code",
   "execution_count": 69,
   "id": "f1fcc809-b60e-4cb7-92f3-9cfd33e9aaa5",
   "metadata": {},
   "outputs": [
    {
     "data": {
      "text/plain": [
       "Churn\n",
       "No     0\n",
       "Yes    1\n",
       "Name: tenure, dtype: int64"
      ]
     },
     "execution_count": 69,
     "metadata": {},
     "output_type": "execute_result"
    }
   ],
   "source": [
    "data.groupby('Churn')['tenure'].min()"
   ]
  },
  {
   "cell_type": "code",
   "execution_count": 77,
   "id": "aeb2ecc4-5718-49e7-acaa-e96629ec44f1",
   "metadata": {},
   "outputs": [
    {
     "data": {
      "text/plain": [
       "Churn\n",
       "No     37.569965\n",
       "Yes    17.979133\n",
       "Name: tenure, dtype: float64"
      ]
     },
     "execution_count": 77,
     "metadata": {},
     "output_type": "execute_result"
    }
   ],
   "source": [
    "data.groupby('Churn')['tenure'].mean()"
   ]
  },
  {
   "cell_type": "code",
   "execution_count": 34,
   "id": "6245a84f-d8d8-4566-bed2-521f34ed5b1c",
   "metadata": {},
   "outputs": [
    {
     "data": {
      "image/png": "[encoded data removed]",
      "text/plain": [
       "<Figure size 640x480 with 1 Axes>"
      ]
     },
     "metadata": {},
     "output_type": "display_data"
    }
   ],
   "source": [
    "sns.boxplot(x='Churn', y='tenure', data=data)\n",
    "plt.title('Tenure Distribution by Churn')\n",
    "plt.show()"
   ]
  },
  {
   "cell_type": "code",
   "execution_count": 36,
   "id": "48f2b046-55fe-4701-8058-13fa1d313404",
   "metadata": {},
   "outputs": [
    {
     "data": {
      "text/html": [
       "<div>\n",
       "<style scoped>\n",
       "    .dataframe tbody tr th:only-of-type {\n",
       "        vertical-align: middle;\n",
       "    }\n",
       "\n",
       "    .dataframe tbody tr th {\n",
       "        vertical-align: top;\n",
       "    }\n",
       "\n",
       "    .dataframe thead th {\n",
       "        text-align: right;\n",
       "    }\n",
       "</style>\n",
       "<table border=\"1\" class=\"dataframe\">\n",
       "  <thead>\n",
       "    <tr style=\"text-align: right;\">\n",
       "      <th></th>\n",
       "      <th>Churn</th>\n",
       "      <th>No</th>\n",
       "      <th>Yes</th>\n",
       "    </tr>\n",
       "  </thead>\n",
       "  <tbody>\n",
       "    <tr>\n",
       "      <th rowspan=\"8\" valign=\"top\">tenure</th>\n",
       "      <th>count</th>\n",
       "      <td>5174.000000</td>\n",
       "      <td>1869.000000</td>\n",
       "    </tr>\n",
       "    <tr>\n",
       "      <th>mean</th>\n",
       "      <td>37.569965</td>\n",
       "      <td>17.979133</td>\n",
       "    </tr>\n",
       "    <tr>\n",
       "      <th>std</th>\n",
       "      <td>24.113777</td>\n",
       "      <td>19.531123</td>\n",
       "    </tr>\n",
       "    <tr>\n",
       "      <th>min</th>\n",
       "      <td>0.000000</td>\n",
       "      <td>1.000000</td>\n",
       "    </tr>\n",
       "    <tr>\n",
       "      <th>25%</th>\n",
       "      <td>15.000000</td>\n",
       "      <td>2.000000</td>\n",
       "    </tr>\n",
       "    <tr>\n",
       "      <th>50%</th>\n",
       "      <td>38.000000</td>\n",
       "      <td>10.000000</td>\n",
       "    </tr>\n",
       "    <tr>\n",
       "      <th>75%</th>\n",
       "      <td>61.000000</td>\n",
       "      <td>29.000000</td>\n",
       "    </tr>\n",
       "    <tr>\n",
       "      <th>max</th>\n",
       "      <td>72.000000</td>\n",
       "      <td>72.000000</td>\n",
       "    </tr>\n",
       "  </tbody>\n",
       "</table>\n",
       "</div>"
      ],
      "text/plain": [
       "Churn                  No          Yes\n",
       "tenure count  5174.000000  1869.000000\n",
       "       mean     37.569965    17.979133\n",
       "       std      24.113777    19.531123\n",
       "       min       0.000000     1.000000\n",
       "       25%      15.000000     2.000000\n",
       "       50%      38.000000    10.000000\n",
       "       75%      61.000000    29.000000\n",
       "       max      72.000000    72.000000"
      ]
     },
     "execution_count": 36,
     "metadata": {},
     "output_type": "execute_result"
    }
   ],
   "source": [
    "data.groupby('Churn')[['tenure']].describe().T"
   ]
  },
  {
   "cell_type": "markdown",
   "id": "037fc898-84b1-451b-865a-03bb0fb13e59",
   "metadata": {},
   "source": [
    "<p>The average Number of months that a customer has stayed with the company before churn is 18 months</p>\n",
    "<br>\n",
    "<p>Customers who stay (Churn = No) have a much longer average tenure (38 months) </p>                                      \n",
    "<p>than those who leave (Churn = Yes), who only stay on average 18 months</p>"
   ]
  },
  {
   "cell_type": "code",
   "execution_count": 37,
   "id": "0e0cdd60-0b4a-47d6-9478-320c1f1ca158",
   "metadata": {},
   "outputs": [
    {
     "data": {
      "text/html": [
       "<div>\n",
       "<style scoped>\n",
       "    .dataframe tbody tr th:only-of-type {\n",
       "        vertical-align: middle;\n",
       "    }\n",
       "\n",
       "    .dataframe tbody tr th {\n",
       "        vertical-align: top;\n",
       "    }\n",
       "\n",
       "    .dataframe thead th {\n",
       "        text-align: right;\n",
       "    }\n",
       "</style>\n",
       "<table border=\"1\" class=\"dataframe\">\n",
       "  <thead>\n",
       "    <tr style=\"text-align: right;\">\n",
       "      <th>Churn</th>\n",
       "      <th>No</th>\n",
       "      <th>Yes</th>\n",
       "    </tr>\n",
       "  </thead>\n",
       "  <tbody>\n",
       "    <tr>\n",
       "      <th>count</th>\n",
       "      <td>5174.000000</td>\n",
       "      <td>1869.000000</td>\n",
       "    </tr>\n",
       "    <tr>\n",
       "      <th>mean</th>\n",
       "      <td>61.265124</td>\n",
       "      <td>74.441332</td>\n",
       "    </tr>\n",
       "    <tr>\n",
       "      <th>std</th>\n",
       "      <td>31.092648</td>\n",
       "      <td>24.666053</td>\n",
       "    </tr>\n",
       "    <tr>\n",
       "      <th>min</th>\n",
       "      <td>18.250000</td>\n",
       "      <td>18.850000</td>\n",
       "    </tr>\n",
       "    <tr>\n",
       "      <th>25%</th>\n",
       "      <td>25.100000</td>\n",
       "      <td>56.150000</td>\n",
       "    </tr>\n",
       "    <tr>\n",
       "      <th>50%</th>\n",
       "      <td>64.425000</td>\n",
       "      <td>79.650000</td>\n",
       "    </tr>\n",
       "    <tr>\n",
       "      <th>75%</th>\n",
       "      <td>88.400000</td>\n",
       "      <td>94.200000</td>\n",
       "    </tr>\n",
       "    <tr>\n",
       "      <th>max</th>\n",
       "      <td>118.750000</td>\n",
       "      <td>118.350000</td>\n",
       "    </tr>\n",
       "  </tbody>\n",
       "</table>\n",
       "</div>"
      ],
      "text/plain": [
       "Churn           No          Yes\n",
       "count  5174.000000  1869.000000\n",
       "mean     61.265124    74.441332\n",
       "std      31.092648    24.666053\n",
       "min      18.250000    18.850000\n",
       "25%      25.100000    56.150000\n",
       "50%      64.425000    79.650000\n",
       "75%      88.400000    94.200000\n",
       "max     118.750000   118.350000"
      ]
     },
     "execution_count": 37,
     "metadata": {},
     "output_type": "execute_result"
    }
   ],
   "source": [
    "data.groupby('Churn')['MonthlyCharges'].describe().T"
   ]
  },
  {
   "cell_type": "markdown",
   "id": "e407e2d5-132f-4b66-a593-47eedc48c15f",
   "metadata": {},
   "source": [
    "Count - There are more non-churners than churners in the dataset.\n",
    "\n",
    "Mean  - Churners pay 13 USD more per month on average than non-churners. *this gap suggests that higher bills may be a factor to churn.\n",
    "\n",
    "Std\t  - Non-churners have a wider range of monthly charges; churners’ charges vary less. indicating more variety in how much Non-churners pay\n",
    "\n",
    "Min\t  - Both groups can have relatively low charges (around 18–19 USD).\n",
    "\n",
    "25%\t  - of non-churners pay less than 25.10, while 25% of churners pay more than 56.15. (Big difference). \n",
    "\n",
    "50%   - The median churner pays significantly more monthly than the median non-churner.\n",
    "\n",
    "75%\t  - In the upper quartile, churners still pay a bit more per month.\n",
    "\n",
    "Max\t  - The maximum monthly charge is similar in both groups.\n",
    "____________________________________________________________________________________________________________________________________________________\n",
    "Customers who pay more per month are with higher probability to churn, \n",
    "\n",
    "higher monthly charges correlate with higher churn rates.\n",
    "\n",
    "Among customers who did not churn (Churn == No), 25% pay $25.10 or less per month.\n",
    "\n",
    "Among customers who did churn (Churn == Yes), 25% pay $56.15 or less per month."
   ]
  },
  {
   "cell_type": "markdown",
   "id": "4663c50f-e465-4d44-b30f-aee976396a43",
   "metadata": {},
   "source": [
    "### - ***Do customers with longer period contracts churn less? / do customers with short period contract churn more?***\n",
    "### - ***Churn vs. Contract***"
   ]
  },
  {
   "cell_type": "code",
   "execution_count": 46,
   "id": "fc573ff5-3a3c-4782-b698-518cbb29e7c2",
   "metadata": {},
   "outputs": [
    {
     "data": {
      "text/html": [
       "<div>\n",
       "<style scoped>\n",
       "    .dataframe tbody tr th:only-of-type {\n",
       "        vertical-align: middle;\n",
       "    }\n",
       "\n",
       "    .dataframe tbody tr th {\n",
       "        vertical-align: top;\n",
       "    }\n",
       "\n",
       "    .dataframe thead th {\n",
       "        text-align: right;\n",
       "    }\n",
       "</style>\n",
       "<table border=\"1\" class=\"dataframe\">\n",
       "  <thead>\n",
       "    <tr style=\"text-align: right;\">\n",
       "      <th>Churn</th>\n",
       "      <th>No</th>\n",
       "      <th>Yes</th>\n",
       "    </tr>\n",
       "    <tr>\n",
       "      <th>Contract</th>\n",
       "      <th></th>\n",
       "      <th></th>\n",
       "    </tr>\n",
       "  </thead>\n",
       "  <tbody>\n",
       "    <tr>\n",
       "      <th>Month-to-month</th>\n",
       "      <td>0.572903</td>\n",
       "      <td>0.427097</td>\n",
       "    </tr>\n",
       "    <tr>\n",
       "      <th>One year</th>\n",
       "      <td>0.887305</td>\n",
       "      <td>0.112695</td>\n",
       "    </tr>\n",
       "    <tr>\n",
       "      <th>Two year</th>\n",
       "      <td>0.971681</td>\n",
       "      <td>0.028319</td>\n",
       "    </tr>\n",
       "  </tbody>\n",
       "</table>\n",
       "</div>"
      ],
      "text/plain": [
       "Churn                 No       Yes\n",
       "Contract                          \n",
       "Month-to-month  0.572903  0.427097\n",
       "One year        0.887305  0.112695\n",
       "Two year        0.971681  0.028319"
      ]
     },
     "execution_count": 46,
     "metadata": {},
     "output_type": "execute_result"
    }
   ],
   "source": [
    "# percentage (normalize='index')\n",
    "pd.crosstab(data['Contract'], data['Churn'], normalize='index') "
   ]
  },
  {
   "cell_type": "code",
   "execution_count": 45,
   "id": "82beaf10-7f38-470f-b8fe-3b79cb71e65b",
   "metadata": {},
   "outputs": [
    {
     "data": {
      "text/html": [
       "<div>\n",
       "<style scoped>\n",
       "    .dataframe tbody tr th:only-of-type {\n",
       "        vertical-align: middle;\n",
       "    }\n",
       "\n",
       "    .dataframe tbody tr th {\n",
       "        vertical-align: top;\n",
       "    }\n",
       "\n",
       "    .dataframe thead th {\n",
       "        text-align: right;\n",
       "    }\n",
       "</style>\n",
       "<table border=\"1\" class=\"dataframe\">\n",
       "  <thead>\n",
       "    <tr style=\"text-align: right;\">\n",
       "      <th>Churn</th>\n",
       "      <th>No</th>\n",
       "      <th>Yes</th>\n",
       "    </tr>\n",
       "    <tr>\n",
       "      <th>Contract</th>\n",
       "      <th></th>\n",
       "      <th></th>\n",
       "    </tr>\n",
       "  </thead>\n",
       "  <tbody>\n",
       "    <tr>\n",
       "      <th>Month-to-month</th>\n",
       "      <td>2220</td>\n",
       "      <td>1655</td>\n",
       "    </tr>\n",
       "    <tr>\n",
       "      <th>One year</th>\n",
       "      <td>1307</td>\n",
       "      <td>166</td>\n",
       "    </tr>\n",
       "    <tr>\n",
       "      <th>Two year</th>\n",
       "      <td>1647</td>\n",
       "      <td>48</td>\n",
       "    </tr>\n",
       "  </tbody>\n",
       "</table>\n",
       "</div>"
      ],
      "text/plain": [
       "Churn             No   Yes\n",
       "Contract                  \n",
       "Month-to-month  2220  1655\n",
       "One year        1307   166\n",
       "Two year        1647    48"
      ]
     },
     "execution_count": 45,
     "metadata": {},
     "output_type": "execute_result"
    }
   ],
   "source": [
    "pd.crosstab(data['Contract'], data['Churn'])"
   ]
  },
  {
   "cell_type": "markdown",
   "id": "70fc97aa-3f3a-4264-99a8-303ccce437de",
   "metadata": {},
   "source": [
    "<p>Month-to-Month payers - 57% stays, 43%  churn</p>\n",
    "<p>One year payers -  89% stays, 11%  churn</p>\n",
    "<p>Two years payers - 97% stays, 3% churn</p>\n",
    "\n",
    "- Month-to-month customers have the highest churn rate, maby because thay got less barriers to cancel\n",
    "  Shorter contract = higher churn "
   ]
  },
  {
   "cell_type": "markdown",
   "id": "cce50700-1047-446f-a481-2cd8caa8b725",
   "metadata": {},
   "source": [
    "### Do payment methods affect customer churn?\n",
    "## ***Churn vs. PaymentMethod***"
   ]
  },
  {
   "cell_type": "code",
   "execution_count": 47,
   "id": "d1c45d91-3c30-446e-b027-fa59b5a96f21",
   "metadata": {},
   "outputs": [
    {
     "data": {
      "text/html": [
       "<div>\n",
       "<style scoped>\n",
       "    .dataframe tbody tr th:only-of-type {\n",
       "        vertical-align: middle;\n",
       "    }\n",
       "\n",
       "    .dataframe tbody tr th {\n",
       "        vertical-align: top;\n",
       "    }\n",
       "\n",
       "    .dataframe thead th {\n",
       "        text-align: right;\n",
       "    }\n",
       "</style>\n",
       "<table border=\"1\" class=\"dataframe\">\n",
       "  <thead>\n",
       "    <tr style=\"text-align: right;\">\n",
       "      <th>Churn</th>\n",
       "      <th>No</th>\n",
       "      <th>Yes</th>\n",
       "    </tr>\n",
       "    <tr>\n",
       "      <th>PaymentMethod</th>\n",
       "      <th></th>\n",
       "      <th></th>\n",
       "    </tr>\n",
       "  </thead>\n",
       "  <tbody>\n",
       "    <tr>\n",
       "      <th>Bank transfer (automatic)</th>\n",
       "      <td>0.832902</td>\n",
       "      <td>0.167098</td>\n",
       "    </tr>\n",
       "    <tr>\n",
       "      <th>Credit card (automatic)</th>\n",
       "      <td>0.847569</td>\n",
       "      <td>0.152431</td>\n",
       "    </tr>\n",
       "    <tr>\n",
       "      <th>Electronic check</th>\n",
       "      <td>0.547146</td>\n",
       "      <td>0.452854</td>\n",
       "    </tr>\n",
       "    <tr>\n",
       "      <th>Mailed check</th>\n",
       "      <td>0.808933</td>\n",
       "      <td>0.191067</td>\n",
       "    </tr>\n",
       "  </tbody>\n",
       "</table>\n",
       "</div>"
      ],
      "text/plain": [
       "Churn                            No       Yes\n",
       "PaymentMethod                                \n",
       "Bank transfer (automatic)  0.832902  0.167098\n",
       "Credit card (automatic)    0.847569  0.152431\n",
       "Electronic check           0.547146  0.452854\n",
       "Mailed check               0.808933  0.191067"
      ]
     },
     "execution_count": 47,
     "metadata": {},
     "output_type": "execute_result"
    }
   ],
   "source": [
    "# percentage (normalize='index')\n",
    "pd.crosstab(data['PaymentMethod'], data['Churn'], normalize='index') "
   ]
  },
  {
   "cell_type": "code",
   "execution_count": 48,
   "id": "5329864a-0cea-4e16-9ec9-53e663b6af82",
   "metadata": {},
   "outputs": [
    {
     "data": {
      "text/html": [
       "<div>\n",
       "<style scoped>\n",
       "    .dataframe tbody tr th:only-of-type {\n",
       "        vertical-align: middle;\n",
       "    }\n",
       "\n",
       "    .dataframe tbody tr th {\n",
       "        vertical-align: top;\n",
       "    }\n",
       "\n",
       "    .dataframe thead th {\n",
       "        text-align: right;\n",
       "    }\n",
       "</style>\n",
       "<table border=\"1\" class=\"dataframe\">\n",
       "  <thead>\n",
       "    <tr style=\"text-align: right;\">\n",
       "      <th>Churn</th>\n",
       "      <th>No</th>\n",
       "      <th>Yes</th>\n",
       "    </tr>\n",
       "    <tr>\n",
       "      <th>PaymentMethod</th>\n",
       "      <th></th>\n",
       "      <th></th>\n",
       "    </tr>\n",
       "  </thead>\n",
       "  <tbody>\n",
       "    <tr>\n",
       "      <th>Bank transfer (automatic)</th>\n",
       "      <td>1286</td>\n",
       "      <td>258</td>\n",
       "    </tr>\n",
       "    <tr>\n",
       "      <th>Credit card (automatic)</th>\n",
       "      <td>1290</td>\n",
       "      <td>232</td>\n",
       "    </tr>\n",
       "    <tr>\n",
       "      <th>Electronic check</th>\n",
       "      <td>1294</td>\n",
       "      <td>1071</td>\n",
       "    </tr>\n",
       "    <tr>\n",
       "      <th>Mailed check</th>\n",
       "      <td>1304</td>\n",
       "      <td>308</td>\n",
       "    </tr>\n",
       "  </tbody>\n",
       "</table>\n",
       "</div>"
      ],
      "text/plain": [
       "Churn                        No   Yes\n",
       "PaymentMethod                        \n",
       "Bank transfer (automatic)  1286   258\n",
       "Credit card (automatic)    1290   232\n",
       "Electronic check           1294  1071\n",
       "Mailed check               1304   308"
      ]
     },
     "execution_count": 48,
     "metadata": {},
     "output_type": "execute_result"
    }
   ],
   "source": [
    "pd.crosstab(data['PaymentMethod'], data['Churn'])"
   ]
  },
  {
   "cell_type": "markdown",
   "id": "a4ba6b35-f893-489a-985a-b005850fcaeb",
   "metadata": {},
   "source": [
    " - clearly Electronic check has the highest churn rate (45%)\n",
    "#### asuumbtions:\n",
    " - maby this customer are more alert for each monthly payment\n",
    " - and on month-to-monthe it easier to cancel as we already saw\n",
    " - customer that are more digital oriented might follow their payments more efficient\n",
    "\n",
    " - while the rest of the payment method has 15% to 19% churn rate\n",
    "#### asuumbtions:\n",
    "this could be because it is more convenience or this type of payments are get checked less (among other bills in the payment card)\n",
    "more like \"set payment once and forget about it\" approch \n"
   ]
  },
  {
   "cell_type": "markdown",
   "id": "8c4ff6a8-16a3-4581-b385-a890757a40e6",
   "metadata": {},
   "source": [
    "### Does Paperless Billing affect customers churn?\n",
    "## ***Churn vs. PaperlessBilling***"
   ]
  },
  {
   "cell_type": "code",
   "execution_count": 50,
   "id": "9e78266d-c615-424f-aa74-62178cc4c9eb",
   "metadata": {},
   "outputs": [
    {
     "data": {
      "text/html": [
       "<div>\n",
       "<style scoped>\n",
       "    .dataframe tbody tr th:only-of-type {\n",
       "        vertical-align: middle;\n",
       "    }\n",
       "\n",
       "    .dataframe tbody tr th {\n",
       "        vertical-align: top;\n",
       "    }\n",
       "\n",
       "    .dataframe thead th {\n",
       "        text-align: right;\n",
       "    }\n",
       "</style>\n",
       "<table border=\"1\" class=\"dataframe\">\n",
       "  <thead>\n",
       "    <tr style=\"text-align: right;\">\n",
       "      <th>Churn</th>\n",
       "      <th>No</th>\n",
       "      <th>Yes</th>\n",
       "    </tr>\n",
       "    <tr>\n",
       "      <th>PaperlessBilling</th>\n",
       "      <th></th>\n",
       "      <th></th>\n",
       "    </tr>\n",
       "  </thead>\n",
       "  <tbody>\n",
       "    <tr>\n",
       "      <th>No</th>\n",
       "      <td>0.836699</td>\n",
       "      <td>0.163301</td>\n",
       "    </tr>\n",
       "    <tr>\n",
       "      <th>Yes</th>\n",
       "      <td>0.664349</td>\n",
       "      <td>0.335651</td>\n",
       "    </tr>\n",
       "  </tbody>\n",
       "</table>\n",
       "</div>"
      ],
      "text/plain": [
       "Churn                   No       Yes\n",
       "PaperlessBilling                    \n",
       "No                0.836699  0.163301\n",
       "Yes               0.664349  0.335651"
      ]
     },
     "execution_count": 50,
     "metadata": {},
     "output_type": "execute_result"
    }
   ],
   "source": [
    "# percentage (normalize='index')\n",
    "pd.crosstab(data['PaperlessBilling'], data['Churn'], normalize='index')"
   ]
  },
  {
   "cell_type": "code",
   "execution_count": 51,
   "id": "223dd62c-a242-4a6f-be44-5c77be5dc3c6",
   "metadata": {},
   "outputs": [
    {
     "data": {
      "text/html": [
       "<div>\n",
       "<style scoped>\n",
       "    .dataframe tbody tr th:only-of-type {\n",
       "        vertical-align: middle;\n",
       "    }\n",
       "\n",
       "    .dataframe tbody tr th {\n",
       "        vertical-align: top;\n",
       "    }\n",
       "\n",
       "    .dataframe thead th {\n",
       "        text-align: right;\n",
       "    }\n",
       "</style>\n",
       "<table border=\"1\" class=\"dataframe\">\n",
       "  <thead>\n",
       "    <tr style=\"text-align: right;\">\n",
       "      <th>Churn</th>\n",
       "      <th>No</th>\n",
       "      <th>Yes</th>\n",
       "    </tr>\n",
       "    <tr>\n",
       "      <th>PaperlessBilling</th>\n",
       "      <th></th>\n",
       "      <th></th>\n",
       "    </tr>\n",
       "  </thead>\n",
       "  <tbody>\n",
       "    <tr>\n",
       "      <th>No</th>\n",
       "      <td>2403</td>\n",
       "      <td>469</td>\n",
       "    </tr>\n",
       "    <tr>\n",
       "      <th>Yes</th>\n",
       "      <td>2771</td>\n",
       "      <td>1400</td>\n",
       "    </tr>\n",
       "  </tbody>\n",
       "</table>\n",
       "</div>"
      ],
      "text/plain": [
       "Churn               No   Yes\n",
       "PaperlessBilling            \n",
       "No                2403   469\n",
       "Yes               2771  1400"
      ]
     },
     "execution_count": 51,
     "metadata": {},
     "output_type": "execute_result"
    }
   ],
   "source": [
    "pd.crosstab(data['PaperlessBilling'], data['Churn'])"
   ]
  },
  {
   "cell_type": "markdown",
   "id": "fb583f01-c8bd-46c7-a2ce-f6b066aab3a6",
   "metadata": {},
   "source": [
    "##### The churn rate is double (16% vs 34%) for customers that has paperless billing\n",
    "- maby the customers that have the paperless billing get the bill by email or other digital way \n",
    "  and they might follow their payments more efficient\n",
    "- it might be demographic difference like younger vs older - older people prefer the paper billing and younger the paperless billing\n",
    "  Older people are less likely to change their service provider frequently, and have a harder time dealing with bureaucracy and the opossite for          younger people\n",
    "\n",
    "- On the other hand, people with a paperless account might be less aware of their bills (the opossite of what I claimed so far) \n",
    "  than people with a paper account, and when an incorrect charge occurs, it may cause them to become frustrated and churn.\n"
   ]
  },
  {
   "cell_type": "markdown",
   "id": "4d05b8e1-a273-462b-ac92-0dfdc8d7a809",
   "metadata": {},
   "source": [
    "### Which internet service type has the highest churn rate?\n",
    "## ***Churn vs. InternetService Type***"
   ]
  },
  {
   "cell_type": "code",
   "execution_count": 53,
   "id": "07015fd7-3211-4b85-9304-ef3069270304",
   "metadata": {},
   "outputs": [
    {
     "data": {
      "text/html": [
       "<div>\n",
       "<style scoped>\n",
       "    .dataframe tbody tr th:only-of-type {\n",
       "        vertical-align: middle;\n",
       "    }\n",
       "\n",
       "    .dataframe tbody tr th {\n",
       "        vertical-align: top;\n",
       "    }\n",
       "\n",
       "    .dataframe thead th {\n",
       "        text-align: right;\n",
       "    }\n",
       "</style>\n",
       "<table border=\"1\" class=\"dataframe\">\n",
       "  <thead>\n",
       "    <tr style=\"text-align: right;\">\n",
       "      <th>Churn</th>\n",
       "      <th>No</th>\n",
       "      <th>Yes</th>\n",
       "    </tr>\n",
       "    <tr>\n",
       "      <th>InternetService</th>\n",
       "      <th></th>\n",
       "      <th></th>\n",
       "    </tr>\n",
       "  </thead>\n",
       "  <tbody>\n",
       "    <tr>\n",
       "      <th>DSL</th>\n",
       "      <td>0.810409</td>\n",
       "      <td>0.189591</td>\n",
       "    </tr>\n",
       "    <tr>\n",
       "      <th>Fiber optic</th>\n",
       "      <td>0.581072</td>\n",
       "      <td>0.418928</td>\n",
       "    </tr>\n",
       "    <tr>\n",
       "      <th>No</th>\n",
       "      <td>0.925950</td>\n",
       "      <td>0.074050</td>\n",
       "    </tr>\n",
       "  </tbody>\n",
       "</table>\n",
       "</div>"
      ],
      "text/plain": [
       "Churn                  No       Yes\n",
       "InternetService                    \n",
       "DSL              0.810409  0.189591\n",
       "Fiber optic      0.581072  0.418928\n",
       "No               0.925950  0.074050"
      ]
     },
     "execution_count": 53,
     "metadata": {},
     "output_type": "execute_result"
    }
   ],
   "source": [
    "# percentage (normalize='index')\n",
    "pd.crosstab(data['InternetService'], data['Churn'], normalize='index')"
   ]
  },
  {
   "cell_type": "code",
   "execution_count": 54,
   "id": "a75bb6d7-c04f-4f06-8adf-a02157b7e4e4",
   "metadata": {},
   "outputs": [
    {
     "data": {
      "text/html": [
       "<div>\n",
       "<style scoped>\n",
       "    .dataframe tbody tr th:only-of-type {\n",
       "        vertical-align: middle;\n",
       "    }\n",
       "\n",
       "    .dataframe tbody tr th {\n",
       "        vertical-align: top;\n",
       "    }\n",
       "\n",
       "    .dataframe thead th {\n",
       "        text-align: right;\n",
       "    }\n",
       "</style>\n",
       "<table border=\"1\" class=\"dataframe\">\n",
       "  <thead>\n",
       "    <tr style=\"text-align: right;\">\n",
       "      <th>Churn</th>\n",
       "      <th>No</th>\n",
       "      <th>Yes</th>\n",
       "    </tr>\n",
       "    <tr>\n",
       "      <th>InternetService</th>\n",
       "      <th></th>\n",
       "      <th></th>\n",
       "    </tr>\n",
       "  </thead>\n",
       "  <tbody>\n",
       "    <tr>\n",
       "      <th>DSL</th>\n",
       "      <td>1962</td>\n",
       "      <td>459</td>\n",
       "    </tr>\n",
       "    <tr>\n",
       "      <th>Fiber optic</th>\n",
       "      <td>1799</td>\n",
       "      <td>1297</td>\n",
       "    </tr>\n",
       "    <tr>\n",
       "      <th>No</th>\n",
       "      <td>1413</td>\n",
       "      <td>113</td>\n",
       "    </tr>\n",
       "  </tbody>\n",
       "</table>\n",
       "</div>"
      ],
      "text/plain": [
       "Churn              No   Yes\n",
       "InternetService            \n",
       "DSL              1962   459\n",
       "Fiber optic      1799  1297\n",
       "No               1413   113"
      ]
     },
     "execution_count": 54,
     "metadata": {},
     "output_type": "execute_result"
    }
   ],
   "source": [
    "pd.crosstab(data['InternetService'], data['Churn'])"
   ]
  },
  {
   "cell_type": "markdown",
   "id": "b0ce83fc-3c73-4686-8610-04b6cdb46e9d",
   "metadata": {},
   "source": [
    "- DSL has 19% churn rate\n",
    "- Fiber optic have 42% churn rate\n",
    "- No Internet 7.5% churn rate\n",
    "\n",
    "##### Fiber optic have the highes churn rate, indicate that:\n",
    "- higher costs for fiber leads to churn\n",
    "- the expectation from that service package (FIBER are better) leads to disappointment \n",
    "- competitive market for faster internet might lead to switching providers with bettr offers"
   ]
  },
  {
   "cell_type": "markdown",
   "id": "3b684d51-002f-416f-872b-3847b342cbc3",
   "metadata": {},
   "source": [
    "### Do senior citizens have a higher churn rate?\n",
    "## ***Churn vs. SeniorCitizen***"
   ]
  },
  {
   "cell_type": "code",
   "execution_count": 55,
   "id": "15548fe0-be90-4856-9117-9654365bf9e6",
   "metadata": {},
   "outputs": [
    {
     "data": {
      "text/html": [
       "<div>\n",
       "<style scoped>\n",
       "    .dataframe tbody tr th:only-of-type {\n",
       "        vertical-align: middle;\n",
       "    }\n",
       "\n",
       "    .dataframe tbody tr th {\n",
       "        vertical-align: top;\n",
       "    }\n",
       "\n",
       "    .dataframe thead th {\n",
       "        text-align: right;\n",
       "    }\n",
       "</style>\n",
       "<table border=\"1\" class=\"dataframe\">\n",
       "  <thead>\n",
       "    <tr style=\"text-align: right;\">\n",
       "      <th>Churn</th>\n",
       "      <th>No</th>\n",
       "      <th>Yes</th>\n",
       "    </tr>\n",
       "    <tr>\n",
       "      <th>SeniorCitizen</th>\n",
       "      <th></th>\n",
       "      <th></th>\n",
       "    </tr>\n",
       "  </thead>\n",
       "  <tbody>\n",
       "    <tr>\n",
       "      <th>0</th>\n",
       "      <td>0.763938</td>\n",
       "      <td>0.236062</td>\n",
       "    </tr>\n",
       "    <tr>\n",
       "      <th>1</th>\n",
       "      <td>0.583187</td>\n",
       "      <td>0.416813</td>\n",
       "    </tr>\n",
       "  </tbody>\n",
       "</table>\n",
       "</div>"
      ],
      "text/plain": [
       "Churn                No       Yes\n",
       "SeniorCitizen                    \n",
       "0              0.763938  0.236062\n",
       "1              0.583187  0.416813"
      ]
     },
     "execution_count": 55,
     "metadata": {},
     "output_type": "execute_result"
    }
   ],
   "source": [
    "# percentage (normalize='index')\n",
    "pd.crosstab(data['SeniorCitizen'], data['Churn'], normalize='index')"
   ]
  },
  {
   "cell_type": "code",
   "execution_count": 57,
   "id": "c57c71d8-943f-4000-b9e6-a311ea426be1",
   "metadata": {},
   "outputs": [
    {
     "data": {
      "text/html": [
       "<div>\n",
       "<style scoped>\n",
       "    .dataframe tbody tr th:only-of-type {\n",
       "        vertical-align: middle;\n",
       "    }\n",
       "\n",
       "    .dataframe tbody tr th {\n",
       "        vertical-align: top;\n",
       "    }\n",
       "\n",
       "    .dataframe thead th {\n",
       "        text-align: right;\n",
       "    }\n",
       "</style>\n",
       "<table border=\"1\" class=\"dataframe\">\n",
       "  <thead>\n",
       "    <tr style=\"text-align: right;\">\n",
       "      <th>Churn</th>\n",
       "      <th>No</th>\n",
       "      <th>Yes</th>\n",
       "    </tr>\n",
       "    <tr>\n",
       "      <th>SeniorCitizen</th>\n",
       "      <th></th>\n",
       "      <th></th>\n",
       "    </tr>\n",
       "  </thead>\n",
       "  <tbody>\n",
       "    <tr>\n",
       "      <th>0</th>\n",
       "      <td>4508</td>\n",
       "      <td>1393</td>\n",
       "    </tr>\n",
       "    <tr>\n",
       "      <th>1</th>\n",
       "      <td>666</td>\n",
       "      <td>476</td>\n",
       "    </tr>\n",
       "  </tbody>\n",
       "</table>\n",
       "</div>"
      ],
      "text/plain": [
       "Churn            No   Yes\n",
       "SeniorCitizen            \n",
       "0              4508  1393\n",
       "1               666   476"
      ]
     },
     "execution_count": 57,
     "metadata": {},
     "output_type": "execute_result"
    }
   ],
   "source": [
    "pd.crosstab(data['SeniorCitizen'], data['Churn'])"
   ]
  },
  {
   "cell_type": "markdown",
   "id": "0b41660b-0a07-42cd-87a7-a7dbd256d043",
   "metadata": {},
   "source": [
    "##### that shows that senior citizens has higher churn rate (which is the opposite of the assumption I made so far)\n",
    "\n",
    "- Seniors might be more sensitive to price increases\n",
    "- they use less Tech services that they need to pay for\n",
    "- other providers that has senior citizens discounts or simpler plan package\n"
   ]
  },
  {
   "cell_type": "markdown",
   "id": "8289e82e-be98-4ff8-868e-01b9dc0d945b",
   "metadata": {},
   "source": [
    "### Do customers with partners have a higher churn rate?\n",
    "## ***Churn vs. Partner***"
   ]
  },
  {
   "cell_type": "code",
   "execution_count": 58,
   "id": "9b5edd99-b067-4370-98a3-208b9bcea5f7",
   "metadata": {},
   "outputs": [
    {
     "data": {
      "text/html": [
       "<div>\n",
       "<style scoped>\n",
       "    .dataframe tbody tr th:only-of-type {\n",
       "        vertical-align: middle;\n",
       "    }\n",
       "\n",
       "    .dataframe tbody tr th {\n",
       "        vertical-align: top;\n",
       "    }\n",
       "\n",
       "    .dataframe thead th {\n",
       "        text-align: right;\n",
       "    }\n",
       "</style>\n",
       "<table border=\"1\" class=\"dataframe\">\n",
       "  <thead>\n",
       "    <tr style=\"text-align: right;\">\n",
       "      <th>Churn</th>\n",
       "      <th>No</th>\n",
       "      <th>Yes</th>\n",
       "    </tr>\n",
       "    <tr>\n",
       "      <th>Partner</th>\n",
       "      <th></th>\n",
       "      <th></th>\n",
       "    </tr>\n",
       "  </thead>\n",
       "  <tbody>\n",
       "    <tr>\n",
       "      <th>No</th>\n",
       "      <td>0.670420</td>\n",
       "      <td>0.329580</td>\n",
       "    </tr>\n",
       "    <tr>\n",
       "      <th>Yes</th>\n",
       "      <td>0.803351</td>\n",
       "      <td>0.196649</td>\n",
       "    </tr>\n",
       "  </tbody>\n",
       "</table>\n",
       "</div>"
      ],
      "text/plain": [
       "Churn          No       Yes\n",
       "Partner                    \n",
       "No       0.670420  0.329580\n",
       "Yes      0.803351  0.196649"
      ]
     },
     "execution_count": 58,
     "metadata": {},
     "output_type": "execute_result"
    }
   ],
   "source": [
    "# percentage (normalize='index')\n",
    "pd.crosstab(data['Partner'], data['Churn'], normalize='index')"
   ]
  },
  {
   "cell_type": "code",
   "execution_count": 59,
   "id": "03750d5b-8ec7-4463-8332-93641b7d3e10",
   "metadata": {},
   "outputs": [
    {
     "data": {
      "text/html": [
       "<div>\n",
       "<style scoped>\n",
       "    .dataframe tbody tr th:only-of-type {\n",
       "        vertical-align: middle;\n",
       "    }\n",
       "\n",
       "    .dataframe tbody tr th {\n",
       "        vertical-align: top;\n",
       "    }\n",
       "\n",
       "    .dataframe thead th {\n",
       "        text-align: right;\n",
       "    }\n",
       "</style>\n",
       "<table border=\"1\" class=\"dataframe\">\n",
       "  <thead>\n",
       "    <tr style=\"text-align: right;\">\n",
       "      <th>Churn</th>\n",
       "      <th>No</th>\n",
       "      <th>Yes</th>\n",
       "    </tr>\n",
       "    <tr>\n",
       "      <th>Partner</th>\n",
       "      <th></th>\n",
       "      <th></th>\n",
       "    </tr>\n",
       "  </thead>\n",
       "  <tbody>\n",
       "    <tr>\n",
       "      <th>No</th>\n",
       "      <td>2441</td>\n",
       "      <td>1200</td>\n",
       "    </tr>\n",
       "    <tr>\n",
       "      <th>Yes</th>\n",
       "      <td>2733</td>\n",
       "      <td>669</td>\n",
       "    </tr>\n",
       "  </tbody>\n",
       "</table>\n",
       "</div>"
      ],
      "text/plain": [
       "Churn      No   Yes\n",
       "Partner            \n",
       "No       2441  1200\n",
       "Yes      2733   669"
      ]
     },
     "execution_count": 59,
     "metadata": {},
     "output_type": "execute_result"
    }
   ],
   "source": [
    "pd.crosstab(data['Partner'], data['Churn'])"
   ]
  },
  {
   "cell_type": "markdown",
   "id": "e743ef76-6e1b-4d18-b7aa-b1fbaf092ea1",
   "metadata": {},
   "source": [
    "##### Having a partner shows lower churn. This difference is shown (13%)\n",
    "- Customers with a partner may share bills or have more stable finances, less cancelation propbility\n",
    "- The more people depend on the service, the more complicated it is to cancel, the more bureaucracy and coordination with the partner\n"
   ]
  },
  {
   "cell_type": "markdown",
   "id": "bb3f995c-7a2e-4b61-9271-d1908958c3f2",
   "metadata": {},
   "source": [
    "## ***Crosstabs Visualization***"
   ]
  },
  {
   "cell_type": "code",
   "execution_count": 16,
   "id": "782d69df-1f1d-40ce-ac78-3499d30406e9",
   "metadata": {},
   "outputs": [
    {
     "data": {
      "image/png": "[encoded data removed]",
      "text/plain": [
       "<Figure size 600x400 with 1 Axes>"
      ]
     },
     "metadata": {},
     "output_type": "display_data"
    },
    {
     "data": {
      "image/png": "[encoded data removed]",
      "text/plain": [
       "<Figure size 600x400 with 1 Axes>"
      ]
     },
     "metadata": {},
     "output_type": "display_data"
    },
    {
     "data": {
      "image/png": "[encoded data removed]",
      "text/plain": [
       "<Figure size 600x400 with 1 Axes>"
      ]
     },
     "metadata": {},
     "output_type": "display_data"
    },
    {
     "data": {
      "image/png": "[encoded data removed]",
      "text/plain": [
       "<Figure size 600x400 with 1 Axes>"
      ]
     },
     "metadata": {},
     "output_type": "display_data"
    },
    {
     "data": {
      "image/png": "[encoded data removed]",
      "text/plain": [
       "<Figure size 600x400 with 1 Axes>"
      ]
     },
     "metadata": {},
     "output_type": "display_data"
    }
   ],
   "source": [
    "categorical_cols = ['Contract', 'PaymentMethod', 'PaperlessBilling', \n",
    "                    'InternetService', 'SeniorCitizen']\n",
    "\n",
    "for col in categorical_cols:\n",
    "    cross_tab = pd.crosstab(data[col], data['Churn'])\n",
    "    \n",
    "    cross_tab.plot(kind='bar', stacked=False, \n",
    "                   color=['blue', 'red'],  # Blue is \"No\", red is \"Yes\"\n",
    "                   figsize=(6, 4))\n",
    "    \n",
    "    plt.title(f'Churn VS {col}')\n",
    "    plt.ylabel('Count')\n",
    "    plt.xlabel(col)\n",
    "    plt.legend(title='Churn', loc='upper right')\n",
    "    plt.tight_layout()\n",
    "    plt.show()"
   ]
  },
  {
   "cell_type": "markdown",
   "id": "a4990f79-a5ac-49e9-84de-1de6cb92411b",
   "metadata": {},
   "source": [
    "## ***T-Test***"
   ]
  },
  {
   "cell_type": "markdown",
   "id": "b738b445-412a-4e54-9a1b-aaef5938beae",
   "metadata": {},
   "source": [
    "#### T-Test for churn and monthly charges"
   ]
  },
  {
   "cell_type": "code",
   "execution_count": 9,
   "id": "2a59e292-f263-4a56-9b52-5d35445f9d0a",
   "metadata": {},
   "outputs": [
    {
     "name": "stdout",
     "output_type": "stream",
     "text": [
      "T-statistic: 18.4075\n",
      "P-value: 8.5924e-73\n",
      "Result: Significant difference in average monthly charges between churners and non-churners.\n"
     ]
    },
    {
     "data": {
      "image/png": "[encoded data removed]",
      "text/plain": [
       "<Figure size 640x480 with 1 Axes>"
      ]
     },
     "metadata": {},
     "output_type": "display_data"
    }
   ],
   "source": [
    "# Separate the MonthlyCharges data by churn status\n",
    "churn_yes = data.loc[data['Churn'] == 'Yes', 'MonthlyCharges']\n",
    "churn_no = data.loc[data['Churn'] == 'No', 'MonthlyCharges']\n",
    "\n",
    "# equal_var=False (Welch's Variant - which does not assume equal population)\n",
    "t_stat, p_value = stats.ttest_ind(churn_yes, churn_no, equal_var=False)\n",
    "\n",
    "print(f\"T-statistic: {t_stat:.4f}\")\n",
    "print(f\"P-value: {p_value:.4e}\")\n",
    "\n",
    "if p_value < 0.05:\n",
    "    print(\"Result: Significant difference in average monthly charges between churners and non-churners.\")\n",
    "else:\n",
    "    print(\"Result: No significant difference in average monthly charges between churners and non-churners.\")\n",
    "\n",
    "sns.boxplot(x='Churn', y='MonthlyCharges', data=data)\n",
    "plt.title(f\"T-statistic = {t_stat:.2f}, p-value = {p_value:.4f}\")\n",
    "plt.show()"
   ]
  },
  {
   "cell_type": "markdown",
   "id": "831e18c9-722c-4129-8cfd-4cdc020583d6",
   "metadata": {},
   "source": [
    "#### T-test for churn and tenure"
   ]
  },
  {
   "cell_type": "code",
   "execution_count": 15,
   "id": "82a18ea9-d0fd-4e72-9a8e-6cd8e58382c8",
   "metadata": {},
   "outputs": [
    {
     "name": "stdout",
     "output_type": "stream",
     "text": [
      "T-statistic: -34.8238\n",
      "P-value: 1.1955e-232\n",
      "Result: Significant difference in average monthly charges between churners and non-churners.\n"
     ]
    },
    {
     "data": {
      "image/png": "[encoded data removed]",
      "text/plain": [
       "<Figure size 640x480 with 1 Axes>"
      ]
     },
     "metadata": {},
     "output_type": "display_data"
    }
   ],
   "source": [
    "# Separate the tenure data by churn status\n",
    "churn_yes = data.loc[data['Churn'] == 'Yes', 'tenure']\n",
    "churn_no = data.loc[data['Churn'] == 'No', 'tenure']\n",
    "\n",
    "# equal_var=False meaning its a Welch's Variant (which does not assume equal population)\n",
    "t_stat, p_value = stats.ttest_ind(churn_yes, churn_no, equal_var=False)\n",
    "\n",
    "print(f\"T-statistic: {t_stat:.4f}\")\n",
    "print(f\"P-value: {p_value:.4e}\")\n",
    "\n",
    "if p_value < 0.05:\n",
    "    print(\"Result: Significant difference in tenure between churners and non-churners.\")\n",
    "else:\n",
    "    print(\"Result: No significant difference in tenure between churners and non-churners.\")\n",
    "\n",
    "sns.boxplot(x='Churn', y='MonthlyCharges', data=data)\n",
    "plt.title(f\"T-statistic = {t_stat:.2f}, p-value = {p_value:.4f}\")\n",
    "plt.show()"
   ]
  },
  {
   "cell_type": "markdown",
   "id": "2cd3794a-2856-431c-a42b-c8ba8ef3e57a",
   "metadata": {},
   "source": [
    "### Some distribution plots"
   ]
  },
  {
   "cell_type": "code",
   "execution_count": 12,
   "id": "d9ac3f94-8459-4312-ae27-36e4970263b1",
   "metadata": {},
   "outputs": [
    {
     "data": {
      "image/png": "[encoded data removed]",
      "text/plain": [
       "<Figure size 640x480 with 1 Axes>"
      ]
     },
     "metadata": {},
     "output_type": "display_data"
    },
    {
     "data": {
      "image/png": "[encoded data removed]",
      "text/plain": [
       "<Figure size 640x480 with 1 Axes>"
      ]
     },
     "metadata": {},
     "output_type": "display_data"
    },
    {
     "data": {
      "image/png": "[encoded data removed]",
      "text/plain": [
       "<Figure size 640x480 with 1 Axes>"
      ]
     },
     "metadata": {},
     "output_type": "display_data"
    }
   ],
   "source": [
    "# For Tenure (Number of months the customer has stayed with the company)\n",
    "sns.histplot(data=data, x='tenure', kde=True)\n",
    "plt.title('Distribution of Tenure')\n",
    "plt.show()\n",
    "\n",
    "# For MonthlyCharges\n",
    "sns.histplot(data=data, x='MonthlyCharges', kde=True)\n",
    "plt.title('Distribution of MonthlyCharges')\n",
    "plt.show()\n",
    "\n",
    "# For TotalCharges (after converting to numeric, if needed)\n",
    "sns.histplot(data=data, x='TotalCharges', kde=True)\n",
    "plt.title('Distribution of TotalCharges')\n",
    "plt.show()"
   ]
  },
  {
   "cell_type": "markdown",
   "id": "5e41c4dd-35d3-48ba-96c9-4d926b847bc9",
   "metadata": {},
   "source": [
    "## other approch to groupby churn and numerical columns with Kurtosis"
   ]
  },
  {
   "cell_type": "code",
   "execution_count": 28,
   "id": "2ca84adf-f1a4-4c41-8478-98c3540d993d",
   "metadata": {},
   "outputs": [
    {
     "data": {
      "text/html": [
       "<div>\n",
       "<style scoped>\n",
       "    .dataframe tbody tr th:only-of-type {\n",
       "        vertical-align: middle;\n",
       "    }\n",
       "\n",
       "    .dataframe tbody tr th {\n",
       "        vertical-align: top;\n",
       "    }\n",
       "\n",
       "    .dataframe thead th {\n",
       "        text-align: right;\n",
       "    }\n",
       "</style>\n",
       "<table border=\"1\" class=\"dataframe\">\n",
       "  <thead>\n",
       "    <tr style=\"text-align: right;\">\n",
       "      <th></th>\n",
       "      <th>Mean_MonthlyCharges</th>\n",
       "      <th>Median_MonthlyCharges</th>\n",
       "      <th>Kurtosis_MonthlyCharges</th>\n",
       "      <th>Mean_TotalCharges</th>\n",
       "      <th>Median_TotalCharges</th>\n",
       "      <th>Kurtosis_TotalCharges</th>\n",
       "    </tr>\n",
       "    <tr>\n",
       "      <th>Churn</th>\n",
       "      <th></th>\n",
       "      <th></th>\n",
       "      <th></th>\n",
       "      <th></th>\n",
       "      <th></th>\n",
       "      <th></th>\n",
       "    </tr>\n",
       "  </thead>\n",
       "  <tbody>\n",
       "    <tr>\n",
       "      <th>No</th>\n",
       "      <td>61.265124</td>\n",
       "      <td>64.425</td>\n",
       "      <td>-1.355301</td>\n",
       "      <td>2555.344141</td>\n",
       "      <td>1683.60</td>\n",
       "      <td>NaN</td>\n",
       "    </tr>\n",
       "    <tr>\n",
       "      <th>Yes</th>\n",
       "      <td>74.441332</td>\n",
       "      <td>79.650</td>\n",
       "      <td>-0.361516</td>\n",
       "      <td>1531.796094</td>\n",
       "      <td>703.55</td>\n",
       "      <td>1.461704</td>\n",
       "    </tr>\n",
       "  </tbody>\n",
       "</table>\n",
       "</div>"
      ],
      "text/plain": [
       "       Mean_MonthlyCharges  Median_MonthlyCharges  Kurtosis_MonthlyCharges  \\\n",
       "Churn                                                                        \n",
       "No               61.265124                 64.425                -1.355301   \n",
       "Yes              74.441332                 79.650                -0.361516   \n",
       "\n",
       "       Mean_TotalCharges  Median_TotalCharges  Kurtosis_TotalCharges  \n",
       "Churn                                                                 \n",
       "No           2555.344141              1683.60                    NaN  \n",
       "Yes          1531.796094               703.55               1.461704  "
      ]
     },
     "execution_count": 28,
     "metadata": {},
     "output_type": "execute_result"
    }
   ],
   "source": [
    "from scipy.stats import kurtosis\n",
    "\n",
    "result = data.groupby('Churn', observed=True).agg(\n",
    "    Mean_MonthlyCharges=('MonthlyCharges', 'mean'),\n",
    "    Median_MonthlyCharges=('MonthlyCharges', 'median'),\n",
    "    Kurtosis_MonthlyCharges=('MonthlyCharges', lambda x: kurtosis(x, fisher=True, bias=False)),\n",
    "    \n",
    "    Mean_TotalCharges=('TotalCharges', 'mean'),\n",
    "    Median_TotalCharges=('TotalCharges', 'median'),\n",
    "    Kurtosis_TotalCharges=('TotalCharges', lambda x: kurtosis(x, fisher=True, bias=False))\n",
    ")\n",
    "\n",
    "result"
   ]
  },
  {
   "cell_type": "code",
   "execution_count": 64,
   "id": "37ad9fd6-0cbf-4f88-adb5-f6f8cefad6eb",
   "metadata": {},
   "outputs": [
    {
     "data": {
      "text/plain": [
       "11"
      ]
     },
     "execution_count": 64,
     "metadata": {},
     "output_type": "execute_result"
    }
   ],
   "source": [
    "# Coerce TotalCharges to numeric, turning bad/non-numeric entries into NaN\n",
    "temp_numeric = pd.to_numeric(data['TotalCharges'], errors='coerce')\n",
    "\n",
    "# Identify which rows became NaN\n",
    "missing_mask = temp_numeric.isna()\n",
    "\n",
    "# Slice the original data to see those rows\n",
    "missing_rows = data[missing_mask]\n",
    "len(missing_rows)"
   ]
  },
  {
   "cell_type": "code",
   "execution_count": null,
   "id": "d6594ae8-ef19-46a3-9128-3e4760b096a1",
   "metadata": {},
   "outputs": [],
   "source": [
    "# 11 rows for TotalCharges columns are with <NA> "
   ]
  },
  {
   "cell_type": "code",
   "execution_count": 65,
   "id": "a6c565c3-fba3-4257-813e-b6fc51e9730b",
   "metadata": {},
   "outputs": [],
   "source": []
  }
 ],
 "metadata": {
  "kernelspec": {
   "display_name": "Python 3 (ipykernel)",
   "language": "python",
   "name": "python3"
  },
  "language_info": {
   "codemirror_mode": {
    "name": "ipython",
    "version": 3
   },
   "file_extension": ".py",
   "mimetype": "text/x-python",
   "name": "python",
   "nbconvert_exporter": "python",
   "pygments_lexer": "ipython3",
   "version": "3.12.7"
  }
 },
 "nbformat": 4,
 "nbformat_minor": 5
}
