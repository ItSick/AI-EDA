{
 "cells": [
  {
   "cell_type": "markdown",
   "id": "eb4d087d-d441-4e3a-b374-3a1d64adca3a",
   "metadata": {},
   "source": [
    "# ***EDA For \"Telco-Customer-Churn\" dataset***\n",
    "\n",
    "### Why this dataset?\n",
    "\n",
    "In the future I would like to use the dataset to try and make a prediction model about customers that are about to churn/leave\n",
    "\n",
    "(dataset and the follow content taken from kaggle)\n",
    "\n",
    " - Each row represents a customer\n",
    " - Each column contains customer's attibutes discribed below\n",
    " - The data set includes information about:\n",
    "\n",
    "1. Customers who left within the last month – the column is called Churn\n",
    "\n",
    "2. Services that each customer has signed up for – phone, multiple lines, internet, online security, online backup, device protection, tech support,       and streaming TV and movies\n",
    "\n",
    "3. Customer account information – how long they’ve been a customer, contract, payment method, paperless billing, monthly charges, and total charges\n",
    "\n",
    "4. Demographic info about customers – gender, age range, and if they have partners and dependents"
   ]
  },
  {
   "cell_type": "markdown",
   "id": "e703028d-5d0b-4e93-baea-903d197b0785",
   "metadata": {},
   "source": [
    "\n",
    "## ***COLUMNS DESCRIPTION:***\n"
   ]
  },
  {
   "cell_type": "markdown",
   "id": "f0c74b10-81e6-4124-9327-8f7014b59f96",
   "metadata": {},
   "source": [
    "\n",
    "      customerID                          Unique ID assigned to each customer\n",
    "      gender                              Customer’s gender\n",
    "      SeniorCitizen                       Indicates if the customer is a senior citizen (1 = Yes, 0 = No)\n",
    "      Partner                             Indicates if the customer has a partner(example: Husband/Wife) (Yes/No)\n",
    "      Dependents                          Indicates if the customer has dependents (example: children) (Yes/No)\n",
    "      tenure                              Number of months the customer has stayed with the company\n",
    "      PhoneService                        Indicates if the customer subscribes to phone service (Yes/No)\n",
    "      MultipleLines                       Indicates if customer has multiple phone lines (Yes/No/No phone service)\n",
    "      InternetService                     Type of internet service (DSL/Fiber optic/No)\n",
    "      OnlineSecurity                      Online security service (Yes/No/No internet service)\n",
    "      OnlineBackup                        Online backup service (Yes/No/No internet service)\n",
    "      DeviceProtection                    Device protection plan (Yes/No/No internet service)\n",
    "      TechSupport                         Tech support service (Yes/No/No internet service)\n",
    "      StreamingTV                         Streaming TV service (Yes/No/No internet service)\n",
    "      StreamingMovies                     Streaming movies service (Yes/No/No internet service)\n",
    "      Contract                            Contract term (Month-to-month, One year, Two year)\n",
    "      PaperlessBilling                    Indicates if customer opts for paperless billing (Yes/No)\n",
    "      PaymentMethod                       Payment method (e.g., 'Electronic check', 'Mailed check', etc.)\n",
    "      MonthlyCharges                      Amount charged to the customer monthly (in USD)\n",
    "      TotalCharges                        Total amount charged to the customer (in USD)\n",
    "      Churn                               Indicates if the customer has left (Yes/No)\n"
   ]
  },
  {
   "cell_type": "code",
   "execution_count": 1,
   "id": "fab6c666-4f63-454d-bb2f-0c2168c5b3e0",
   "metadata": {},
   "outputs": [],
   "source": [
    "import pandas as pd\n",
    "import numpy as np\n",
    "import matplotlib.pyplot as plt\n",
    "import seaborn as sns\n",
    "import scipy.stats as stats\n"
   ]
  },
  {
   "cell_type": "code",
   "execution_count": 2,
   "id": "b8f9185b-e064-46c1-8f89-2e4ba55fa226",
   "metadata": {},
   "outputs": [
    {
     "data": {
      "text/html": [
       "<div>\n",
       "<style scoped>\n",
       "    .dataframe tbody tr th:only-of-type {\n",
       "        vertical-align: middle;\n",
       "    }\n",
       "\n",
       "    .dataframe tbody tr th {\n",
       "        vertical-align: top;\n",
       "    }\n",
       "\n",
       "    .dataframe thead th {\n",
       "        text-align: right;\n",
       "    }\n",
       "</style>\n",
       "<table border=\"1\" class=\"dataframe\">\n",
       "  <thead>\n",
       "    <tr style=\"text-align: right;\">\n",
       "      <th></th>\n",
       "      <th>customerID</th>\n",
       "      <th>gender</th>\n",
       "      <th>SeniorCitizen</th>\n",
       "      <th>Partner</th>\n",
       "      <th>Dependents</th>\n",
       "      <th>tenure</th>\n",
       "      <th>PhoneService</th>\n",
       "      <th>MultipleLines</th>\n",
       "      <th>InternetService</th>\n",
       "      <th>OnlineSecurity</th>\n",
       "      <th>...</th>\n",
       "      <th>DeviceProtection</th>\n",
       "      <th>TechSupport</th>\n",
       "      <th>StreamingTV</th>\n",
       "      <th>StreamingMovies</th>\n",
       "      <th>Contract</th>\n",
       "      <th>PaperlessBilling</th>\n",
       "      <th>PaymentMethod</th>\n",
       "      <th>MonthlyCharges</th>\n",
       "      <th>TotalCharges</th>\n",
       "      <th>Churn</th>\n",
       "    </tr>\n",
       "  </thead>\n",
       "  <tbody>\n",
       "    <tr>\n",
       "      <th>0</th>\n",
       "      <td>7590-VHVEG</td>\n",
       "      <td>Female</td>\n",
       "      <td>0</td>\n",
       "      <td>Yes</td>\n",
       "      <td>No</td>\n",
       "      <td>1</td>\n",
       "      <td>No</td>\n",
       "      <td>No phone service</td>\n",
       "      <td>DSL</td>\n",
       "      <td>No</td>\n",
       "      <td>...</td>\n",
       "      <td>No</td>\n",
       "      <td>No</td>\n",
       "      <td>No</td>\n",
       "      <td>No</td>\n",
       "      <td>Month-to-month</td>\n",
       "      <td>Yes</td>\n",
       "      <td>Electronic check</td>\n",
       "      <td>29.85</td>\n",
       "      <td>29.85</td>\n",
       "      <td>No</td>\n",
       "    </tr>\n",
       "    <tr>\n",
       "      <th>1</th>\n",
       "      <td>5575-GNVDE</td>\n",
       "      <td>Male</td>\n",
       "      <td>0</td>\n",
       "      <td>No</td>\n",
       "      <td>No</td>\n",
       "      <td>34</td>\n",
       "      <td>Yes</td>\n",
       "      <td>No</td>\n",
       "      <td>DSL</td>\n",
       "      <td>Yes</td>\n",
       "      <td>...</td>\n",
       "      <td>Yes</td>\n",
       "      <td>No</td>\n",
       "      <td>No</td>\n",
       "      <td>No</td>\n",
       "      <td>One year</td>\n",
       "      <td>No</td>\n",
       "      <td>Mailed check</td>\n",
       "      <td>56.95</td>\n",
       "      <td>1889.5</td>\n",
       "      <td>No</td>\n",
       "    </tr>\n",
       "    <tr>\n",
       "      <th>2</th>\n",
       "      <td>3668-QPYBK</td>\n",
       "      <td>Male</td>\n",
       "      <td>0</td>\n",
       "      <td>No</td>\n",
       "      <td>No</td>\n",
       "      <td>2</td>\n",
       "      <td>Yes</td>\n",
       "      <td>No</td>\n",
       "      <td>DSL</td>\n",
       "      <td>Yes</td>\n",
       "      <td>...</td>\n",
       "      <td>No</td>\n",
       "      <td>No</td>\n",
       "      <td>No</td>\n",
       "      <td>No</td>\n",
       "      <td>Month-to-month</td>\n",
       "      <td>Yes</td>\n",
       "      <td>Mailed check</td>\n",
       "      <td>53.85</td>\n",
       "      <td>108.15</td>\n",
       "      <td>Yes</td>\n",
       "    </tr>\n",
       "    <tr>\n",
       "      <th>3</th>\n",
       "      <td>7795-CFOCW</td>\n",
       "      <td>Male</td>\n",
       "      <td>0</td>\n",
       "      <td>No</td>\n",
       "      <td>No</td>\n",
       "      <td>45</td>\n",
       "      <td>No</td>\n",
       "      <td>No phone service</td>\n",
       "      <td>DSL</td>\n",
       "      <td>Yes</td>\n",
       "      <td>...</td>\n",
       "      <td>Yes</td>\n",
       "      <td>Yes</td>\n",
       "      <td>No</td>\n",
       "      <td>No</td>\n",
       "      <td>One year</td>\n",
       "      <td>No</td>\n",
       "      <td>Bank transfer (automatic)</td>\n",
       "      <td>42.30</td>\n",
       "      <td>1840.75</td>\n",
       "      <td>No</td>\n",
       "    </tr>\n",
       "    <tr>\n",
       "      <th>4</th>\n",
       "      <td>9237-HQITU</td>\n",
       "      <td>Female</td>\n",
       "      <td>0</td>\n",
       "      <td>No</td>\n",
       "      <td>No</td>\n",
       "      <td>2</td>\n",
       "      <td>Yes</td>\n",
       "      <td>No</td>\n",
       "      <td>Fiber optic</td>\n",
       "      <td>No</td>\n",
       "      <td>...</td>\n",
       "      <td>No</td>\n",
       "      <td>No</td>\n",
       "      <td>No</td>\n",
       "      <td>No</td>\n",
       "      <td>Month-to-month</td>\n",
       "      <td>Yes</td>\n",
       "      <td>Electronic check</td>\n",
       "      <td>70.70</td>\n",
       "      <td>151.65</td>\n",
       "      <td>Yes</td>\n",
       "    </tr>\n",
       "  </tbody>\n",
       "</table>\n",
       "<p>5 rows × 21 columns</p>\n",
       "</div>"
      ],
      "text/plain": [
       "   customerID  gender  SeniorCitizen Partner Dependents  tenure PhoneService  \\\n",
       "0  7590-VHVEG  Female              0     Yes         No       1           No   \n",
       "1  5575-GNVDE    Male              0      No         No      34          Yes   \n",
       "2  3668-QPYBK    Male              0      No         No       2          Yes   \n",
       "3  7795-CFOCW    Male              0      No         No      45           No   \n",
       "4  9237-HQITU  Female              0      No         No       2          Yes   \n",
       "\n",
       "      MultipleLines InternetService OnlineSecurity  ... DeviceProtection  \\\n",
       "0  No phone service             DSL             No  ...               No   \n",
       "1                No             DSL            Yes  ...              Yes   \n",
       "2                No             DSL            Yes  ...               No   \n",
       "3  No phone service             DSL            Yes  ...              Yes   \n",
       "4                No     Fiber optic             No  ...               No   \n",
       "\n",
       "  TechSupport StreamingTV StreamingMovies        Contract PaperlessBilling  \\\n",
       "0          No          No              No  Month-to-month              Yes   \n",
       "1          No          No              No        One year               No   \n",
       "2          No          No              No  Month-to-month              Yes   \n",
       "3         Yes          No              No        One year               No   \n",
       "4          No          No              No  Month-to-month              Yes   \n",
       "\n",
       "               PaymentMethod MonthlyCharges  TotalCharges Churn  \n",
       "0           Electronic check          29.85         29.85    No  \n",
       "1               Mailed check          56.95        1889.5    No  \n",
       "2               Mailed check          53.85        108.15   Yes  \n",
       "3  Bank transfer (automatic)          42.30       1840.75    No  \n",
       "4           Electronic check          70.70        151.65   Yes  \n",
       "\n",
       "[5 rows x 21 columns]"
      ]
     },
     "execution_count": 2,
     "metadata": {},
     "output_type": "execute_result"
    }
   ],
   "source": [
    "data = pd.read_csv('./datasets/Telco-Customer-Churn.csv')\n",
    "data.head()"
   ]
  },
  {
   "cell_type": "code",
   "execution_count": 3,
   "id": "33b5e917-2eff-4f4a-8a3e-9c3e2905a1c9",
   "metadata": {},
   "outputs": [
    {
     "data": {
      "text/plain": [
       "(7043, 21)"
      ]
     },
     "execution_count": 3,
     "metadata": {},
     "output_type": "execute_result"
    }
   ],
   "source": [
    "data.shape"
   ]
  },
  {
   "cell_type": "code",
   "execution_count": 4,
   "id": "15032d26-e0eb-44e2-962f-6e5d8918f3b2",
   "metadata": {},
   "outputs": [
    {
     "data": {
      "text/plain": [
       "Index(['customerID', 'gender', 'SeniorCitizen', 'Partner', 'Dependents',\n",
       "       'tenure', 'PhoneService', 'MultipleLines', 'InternetService',\n",
       "       'OnlineSecurity', 'OnlineBackup', 'DeviceProtection', 'TechSupport',\n",
       "       'StreamingTV', 'StreamingMovies', 'Contract', 'PaperlessBilling',\n",
       "       'PaymentMethod', 'MonthlyCharges', 'TotalCharges', 'Churn'],\n",
       "      dtype='object')"
      ]
     },
     "execution_count": 4,
     "metadata": {},
     "output_type": "execute_result"
    }
   ],
   "source": [
    "data.columns"
   ]
  },
  {
   "cell_type": "code",
   "execution_count": 5,
   "id": "cc35fe8d-69b7-4be4-91ca-94c1437fad4f",
   "metadata": {},
   "outputs": [
    {
     "name": "stdout",
     "output_type": "stream",
     "text": [
      "<class 'pandas.core.frame.DataFrame'>\n",
      "RangeIndex: 7043 entries, 0 to 7042\n",
      "Data columns (total 21 columns):\n",
      " #   Column            Non-Null Count  Dtype  \n",
      "---  ------            --------------  -----  \n",
      " 0   customerID        7043 non-null   object \n",
      " 1   gender            7043 non-null   object \n",
      " 2   SeniorCitizen     7043 non-null   int64  \n",
      " 3   Partner           7043 non-null   object \n",
      " 4   Dependents        7043 non-null   object \n",
      " 5   tenure            7043 non-null   int64  \n",
      " 6   PhoneService      7043 non-null   object \n",
      " 7   MultipleLines     7043 non-null   object \n",
      " 8   InternetService   7043 non-null   object \n",
      " 9   OnlineSecurity    7043 non-null   object \n",
      " 10  OnlineBackup      7043 non-null   object \n",
      " 11  DeviceProtection  7043 non-null   object \n",
      " 12  TechSupport       7043 non-null   object \n",
      " 13  StreamingTV       7043 non-null   object \n",
      " 14  StreamingMovies   7043 non-null   object \n",
      " 15  Contract          7043 non-null   object \n",
      " 16  PaperlessBilling  7043 non-null   object \n",
      " 17  PaymentMethod     7043 non-null   object \n",
      " 18  MonthlyCharges    7043 non-null   float64\n",
      " 19  TotalCharges      7043 non-null   object \n",
      " 20  Churn             7043 non-null   object \n",
      "dtypes: float64(1), int64(2), object(18)\n",
      "memory usage: 1.1+ MB\n"
     ]
    }
   ],
   "source": [
    "data.info() "
   ]
  },
  {
   "cell_type": "code",
   "execution_count": 7,
   "id": "c22c4824-e542-4831-b5b6-5b063d2faa3e",
   "metadata": {},
   "outputs": [
    {
     "data": {
      "text/plain": [
       "customerID           object\n",
       "gender               object\n",
       "SeniorCitizen         int64\n",
       "Partner              object\n",
       "Dependents           object\n",
       "tenure                int64\n",
       "PhoneService         object\n",
       "MultipleLines        object\n",
       "InternetService      object\n",
       "OnlineSecurity       object\n",
       "OnlineBackup         object\n",
       "DeviceProtection     object\n",
       "TechSupport          object\n",
       "StreamingTV          object\n",
       "StreamingMovies      object\n",
       "Contract             object\n",
       "PaperlessBilling     object\n",
       "PaymentMethod        object\n",
       "MonthlyCharges      float64\n",
       "TotalCharges         object\n",
       "Churn                object\n",
       "dtype: object"
      ]
     },
     "execution_count": 7,
     "metadata": {},
     "output_type": "execute_result"
    }
   ],
   "source": [
    "data.dtypes"
   ]
  },
  {
   "cell_type": "markdown",
   "id": "ba55b340-858f-4f01-abbf-15ad4ef1f156",
   "metadata": {},
   "source": [
    "- some string type are present as object, and can be convert to string and maby to booloan or category types"
   ]
  },
  {
   "cell_type": "code",
   "execution_count": 8,
   "id": "9e749e5b-f63b-45ce-89e7-e7104daeccdd",
   "metadata": {},
   "outputs": [
    {
     "data": {
      "text/plain": [
       "customerID          7043\n",
       "gender                 2\n",
       "SeniorCitizen          2\n",
       "Partner                2\n",
       "Dependents             2\n",
       "tenure                73\n",
       "PhoneService           2\n",
       "MultipleLines          3\n",
       "InternetService        3\n",
       "OnlineSecurity         3\n",
       "OnlineBackup           3\n",
       "DeviceProtection       3\n",
       "TechSupport            3\n",
       "StreamingTV            3\n",
       "StreamingMovies        3\n",
       "Contract               3\n",
       "PaperlessBilling       2\n",
       "PaymentMethod          4\n",
       "MonthlyCharges      1585\n",
       "TotalCharges        6531\n",
       "Churn                  2\n",
       "dtype: int64"
      ]
     },
     "execution_count": 8,
     "metadata": {},
     "output_type": "execute_result"
    }
   ],
   "source": [
    "data.nunique()"
   ]
  },
  {
   "cell_type": "markdown",
   "id": "fe9636ee-bd45-4583-aedc-30aefe314d43",
   "metadata": {},
   "source": [
    "- all columns with 2 to 4 values can be category type\n",
    "- we got 2 columns that are numeric ('MonthlyCharges','TotalCharges') - 'TotalCharges' need convertion\n",
    "- 'SeniorCitizen' and 'tenure' will be count as numeric as well"
   ]
  },
  {
   "cell_type": "markdown",
   "id": "34a48a54-6e48-480c-afd5-823f74e0dbfc",
   "metadata": {},
   "source": [
    "# <b>Convertion</b>"
   ]
  },
  {
   "cell_type": "code",
   "execution_count": 9,
   "id": "82cb9557-184d-4023-b991-688e3ecd4d8e",
   "metadata": {},
   "outputs": [],
   "source": [
    "data = data.convert_dtypes()"
   ]
  },
  {
   "cell_type": "code",
   "execution_count": 10,
   "id": "1e87754e-b8a2-490c-ab3f-5f217945d838",
   "metadata": {},
   "outputs": [],
   "source": [
    "#convert 'TotalCharges' to float\n",
    "# errors='coerce' convert missing values (like blank strings) into NaN\n",
    "data['TotalCharges']=pd.to_numeric(data['TotalCharges'], errors='coerce')"
   ]
  },
  {
   "cell_type": "code",
   "execution_count": 11,
   "id": "2a7a4807-06be-41ed-9cf5-a0ccd843f318",
   "metadata": {},
   "outputs": [
    {
     "name": "stdout",
     "output_type": "stream",
     "text": [
      "<class 'pandas.core.frame.DataFrame'>\n",
      "RangeIndex: 7043 entries, 0 to 7042\n",
      "Data columns (total 21 columns):\n",
      " #   Column            Non-Null Count  Dtype  \n",
      "---  ------            --------------  -----  \n",
      " 0   customerID        7043 non-null   string \n",
      " 1   gender            7043 non-null   string \n",
      " 2   SeniorCitizen     7043 non-null   Int64  \n",
      " 3   Partner           7043 non-null   string \n",
      " 4   Dependents        7043 non-null   string \n",
      " 5   tenure            7043 non-null   Int64  \n",
      " 6   PhoneService      7043 non-null   string \n",
      " 7   MultipleLines     7043 non-null   string \n",
      " 8   InternetService   7043 non-null   string \n",
      " 9   OnlineSecurity    7043 non-null   string \n",
      " 10  OnlineBackup      7043 non-null   string \n",
      " 11  DeviceProtection  7043 non-null   string \n",
      " 12  TechSupport       7043 non-null   string \n",
      " 13  StreamingTV       7043 non-null   string \n",
      " 14  StreamingMovies   7043 non-null   string \n",
      " 15  Contract          7043 non-null   string \n",
      " 16  PaperlessBilling  7043 non-null   string \n",
      " 17  PaymentMethod     7043 non-null   string \n",
      " 18  MonthlyCharges    7043 non-null   Float64\n",
      " 19  TotalCharges      7032 non-null   Float64\n",
      " 20  Churn             7043 non-null   string \n",
      "dtypes: Float64(2), Int64(2), string(17)\n",
      "memory usage: 1.2 MB\n"
     ]
    }
   ],
   "source": [
    "# check info after the convertion\n",
    "data.info()"
   ]
  },
  {
   "cell_type": "markdown",
   "id": "0f675917-507b-485e-b546-27cba5af2709",
   "metadata": {},
   "source": [
    "# Missing Values"
   ]
  },
  {
   "cell_type": "markdown",
   "id": "c487482b-65ef-4ab0-bc51-1f8717e3cb7e",
   "metadata": {},
   "source": [
    "##### find missing values in numeric columns after convertion"
   ]
  },
  {
   "cell_type": "code",
   "execution_count": 12,
   "id": "ca8ab673-b525-4a97-882f-1bbe5245af22",
   "metadata": {},
   "outputs": [
    {
     "name": "stdout",
     "output_type": "stream",
     "text": [
      "Missing values in each numeric column:\n",
      "tenure             0\n",
      "MonthlyCharges     0\n",
      "TotalCharges      11\n",
      "SeniorCitizen      0\n",
      "dtype: int64\n"
     ]
    }
   ],
   "source": [
    "numeric_cols = ['tenure','MonthlyCharges','TotalCharges','SeniorCitizen']\n",
    "missing_counts = data[numeric_cols].isna().sum()\n",
    "\n",
    "print(\"Missing values in each numeric column:\")\n",
    "print(missing_counts)"
   ]
  },
  {
   "cell_type": "markdown",
   "id": "a0b5742a-ac04-42fb-8a61-fc102270b548",
   "metadata": {},
   "source": [
    " - to_numeric() with errors='coerce' will add NaN for missing values\n",
    " - isna() is looking for NaN in the data\n",
    " - as we see: 11 rows in  TotalCharges has missing values ( I might remove them or calculate them - (tenure * monthly pay)"
   ]
  },
  {
   "cell_type": "markdown",
   "id": "7246b57c-d0b5-4e26-b2a0-e48c18a5efe0",
   "metadata": {},
   "source": [
    "#### calculate missing values in TotalCharges column"
   ]
  },
  {
   "cell_type": "code",
   "execution_count": 13,
   "id": "31e94efe-0380-4fd2-aa8c-60f162895a9a",
   "metadata": {},
   "outputs": [
    {
     "data": {
      "text/html": [
       "<div>\n",
       "<style scoped>\n",
       "    .dataframe tbody tr th:only-of-type {\n",
       "        vertical-align: middle;\n",
       "    }\n",
       "\n",
       "    .dataframe tbody tr th {\n",
       "        vertical-align: top;\n",
       "    }\n",
       "\n",
       "    .dataframe thead th {\n",
       "        text-align: right;\n",
       "    }\n",
       "</style>\n",
       "<table border=\"1\" class=\"dataframe\">\n",
       "  <thead>\n",
       "    <tr style=\"text-align: right;\">\n",
       "      <th></th>\n",
       "      <th>customerID</th>\n",
       "      <th>gender</th>\n",
       "      <th>SeniorCitizen</th>\n",
       "      <th>Partner</th>\n",
       "      <th>Dependents</th>\n",
       "      <th>tenure</th>\n",
       "      <th>PhoneService</th>\n",
       "      <th>MultipleLines</th>\n",
       "      <th>InternetService</th>\n",
       "      <th>OnlineSecurity</th>\n",
       "      <th>...</th>\n",
       "      <th>DeviceProtection</th>\n",
       "      <th>TechSupport</th>\n",
       "      <th>StreamingTV</th>\n",
       "      <th>StreamingMovies</th>\n",
       "      <th>Contract</th>\n",
       "      <th>PaperlessBilling</th>\n",
       "      <th>PaymentMethod</th>\n",
       "      <th>MonthlyCharges</th>\n",
       "      <th>TotalCharges</th>\n",
       "      <th>Churn</th>\n",
       "    </tr>\n",
       "  </thead>\n",
       "  <tbody>\n",
       "    <tr>\n",
       "      <th>488</th>\n",
       "      <td>4472-LVYGI</td>\n",
       "      <td>Female</td>\n",
       "      <td>0</td>\n",
       "      <td>Yes</td>\n",
       "      <td>Yes</td>\n",
       "      <td>0</td>\n",
       "      <td>No</td>\n",
       "      <td>No phone service</td>\n",
       "      <td>DSL</td>\n",
       "      <td>Yes</td>\n",
       "      <td>...</td>\n",
       "      <td>Yes</td>\n",
       "      <td>Yes</td>\n",
       "      <td>Yes</td>\n",
       "      <td>No</td>\n",
       "      <td>Two year</td>\n",
       "      <td>Yes</td>\n",
       "      <td>Bank transfer (automatic)</td>\n",
       "      <td>52.55</td>\n",
       "      <td>&lt;NA&gt;</td>\n",
       "      <td>No</td>\n",
       "    </tr>\n",
       "    <tr>\n",
       "      <th>753</th>\n",
       "      <td>3115-CZMZD</td>\n",
       "      <td>Male</td>\n",
       "      <td>0</td>\n",
       "      <td>No</td>\n",
       "      <td>Yes</td>\n",
       "      <td>0</td>\n",
       "      <td>Yes</td>\n",
       "      <td>No</td>\n",
       "      <td>No</td>\n",
       "      <td>No internet service</td>\n",
       "      <td>...</td>\n",
       "      <td>No internet service</td>\n",
       "      <td>No internet service</td>\n",
       "      <td>No internet service</td>\n",
       "      <td>No internet service</td>\n",
       "      <td>Two year</td>\n",
       "      <td>No</td>\n",
       "      <td>Mailed check</td>\n",
       "      <td>20.25</td>\n",
       "      <td>&lt;NA&gt;</td>\n",
       "      <td>No</td>\n",
       "    </tr>\n",
       "    <tr>\n",
       "      <th>936</th>\n",
       "      <td>5709-LVOEQ</td>\n",
       "      <td>Female</td>\n",
       "      <td>0</td>\n",
       "      <td>Yes</td>\n",
       "      <td>Yes</td>\n",
       "      <td>0</td>\n",
       "      <td>Yes</td>\n",
       "      <td>No</td>\n",
       "      <td>DSL</td>\n",
       "      <td>Yes</td>\n",
       "      <td>...</td>\n",
       "      <td>Yes</td>\n",
       "      <td>No</td>\n",
       "      <td>Yes</td>\n",
       "      <td>Yes</td>\n",
       "      <td>Two year</td>\n",
       "      <td>No</td>\n",
       "      <td>Mailed check</td>\n",
       "      <td>80.85</td>\n",
       "      <td>&lt;NA&gt;</td>\n",
       "      <td>No</td>\n",
       "    </tr>\n",
       "    <tr>\n",
       "      <th>1082</th>\n",
       "      <td>4367-NUYAO</td>\n",
       "      <td>Male</td>\n",
       "      <td>0</td>\n",
       "      <td>Yes</td>\n",
       "      <td>Yes</td>\n",
       "      <td>0</td>\n",
       "      <td>Yes</td>\n",
       "      <td>Yes</td>\n",
       "      <td>No</td>\n",
       "      <td>No internet service</td>\n",
       "      <td>...</td>\n",
       "      <td>No internet service</td>\n",
       "      <td>No internet service</td>\n",
       "      <td>No internet service</td>\n",
       "      <td>No internet service</td>\n",
       "      <td>Two year</td>\n",
       "      <td>No</td>\n",
       "      <td>Mailed check</td>\n",
       "      <td>25.75</td>\n",
       "      <td>&lt;NA&gt;</td>\n",
       "      <td>No</td>\n",
       "    </tr>\n",
       "    <tr>\n",
       "      <th>1340</th>\n",
       "      <td>1371-DWPAZ</td>\n",
       "      <td>Female</td>\n",
       "      <td>0</td>\n",
       "      <td>Yes</td>\n",
       "      <td>Yes</td>\n",
       "      <td>0</td>\n",
       "      <td>No</td>\n",
       "      <td>No phone service</td>\n",
       "      <td>DSL</td>\n",
       "      <td>Yes</td>\n",
       "      <td>...</td>\n",
       "      <td>Yes</td>\n",
       "      <td>Yes</td>\n",
       "      <td>Yes</td>\n",
       "      <td>No</td>\n",
       "      <td>Two year</td>\n",
       "      <td>No</td>\n",
       "      <td>Credit card (automatic)</td>\n",
       "      <td>56.05</td>\n",
       "      <td>&lt;NA&gt;</td>\n",
       "      <td>No</td>\n",
       "    </tr>\n",
       "    <tr>\n",
       "      <th>3331</th>\n",
       "      <td>7644-OMVMY</td>\n",
       "      <td>Male</td>\n",
       "      <td>0</td>\n",
       "      <td>Yes</td>\n",
       "      <td>Yes</td>\n",
       "      <td>0</td>\n",
       "      <td>Yes</td>\n",
       "      <td>No</td>\n",
       "      <td>No</td>\n",
       "      <td>No internet service</td>\n",
       "      <td>...</td>\n",
       "      <td>No internet service</td>\n",
       "      <td>No internet service</td>\n",
       "      <td>No internet service</td>\n",
       "      <td>No internet service</td>\n",
       "      <td>Two year</td>\n",
       "      <td>No</td>\n",
       "      <td>Mailed check</td>\n",
       "      <td>19.85</td>\n",
       "      <td>&lt;NA&gt;</td>\n",
       "      <td>No</td>\n",
       "    </tr>\n",
       "    <tr>\n",
       "      <th>3826</th>\n",
       "      <td>3213-VVOLG</td>\n",
       "      <td>Male</td>\n",
       "      <td>0</td>\n",
       "      <td>Yes</td>\n",
       "      <td>Yes</td>\n",
       "      <td>0</td>\n",
       "      <td>Yes</td>\n",
       "      <td>Yes</td>\n",
       "      <td>No</td>\n",
       "      <td>No internet service</td>\n",
       "      <td>...</td>\n",
       "      <td>No internet service</td>\n",
       "      <td>No internet service</td>\n",
       "      <td>No internet service</td>\n",
       "      <td>No internet service</td>\n",
       "      <td>Two year</td>\n",
       "      <td>No</td>\n",
       "      <td>Mailed check</td>\n",
       "      <td>25.35</td>\n",
       "      <td>&lt;NA&gt;</td>\n",
       "      <td>No</td>\n",
       "    </tr>\n",
       "    <tr>\n",
       "      <th>4380</th>\n",
       "      <td>2520-SGTTA</td>\n",
       "      <td>Female</td>\n",
       "      <td>0</td>\n",
       "      <td>Yes</td>\n",
       "      <td>Yes</td>\n",
       "      <td>0</td>\n",
       "      <td>Yes</td>\n",
       "      <td>No</td>\n",
       "      <td>No</td>\n",
       "      <td>No internet service</td>\n",
       "      <td>...</td>\n",
       "      <td>No internet service</td>\n",
       "      <td>No internet service</td>\n",
       "      <td>No internet service</td>\n",
       "      <td>No internet service</td>\n",
       "      <td>Two year</td>\n",
       "      <td>No</td>\n",
       "      <td>Mailed check</td>\n",
       "      <td>20.0</td>\n",
       "      <td>&lt;NA&gt;</td>\n",
       "      <td>No</td>\n",
       "    </tr>\n",
       "    <tr>\n",
       "      <th>5218</th>\n",
       "      <td>2923-ARZLG</td>\n",
       "      <td>Male</td>\n",
       "      <td>0</td>\n",
       "      <td>Yes</td>\n",
       "      <td>Yes</td>\n",
       "      <td>0</td>\n",
       "      <td>Yes</td>\n",
       "      <td>No</td>\n",
       "      <td>No</td>\n",
       "      <td>No internet service</td>\n",
       "      <td>...</td>\n",
       "      <td>No internet service</td>\n",
       "      <td>No internet service</td>\n",
       "      <td>No internet service</td>\n",
       "      <td>No internet service</td>\n",
       "      <td>One year</td>\n",
       "      <td>Yes</td>\n",
       "      <td>Mailed check</td>\n",
       "      <td>19.7</td>\n",
       "      <td>&lt;NA&gt;</td>\n",
       "      <td>No</td>\n",
       "    </tr>\n",
       "    <tr>\n",
       "      <th>6670</th>\n",
       "      <td>4075-WKNIU</td>\n",
       "      <td>Female</td>\n",
       "      <td>0</td>\n",
       "      <td>Yes</td>\n",
       "      <td>Yes</td>\n",
       "      <td>0</td>\n",
       "      <td>Yes</td>\n",
       "      <td>Yes</td>\n",
       "      <td>DSL</td>\n",
       "      <td>No</td>\n",
       "      <td>...</td>\n",
       "      <td>Yes</td>\n",
       "      <td>Yes</td>\n",
       "      <td>Yes</td>\n",
       "      <td>No</td>\n",
       "      <td>Two year</td>\n",
       "      <td>No</td>\n",
       "      <td>Mailed check</td>\n",
       "      <td>73.35</td>\n",
       "      <td>&lt;NA&gt;</td>\n",
       "      <td>No</td>\n",
       "    </tr>\n",
       "    <tr>\n",
       "      <th>6754</th>\n",
       "      <td>2775-SEFEE</td>\n",
       "      <td>Male</td>\n",
       "      <td>0</td>\n",
       "      <td>No</td>\n",
       "      <td>Yes</td>\n",
       "      <td>0</td>\n",
       "      <td>Yes</td>\n",
       "      <td>Yes</td>\n",
       "      <td>DSL</td>\n",
       "      <td>Yes</td>\n",
       "      <td>...</td>\n",
       "      <td>No</td>\n",
       "      <td>Yes</td>\n",
       "      <td>No</td>\n",
       "      <td>No</td>\n",
       "      <td>Two year</td>\n",
       "      <td>Yes</td>\n",
       "      <td>Bank transfer (automatic)</td>\n",
       "      <td>61.9</td>\n",
       "      <td>&lt;NA&gt;</td>\n",
       "      <td>No</td>\n",
       "    </tr>\n",
       "  </tbody>\n",
       "</table>\n",
       "<p>11 rows × 21 columns</p>\n",
       "</div>"
      ],
      "text/plain": [
       "      customerID  gender  SeniorCitizen Partner Dependents  tenure  \\\n",
       "488   4472-LVYGI  Female              0     Yes        Yes       0   \n",
       "753   3115-CZMZD    Male              0      No        Yes       0   \n",
       "936   5709-LVOEQ  Female              0     Yes        Yes       0   \n",
       "1082  4367-NUYAO    Male              0     Yes        Yes       0   \n",
       "1340  1371-DWPAZ  Female              0     Yes        Yes       0   \n",
       "3331  7644-OMVMY    Male              0     Yes        Yes       0   \n",
       "3826  3213-VVOLG    Male              0     Yes        Yes       0   \n",
       "4380  2520-SGTTA  Female              0     Yes        Yes       0   \n",
       "5218  2923-ARZLG    Male              0     Yes        Yes       0   \n",
       "6670  4075-WKNIU  Female              0     Yes        Yes       0   \n",
       "6754  2775-SEFEE    Male              0      No        Yes       0   \n",
       "\n",
       "     PhoneService     MultipleLines InternetService       OnlineSecurity  ...  \\\n",
       "488            No  No phone service             DSL                  Yes  ...   \n",
       "753           Yes                No              No  No internet service  ...   \n",
       "936           Yes                No             DSL                  Yes  ...   \n",
       "1082          Yes               Yes              No  No internet service  ...   \n",
       "1340           No  No phone service             DSL                  Yes  ...   \n",
       "3331          Yes                No              No  No internet service  ...   \n",
       "3826          Yes               Yes              No  No internet service  ...   \n",
       "4380          Yes                No              No  No internet service  ...   \n",
       "5218          Yes                No              No  No internet service  ...   \n",
       "6670          Yes               Yes             DSL                   No  ...   \n",
       "6754          Yes               Yes             DSL                  Yes  ...   \n",
       "\n",
       "         DeviceProtection          TechSupport          StreamingTV  \\\n",
       "488                   Yes                  Yes                  Yes   \n",
       "753   No internet service  No internet service  No internet service   \n",
       "936                   Yes                   No                  Yes   \n",
       "1082  No internet service  No internet service  No internet service   \n",
       "1340                  Yes                  Yes                  Yes   \n",
       "3331  No internet service  No internet service  No internet service   \n",
       "3826  No internet service  No internet service  No internet service   \n",
       "4380  No internet service  No internet service  No internet service   \n",
       "5218  No internet service  No internet service  No internet service   \n",
       "6670                  Yes                  Yes                  Yes   \n",
       "6754                   No                  Yes                   No   \n",
       "\n",
       "          StreamingMovies  Contract PaperlessBilling  \\\n",
       "488                    No  Two year              Yes   \n",
       "753   No internet service  Two year               No   \n",
       "936                   Yes  Two year               No   \n",
       "1082  No internet service  Two year               No   \n",
       "1340                   No  Two year               No   \n",
       "3331  No internet service  Two year               No   \n",
       "3826  No internet service  Two year               No   \n",
       "4380  No internet service  Two year               No   \n",
       "5218  No internet service  One year              Yes   \n",
       "6670                   No  Two year               No   \n",
       "6754                   No  Two year              Yes   \n",
       "\n",
       "                  PaymentMethod MonthlyCharges  TotalCharges  Churn  \n",
       "488   Bank transfer (automatic)          52.55          <NA>     No  \n",
       "753                Mailed check          20.25          <NA>     No  \n",
       "936                Mailed check          80.85          <NA>     No  \n",
       "1082               Mailed check          25.75          <NA>     No  \n",
       "1340    Credit card (automatic)          56.05          <NA>     No  \n",
       "3331               Mailed check          19.85          <NA>     No  \n",
       "3826               Mailed check          25.35          <NA>     No  \n",
       "4380               Mailed check           20.0          <NA>     No  \n",
       "5218               Mailed check           19.7          <NA>     No  \n",
       "6670               Mailed check          73.35          <NA>     No  \n",
       "6754  Bank transfer (automatic)           61.9          <NA>     No  \n",
       "\n",
       "[11 rows x 21 columns]"
      ]
     },
     "execution_count": 13,
     "metadata": {},
     "output_type": "execute_result"
    }
   ],
   "source": [
    "# finding the rows that are with NaN and create df\n",
    "nan_data = data['TotalCharges'].isna()\n",
    "nan_df = data[nan_data]\n",
    "nan_df"
   ]
  },
  {
   "cell_type": "code",
   "execution_count": 14,
   "id": "d5163c21-ce1c-4c80-b238-6bfab842475a",
   "metadata": {},
   "outputs": [
    {
     "data": {
      "text/plain": [
       "488     0.0\n",
       "753     0.0\n",
       "936     0.0\n",
       "1082    0.0\n",
       "1340    0.0\n",
       "3331    0.0\n",
       "3826    0.0\n",
       "4380    0.0\n",
       "5218    0.0\n",
       "6670    0.0\n",
       "6754    0.0\n",
       "dtype: float64"
      ]
     },
     "execution_count": 14,
     "metadata": {},
     "output_type": "execute_result"
    }
   ],
   "source": [
    "# trying to calculate the missing totalCharges\n",
    "calculated = data.loc[nan_data].apply(lambda row: row['tenure'] * row['MonthlyCharges'], axis=1)\n",
    "calculated"
   ]
  },
  {
   "cell_type": "markdown",
   "id": "0bb96c23-2554-4d0a-a6a9-95bfd7ab8562",
   "metadata": {},
   "source": [
    " -  we can see the result for the calculation is 0 - the reson is tenure is equal to 0 in records\n",
    " -  I need to remove the rows with tenure 0 - **assuming customer with 0 monthes are not realy customers and can't churn**"
   ]
  },
  {
   "cell_type": "markdown",
   "id": "13b9ff4b-47f4-4edb-b9ac-a46f74cb8749",
   "metadata": {},
   "source": [
    "### remove rows with tenure 0 "
   ]
  },
  {
   "cell_type": "code",
   "execution_count": 15,
   "id": "ff4693d7-85c1-4b8b-a441-f2c3a332e9f3",
   "metadata": {},
   "outputs": [],
   "source": [
    "index_to_drop = data[data['tenure'] == 0].index\n",
    "data.drop(index=index_to_drop, inplace=True)"
   ]
  },
  {
   "cell_type": "code",
   "execution_count": 16,
   "id": "17cd4ad5-10ca-4f27-91f5-07fe62ca1ccc",
   "metadata": {},
   "outputs": [
    {
     "data": {
      "text/html": [
       "<div>\n",
       "<style scoped>\n",
       "    .dataframe tbody tr th:only-of-type {\n",
       "        vertical-align: middle;\n",
       "    }\n",
       "\n",
       "    .dataframe tbody tr th {\n",
       "        vertical-align: top;\n",
       "    }\n",
       "\n",
       "    .dataframe thead th {\n",
       "        text-align: right;\n",
       "    }\n",
       "</style>\n",
       "<table border=\"1\" class=\"dataframe\">\n",
       "  <thead>\n",
       "    <tr style=\"text-align: right;\">\n",
       "      <th></th>\n",
       "      <th>customerID</th>\n",
       "      <th>gender</th>\n",
       "      <th>SeniorCitizen</th>\n",
       "      <th>Partner</th>\n",
       "      <th>Dependents</th>\n",
       "      <th>tenure</th>\n",
       "      <th>PhoneService</th>\n",
       "      <th>MultipleLines</th>\n",
       "      <th>InternetService</th>\n",
       "      <th>OnlineSecurity</th>\n",
       "      <th>...</th>\n",
       "      <th>DeviceProtection</th>\n",
       "      <th>TechSupport</th>\n",
       "      <th>StreamingTV</th>\n",
       "      <th>StreamingMovies</th>\n",
       "      <th>Contract</th>\n",
       "      <th>PaperlessBilling</th>\n",
       "      <th>PaymentMethod</th>\n",
       "      <th>MonthlyCharges</th>\n",
       "      <th>TotalCharges</th>\n",
       "      <th>Churn</th>\n",
       "    </tr>\n",
       "  </thead>\n",
       "  <tbody>\n",
       "  </tbody>\n",
       "</table>\n",
       "<p>0 rows × 21 columns</p>\n",
       "</div>"
      ],
      "text/plain": [
       "Empty DataFrame\n",
       "Columns: [customerID, gender, SeniorCitizen, Partner, Dependents, tenure, PhoneService, MultipleLines, InternetService, OnlineSecurity, OnlineBackup, DeviceProtection, TechSupport, StreamingTV, StreamingMovies, Contract, PaperlessBilling, PaymentMethod, MonthlyCharges, TotalCharges, Churn]\n",
       "Index: []\n",
       "\n",
       "[0 rows x 21 columns]"
      ]
     },
     "execution_count": 16,
     "metadata": {},
     "output_type": "execute_result"
    }
   ],
   "source": [
    "# chack that the rows removed\n",
    "nan_data = data['TotalCharges'].isna()\n",
    "nan_df = data[nan_data]\n",
    "nan_df"
   ]
  },
  {
   "cell_type": "markdown",
   "id": "34cabde9-aa35-49df-9b09-2d5fe7211586",
   "metadata": {},
   "source": [
    "# Gender And Churn"
   ]
  },
  {
   "cell_type": "code",
   "execution_count": 17,
   "id": "af1e07a5-e4f7-4960-b57d-47d45a5e7490",
   "metadata": {},
   "outputs": [],
   "source": [
    "female = data[data['gender'] == 'Female']"
   ]
  },
  {
   "cell_type": "code",
   "execution_count": 18,
   "id": "37974993-a450-4d9a-872b-8eb5877c1f74",
   "metadata": {},
   "outputs": [
    {
     "data": {
      "text/html": [
       "<div>\n",
       "<style scoped>\n",
       "    .dataframe tbody tr th:only-of-type {\n",
       "        vertical-align: middle;\n",
       "    }\n",
       "\n",
       "    .dataframe tbody tr th {\n",
       "        vertical-align: top;\n",
       "    }\n",
       "\n",
       "    .dataframe thead th {\n",
       "        text-align: right;\n",
       "    }\n",
       "</style>\n",
       "<table border=\"1\" class=\"dataframe\">\n",
       "  <thead>\n",
       "    <tr style=\"text-align: right;\">\n",
       "      <th></th>\n",
       "      <th>count</th>\n",
       "      <th>mean</th>\n",
       "      <th>std</th>\n",
       "      <th>min</th>\n",
       "      <th>25%</th>\n",
       "      <th>50%</th>\n",
       "      <th>75%</th>\n",
       "      <th>max</th>\n",
       "    </tr>\n",
       "  </thead>\n",
       "  <tbody>\n",
       "    <tr>\n",
       "      <th>SeniorCitizen</th>\n",
       "      <td>3483.0</td>\n",
       "      <td>0.163078</td>\n",
       "      <td>0.36949</td>\n",
       "      <td>0.0</td>\n",
       "      <td>0.0</td>\n",
       "      <td>0.0</td>\n",
       "      <td>0.0</td>\n",
       "      <td>1.0</td>\n",
       "    </tr>\n",
       "    <tr>\n",
       "      <th>tenure</th>\n",
       "      <td>3483.0</td>\n",
       "      <td>32.290841</td>\n",
       "      <td>24.450235</td>\n",
       "      <td>1.0</td>\n",
       "      <td>9.0</td>\n",
       "      <td>29.0</td>\n",
       "      <td>55.0</td>\n",
       "      <td>72.0</td>\n",
       "    </tr>\n",
       "    <tr>\n",
       "      <th>MonthlyCharges</th>\n",
       "      <td>3483.0</td>\n",
       "      <td>65.216652</td>\n",
       "      <td>30.070508</td>\n",
       "      <td>18.4</td>\n",
       "      <td>35.9</td>\n",
       "      <td>70.65</td>\n",
       "      <td>89.85</td>\n",
       "      <td>118.75</td>\n",
       "    </tr>\n",
       "    <tr>\n",
       "      <th>TotalCharges</th>\n",
       "      <td>3483.0</td>\n",
       "      <td>2283.190985</td>\n",
       "      <td>2270.830254</td>\n",
       "      <td>18.85</td>\n",
       "      <td>402.875</td>\n",
       "      <td>1387.35</td>\n",
       "      <td>3819.8</td>\n",
       "      <td>8672.45</td>\n",
       "    </tr>\n",
       "  </tbody>\n",
       "</table>\n",
       "</div>"
      ],
      "text/plain": [
       "                 count         mean          std    min      25%      50%  \\\n",
       "SeniorCitizen   3483.0     0.163078      0.36949    0.0      0.0      0.0   \n",
       "tenure          3483.0    32.290841    24.450235    1.0      9.0     29.0   \n",
       "MonthlyCharges  3483.0    65.216652    30.070508   18.4     35.9    70.65   \n",
       "TotalCharges    3483.0  2283.190985  2270.830254  18.85  402.875  1387.35   \n",
       "\n",
       "                   75%      max  \n",
       "SeniorCitizen      0.0      1.0  \n",
       "tenure            55.0     72.0  \n",
       "MonthlyCharges   89.85   118.75  \n",
       "TotalCharges    3819.8  8672.45  "
      ]
     },
     "execution_count": 18,
     "metadata": {},
     "output_type": "execute_result"
    }
   ],
   "source": [
    "female.describe().T"
   ]
  },
  {
   "cell_type": "code",
   "execution_count": 19,
   "id": "6965374a-1b95-494f-af95-d929e3fffb43",
   "metadata": {},
   "outputs": [],
   "source": [
    "male = data[data['gender'] == 'Male']"
   ]
  },
  {
   "cell_type": "code",
   "execution_count": 20,
   "id": "77c7b217-b694-43bb-baa6-29a7711f7af6",
   "metadata": {},
   "outputs": [
    {
     "data": {
      "text/html": [
       "<div>\n",
       "<style scoped>\n",
       "    .dataframe tbody tr th:only-of-type {\n",
       "        vertical-align: middle;\n",
       "    }\n",
       "\n",
       "    .dataframe tbody tr th {\n",
       "        vertical-align: top;\n",
       "    }\n",
       "\n",
       "    .dataframe thead th {\n",
       "        text-align: right;\n",
       "    }\n",
       "</style>\n",
       "<table border=\"1\" class=\"dataframe\">\n",
       "  <thead>\n",
       "    <tr style=\"text-align: right;\">\n",
       "      <th></th>\n",
       "      <th>count</th>\n",
       "      <th>mean</th>\n",
       "      <th>std</th>\n",
       "      <th>min</th>\n",
       "      <th>25%</th>\n",
       "      <th>50%</th>\n",
       "      <th>75%</th>\n",
       "      <th>max</th>\n",
       "    </tr>\n",
       "  </thead>\n",
       "  <tbody>\n",
       "    <tr>\n",
       "      <th>SeniorCitizen</th>\n",
       "      <td>3549.0</td>\n",
       "      <td>0.161736</td>\n",
       "      <td>0.36826</td>\n",
       "      <td>0.0</td>\n",
       "      <td>0.0</td>\n",
       "      <td>0.0</td>\n",
       "      <td>0.0</td>\n",
       "      <td>1.0</td>\n",
       "    </tr>\n",
       "    <tr>\n",
       "      <th>tenure</th>\n",
       "      <td>3549.0</td>\n",
       "      <td>32.550296</td>\n",
       "      <td>24.640929</td>\n",
       "      <td>1.0</td>\n",
       "      <td>9.0</td>\n",
       "      <td>29.0</td>\n",
       "      <td>56.0</td>\n",
       "      <td>72.0</td>\n",
       "    </tr>\n",
       "    <tr>\n",
       "      <th>MonthlyCharges</th>\n",
       "      <td>3549.0</td>\n",
       "      <td>64.387546</td>\n",
       "      <td>30.099725</td>\n",
       "      <td>18.25</td>\n",
       "      <td>35.4</td>\n",
       "      <td>70.1</td>\n",
       "      <td>89.9</td>\n",
       "      <td>118.35</td>\n",
       "    </tr>\n",
       "    <tr>\n",
       "      <th>TotalCharges</th>\n",
       "      <td>3549.0</td>\n",
       "      <td>2283.407861</td>\n",
       "      <td>2263.100874</td>\n",
       "      <td>18.8</td>\n",
       "      <td>397.0</td>\n",
       "      <td>1404.65</td>\n",
       "      <td>3771.5</td>\n",
       "      <td>8684.8</td>\n",
       "    </tr>\n",
       "  </tbody>\n",
       "</table>\n",
       "</div>"
      ],
      "text/plain": [
       "                 count         mean          std    min    25%      50%  \\\n",
       "SeniorCitizen   3549.0     0.161736      0.36826    0.0    0.0      0.0   \n",
       "tenure          3549.0    32.550296    24.640929    1.0    9.0     29.0   \n",
       "MonthlyCharges  3549.0    64.387546    30.099725  18.25   35.4     70.1   \n",
       "TotalCharges    3549.0  2283.407861  2263.100874   18.8  397.0  1404.65   \n",
       "\n",
       "                   75%     max  \n",
       "SeniorCitizen      0.0     1.0  \n",
       "tenure            56.0    72.0  \n",
       "MonthlyCharges    89.9  118.35  \n",
       "TotalCharges    3771.5  8684.8  "
      ]
     },
     "execution_count": 20,
     "metadata": {},
     "output_type": "execute_result"
    }
   ],
   "source": [
    "male.describe().T"
   ]
  },
  {
   "cell_type": "markdown",
   "id": "dc1dab63-4d4f-49d3-ab77-1dedd8deafb4",
   "metadata": {},
   "source": [
    "- woman count is a bit less then man count (66 more male)\n",
    "- the details in all numeric columns are with minor difference between gender"
   ]
  },
  {
   "cell_type": "markdown",
   "id": "d76e948d-b9a0-42bc-b898-dcad5a756ad2",
   "metadata": {},
   "source": [
    "# ***Correlations, Groupby And Crosstabs***"
   ]
  },
  {
   "cell_type": "code",
   "execution_count": 21,
   "id": "d3a5a67a-b6fc-465e-be6e-c3165047a59a",
   "metadata": {},
   "outputs": [
    {
     "data": {
      "text/html": [
       "<div>\n",
       "<style scoped>\n",
       "    .dataframe tbody tr th:only-of-type {\n",
       "        vertical-align: middle;\n",
       "    }\n",
       "\n",
       "    .dataframe tbody tr th {\n",
       "        vertical-align: top;\n",
       "    }\n",
       "\n",
       "    .dataframe thead th {\n",
       "        text-align: right;\n",
       "    }\n",
       "</style>\n",
       "<table border=\"1\" class=\"dataframe\">\n",
       "  <thead>\n",
       "    <tr style=\"text-align: right;\">\n",
       "      <th></th>\n",
       "      <th>count</th>\n",
       "      <th>mean</th>\n",
       "      <th>std</th>\n",
       "      <th>min</th>\n",
       "      <th>25%</th>\n",
       "      <th>50%</th>\n",
       "      <th>75%</th>\n",
       "      <th>max</th>\n",
       "    </tr>\n",
       "  </thead>\n",
       "  <tbody>\n",
       "    <tr>\n",
       "      <th>SeniorCitizen</th>\n",
       "      <td>7032.0</td>\n",
       "      <td>0.1624</td>\n",
       "      <td>0.368844</td>\n",
       "      <td>0.0</td>\n",
       "      <td>0.0</td>\n",
       "      <td>0.0</td>\n",
       "      <td>0.0</td>\n",
       "      <td>1.0</td>\n",
       "    </tr>\n",
       "    <tr>\n",
       "      <th>tenure</th>\n",
       "      <td>7032.0</td>\n",
       "      <td>32.421786</td>\n",
       "      <td>24.54526</td>\n",
       "      <td>1.0</td>\n",
       "      <td>9.0</td>\n",
       "      <td>29.0</td>\n",
       "      <td>55.0</td>\n",
       "      <td>72.0</td>\n",
       "    </tr>\n",
       "    <tr>\n",
       "      <th>MonthlyCharges</th>\n",
       "      <td>7032.0</td>\n",
       "      <td>64.798208</td>\n",
       "      <td>30.085974</td>\n",
       "      <td>18.25</td>\n",
       "      <td>35.5875</td>\n",
       "      <td>70.35</td>\n",
       "      <td>89.8625</td>\n",
       "      <td>118.75</td>\n",
       "    </tr>\n",
       "    <tr>\n",
       "      <th>TotalCharges</th>\n",
       "      <td>7032.0</td>\n",
       "      <td>2283.300441</td>\n",
       "      <td>2266.771362</td>\n",
       "      <td>18.8</td>\n",
       "      <td>401.45</td>\n",
       "      <td>1397.475</td>\n",
       "      <td>3794.7375</td>\n",
       "      <td>8684.8</td>\n",
       "    </tr>\n",
       "  </tbody>\n",
       "</table>\n",
       "</div>"
      ],
      "text/plain": [
       "                 count         mean          std    min      25%       50%  \\\n",
       "SeniorCitizen   7032.0       0.1624     0.368844    0.0      0.0       0.0   \n",
       "tenure          7032.0    32.421786     24.54526    1.0      9.0      29.0   \n",
       "MonthlyCharges  7032.0    64.798208    30.085974  18.25  35.5875     70.35   \n",
       "TotalCharges    7032.0  2283.300441  2266.771362   18.8   401.45  1397.475   \n",
       "\n",
       "                      75%     max  \n",
       "SeniorCitizen         0.0     1.0  \n",
       "tenure               55.0    72.0  \n",
       "MonthlyCharges    89.8625  118.75  \n",
       "TotalCharges    3794.7375  8684.8  "
      ]
     },
     "execution_count": 21,
     "metadata": {},
     "output_type": "execute_result"
    }
   ],
   "source": [
    "data.describe().T"
   ]
  },
  {
   "cell_type": "markdown",
   "id": "d58ad09e-4533-4b65-9e0e-10d440fd82d9",
   "metadata": {},
   "source": [
    "### 1. SeniorCitizen\n",
    "\n",
    "#### Mean: 0.1624\n",
    " - about 16.24% of customers in the dataset are senior citizens, while  about 84% are not\n",
    " - Minimum and quartiles are all 0, and the maximum is 1, because this is a binary column (0 = not senior, 1 = senior)\n",
    "______________________________________________\n",
    "### 2. tenure\n",
    "\n",
    "##### Mean: 32.42 months\n",
    " - The average customer has been with the company for a bit more then 32 months\n",
    "##### 25%  9 months\n",
    "##### Median (50%): 29 months\n",
    " - Half of the customers have a tenure of 29 months or less\n",
    "##### 75%  55 months\n",
    " - This suggests a broad distribution of tenure from  9 months to 55 months\n",
    "##### Minimum is 1 month, \n",
    "##### Maximum is 72 months\n",
    "______________________________________________\n",
    "### 3. MonthlyCharges\n",
    "\n",
    "##### Mean: **$64.80**\n",
    "\n",
    "##### 25%: **$35.59**\n",
    "\n",
    "##### 50% (Median): **$70.35**\n",
    "\n",
    "##### 75%: **$89.86**\n",
    "\n",
    " - one quarter of customers pay 35.59 USD (or less per month)\n",
    " - half pay 70.35 USD or less\n",
    " - a quarter pay above 89.86 USD\n",
    "   \n",
    "##### Maximum: **$118.75**\n",
    "- The highest monthly charge in the dataset is 118.75 USD\n",
    "  \n",
    "##### STD \n",
    " - shows there is a wide range in what customers pay monthly.\n",
    "______________________________________________\n",
    "### 4. TotalCharges\n",
    "\n",
    "##### Mean: **$2283.30**\n",
    "\n",
    "- the mean is greater than the median indicates a right-skewed distribution\n",
    "\n",
    "##### 25%: **$401.45**\n",
    "\n",
    "##### 50% (Median): **$1397.48**\n",
    "\n",
    "##### 75%: **$3794.74**\n",
    "\n",
    " - A big jump between the 25th and 75th percentiles indicates high variance\n",
    "\n",
    "##### Minimum: **$18.80**\n",
    "\n",
    "##### Maximum: **$8684.80**\n",
    "\n",
    " - customer with low total charge to one with very high total charge, which supports the hige variance"
   ]
  },
  {
   "cell_type": "markdown",
   "id": "64fadd29-370b-499f-9e26-e6b579a08b7e",
   "metadata": {},
   "source": [
    "### Correlation for numeric columns"
   ]
  },
  {
   "cell_type": "code",
   "execution_count": 25,
   "id": "5f250c3d-4d4b-4b20-b218-2af182de192f",
   "metadata": {},
   "outputs": [],
   "source": [
    "numeric_cols = ['tenure','MonthlyCharges','TotalCharges','SeniorCitizen']\n",
    "sub_df = data[numeric_cols].copy()\n",
    "sub_df['TotalCharges']=pd.to_numeric(sub_df['TotalCharges'], errors='coerce')\n",
    "sub_df['MonthlyCharges']=pd.to_numeric(sub_df['MonthlyCharges'], errors='coerce')"
   ]
  },
  {
   "cell_type": "code",
   "execution_count": 26,
   "id": "99762d7f-39a7-47d4-810c-ca763c58ba9f",
   "metadata": {},
   "outputs": [
    {
     "data": {
      "text/plain": [
       "tenure              Int64\n",
       "MonthlyCharges    Float64\n",
       "TotalCharges      Float64\n",
       "SeniorCitizen       Int64\n",
       "dtype: object"
      ]
     },
     "execution_count": 26,
     "metadata": {},
     "output_type": "execute_result"
    }
   ],
   "source": [
    "# just checking the numeric columns\n",
    "sub_df.dtypes"
   ]
  },
  {
   "cell_type": "code",
   "execution_count": 27,
   "id": "b4c3311d-5a61-4034-aa56-4f4c0472adcd",
   "metadata": {},
   "outputs": [
    {
     "data": {
      "text/html": [
       "<div>\n",
       "<style scoped>\n",
       "    .dataframe tbody tr th:only-of-type {\n",
       "        vertical-align: middle;\n",
       "    }\n",
       "\n",
       "    .dataframe tbody tr th {\n",
       "        vertical-align: top;\n",
       "    }\n",
       "\n",
       "    .dataframe thead th {\n",
       "        text-align: right;\n",
       "    }\n",
       "</style>\n",
       "<table border=\"1\" class=\"dataframe\">\n",
       "  <thead>\n",
       "    <tr style=\"text-align: right;\">\n",
       "      <th></th>\n",
       "      <th>tenure</th>\n",
       "      <th>MonthlyCharges</th>\n",
       "      <th>TotalCharges</th>\n",
       "      <th>SeniorCitizen</th>\n",
       "    </tr>\n",
       "  </thead>\n",
       "  <tbody>\n",
       "    <tr>\n",
       "      <th>tenure</th>\n",
       "      <td>1.000000</td>\n",
       "      <td>0.246862</td>\n",
       "      <td>0.825880</td>\n",
       "      <td>0.015683</td>\n",
       "    </tr>\n",
       "    <tr>\n",
       "      <th>MonthlyCharges</th>\n",
       "      <td>0.246862</td>\n",
       "      <td>1.000000</td>\n",
       "      <td>0.651065</td>\n",
       "      <td>0.219874</td>\n",
       "    </tr>\n",
       "    <tr>\n",
       "      <th>TotalCharges</th>\n",
       "      <td>0.825880</td>\n",
       "      <td>0.651065</td>\n",
       "      <td>1.000000</td>\n",
       "      <td>0.102411</td>\n",
       "    </tr>\n",
       "    <tr>\n",
       "      <th>SeniorCitizen</th>\n",
       "      <td>0.015683</td>\n",
       "      <td>0.219874</td>\n",
       "      <td>0.102411</td>\n",
       "      <td>1.000000</td>\n",
       "    </tr>\n",
       "  </tbody>\n",
       "</table>\n",
       "</div>"
      ],
      "text/plain": [
       "                  tenure  MonthlyCharges  TotalCharges  SeniorCitizen\n",
       "tenure          1.000000        0.246862      0.825880       0.015683\n",
       "MonthlyCharges  0.246862        1.000000      0.651065       0.219874\n",
       "TotalCharges    0.825880        0.651065      1.000000       0.102411\n",
       "SeniorCitizen   0.015683        0.219874      0.102411       1.000000"
      ]
     },
     "execution_count": 27,
     "metadata": {},
     "output_type": "execute_result"
    }
   ],
   "source": [
    "# cooreation check\n",
    "sub_df.corr()"
   ]
  },
  {
   "cell_type": "code",
   "execution_count": 28,
   "id": "5590a8c3-2c1f-4e80-b668-03880518962d",
   "metadata": {},
   "outputs": [
    {
     "data": {
      "image/png": "[encoded data removed]",
      "text/plain": [
       "<Figure size 640x480 with 2 Axes>"
      ]
     },
     "metadata": {},
     "output_type": "display_data"
    }
   ],
   "source": [
    "corr_matrix = sub_df.corr()\n",
    "sns.heatmap(corr_matrix, annot=True, cmap='Blues')\n",
    "plt.title('Correlation Matrix')\n",
    "plt.show()"
   ]
  },
  {
   "cell_type": "markdown",
   "id": "4cb67a96-5fe6-48d9-9a06-d4b73f786bfa",
   "metadata": {},
   "source": [
    "<table>\n",
    "    <tr>\n",
    "        <td>Pair</td>\n",
    "        <td>Correlation</td>\n",
    "        <td>Interpretation</td>\n",
    "    </tr>\n",
    "    <tr>\n",
    "        <td>tenure & TotalCharges</td>\n",
    "        <td>0.83</td>\n",
    "        <td>strong positive: longer-tenured customers tend to have higher total charges over time.</td>\n",
    "    </tr>\n",
    "    <tr>\n",
    "        <td>MonthlyCharges & TotalCharges</td>\n",
    "        <td>0.65</td>\n",
    "        <td>positive: higher monthly fees lead to higher total charges overall.</td>\n",
    "    </tr>\n",
    "     <tr>\n",
    "        <td>tenure & MonthlyCharges</td>\n",
    "        <td>0.25</td>\n",
    "        <td>weak positive: customers staying longer slightly tend to have higher monthly charges, but not by a                                                      large amount.</td>\n",
    "    </tr>\n",
    "</table>"
   ]
  },
  {
   "cell_type": "markdown",
   "id": "54d0eec9-8301-4178-adb9-ad2d6e63754f",
   "metadata": {},
   "source": [
    "### ***Do customers with higher churn rate have shorter tenure?***"
   ]
  },
  {
   "cell_type": "code",
   "execution_count": 29,
   "id": "709b2ef0-0bac-4ee5-9d67-aa744f2203d6",
   "metadata": {},
   "outputs": [
    {
     "data": {
      "text/plain": [
       "Churn\n",
       "No     72\n",
       "Yes    72\n",
       "Name: tenure, dtype: Int64"
      ]
     },
     "execution_count": 29,
     "metadata": {},
     "output_type": "execute_result"
    }
   ],
   "source": [
    "data.groupby('Churn')['tenure'].max()\n",
    "#churners = data[data['Churn'] == 'Yes']\n",
    "#non_churners = data[data['Churn'] == 'No']\n",
    "#print(f\"{len(churners)} churners and {len(non_churners)} Non-churners\")"
   ]
  },
  {
   "cell_type": "code",
   "execution_count": 30,
   "id": "f1fcc809-b60e-4cb7-92f3-9cfd33e9aaa5",
   "metadata": {},
   "outputs": [
    {
     "data": {
      "text/plain": [
       "Churn\n",
       "No     1\n",
       "Yes    1\n",
       "Name: tenure, dtype: Int64"
      ]
     },
     "execution_count": 30,
     "metadata": {},
     "output_type": "execute_result"
    }
   ],
   "source": [
    "data.groupby('Churn')['tenure'].min()"
   ]
  },
  {
   "cell_type": "code",
   "execution_count": 31,
   "id": "aeb2ecc4-5718-49e7-acaa-e96629ec44f1",
   "metadata": {},
   "outputs": [
    {
     "data": {
      "text/plain": [
       "Churn\n",
       "No      37.65001\n",
       "Yes    17.979133\n",
       "Name: tenure, dtype: Float64"
      ]
     },
     "execution_count": 31,
     "metadata": {},
     "output_type": "execute_result"
    }
   ],
   "source": [
    "data.groupby('Churn')['tenure'].mean()"
   ]
  },
  {
   "cell_type": "code",
   "execution_count": 32,
   "id": "6245a84f-d8d8-4566-bed2-521f34ed5b1c",
   "metadata": {},
   "outputs": [
    {
     "data": {
      "image/png": "[encoded data removed]",
      "text/plain": [
       "<Figure size 640x480 with 1 Axes>"
      ]
     },
     "metadata": {},
     "output_type": "display_data"
    }
   ],
   "source": [
    "sns.boxplot(x='Churn', y='tenure', data=data)\n",
    "plt.title('Tenure Distribution by Churn')\n",
    "plt.show()"
   ]
  },
  {
   "cell_type": "code",
   "execution_count": 33,
   "id": "48f2b046-55fe-4701-8058-13fa1d313404",
   "metadata": {},
   "outputs": [
    {
     "data": {
      "text/html": [
       "<div>\n",
       "<style scoped>\n",
       "    .dataframe tbody tr th:only-of-type {\n",
       "        vertical-align: middle;\n",
       "    }\n",
       "\n",
       "    .dataframe tbody tr th {\n",
       "        vertical-align: top;\n",
       "    }\n",
       "\n",
       "    .dataframe thead th {\n",
       "        text-align: right;\n",
       "    }\n",
       "</style>\n",
       "<table border=\"1\" class=\"dataframe\">\n",
       "  <thead>\n",
       "    <tr style=\"text-align: right;\">\n",
       "      <th></th>\n",
       "      <th>Churn</th>\n",
       "      <th>No</th>\n",
       "      <th>Yes</th>\n",
       "    </tr>\n",
       "  </thead>\n",
       "  <tbody>\n",
       "    <tr>\n",
       "      <th rowspan=\"8\" valign=\"top\">tenure</th>\n",
       "      <th>count</th>\n",
       "      <td>5163.0</td>\n",
       "      <td>1869.0</td>\n",
       "    </tr>\n",
       "    <tr>\n",
       "      <th>mean</th>\n",
       "      <td>37.65001</td>\n",
       "      <td>17.979133</td>\n",
       "    </tr>\n",
       "    <tr>\n",
       "      <th>std</th>\n",
       "      <td>24.07694</td>\n",
       "      <td>19.531123</td>\n",
       "    </tr>\n",
       "    <tr>\n",
       "      <th>min</th>\n",
       "      <td>1.0</td>\n",
       "      <td>1.0</td>\n",
       "    </tr>\n",
       "    <tr>\n",
       "      <th>25%</th>\n",
       "      <td>15.0</td>\n",
       "      <td>2.0</td>\n",
       "    </tr>\n",
       "    <tr>\n",
       "      <th>50%</th>\n",
       "      <td>38.0</td>\n",
       "      <td>10.0</td>\n",
       "    </tr>\n",
       "    <tr>\n",
       "      <th>75%</th>\n",
       "      <td>61.0</td>\n",
       "      <td>29.0</td>\n",
       "    </tr>\n",
       "    <tr>\n",
       "      <th>max</th>\n",
       "      <td>72.0</td>\n",
       "      <td>72.0</td>\n",
       "    </tr>\n",
       "  </tbody>\n",
       "</table>\n",
       "</div>"
      ],
      "text/plain": [
       "Churn               No        Yes\n",
       "tenure count    5163.0     1869.0\n",
       "       mean   37.65001  17.979133\n",
       "       std    24.07694  19.531123\n",
       "       min         1.0        1.0\n",
       "       25%        15.0        2.0\n",
       "       50%        38.0       10.0\n",
       "       75%        61.0       29.0\n",
       "       max        72.0       72.0"
      ]
     },
     "execution_count": 33,
     "metadata": {},
     "output_type": "execute_result"
    }
   ],
   "source": [
    "data.groupby('Churn')[['tenure']].describe().T"
   ]
  },
  {
   "cell_type": "markdown",
   "id": "037fc898-84b1-451b-865a-03bb0fb13e59",
   "metadata": {},
   "source": [
    "<p>The average Number of months that a customer has stayed with the company before churn is 18 months</p>\n",
    "<br>\n",
    "<p>Customers who stay (Churn = No) => have a much longer average tenure (38 months) </p>                                      \n",
    "<p>than those who leave (Churn = Yes) => who only stay on average 18 months</p>"
   ]
  },
  {
   "cell_type": "markdown",
   "id": "19715820-8b87-4597-a73f-cd014ec11e3f",
   "metadata": {},
   "source": [
    "## MonthlyCharges and Churn"
   ]
  },
  {
   "cell_type": "code",
   "execution_count": 34,
   "id": "0e0cdd60-0b4a-47d6-9478-320c1f1ca158",
   "metadata": {},
   "outputs": [
    {
     "data": {
      "text/html": [
       "<div>\n",
       "<style scoped>\n",
       "    .dataframe tbody tr th:only-of-type {\n",
       "        vertical-align: middle;\n",
       "    }\n",
       "\n",
       "    .dataframe tbody tr th {\n",
       "        vertical-align: top;\n",
       "    }\n",
       "\n",
       "    .dataframe thead th {\n",
       "        text-align: right;\n",
       "    }\n",
       "</style>\n",
       "<table border=\"1\" class=\"dataframe\">\n",
       "  <thead>\n",
       "    <tr style=\"text-align: right;\">\n",
       "      <th>Churn</th>\n",
       "      <th>No</th>\n",
       "      <th>Yes</th>\n",
       "    </tr>\n",
       "  </thead>\n",
       "  <tbody>\n",
       "    <tr>\n",
       "      <th>count</th>\n",
       "      <td>5163.0</td>\n",
       "      <td>1869.0</td>\n",
       "    </tr>\n",
       "    <tr>\n",
       "      <th>mean</th>\n",
       "      <td>61.307408</td>\n",
       "      <td>74.441332</td>\n",
       "    </tr>\n",
       "    <tr>\n",
       "      <th>std</th>\n",
       "      <td>31.094557</td>\n",
       "      <td>24.666053</td>\n",
       "    </tr>\n",
       "    <tr>\n",
       "      <th>min</th>\n",
       "      <td>18.25</td>\n",
       "      <td>18.85</td>\n",
       "    </tr>\n",
       "    <tr>\n",
       "      <th>25%</th>\n",
       "      <td>25.1</td>\n",
       "      <td>56.15</td>\n",
       "    </tr>\n",
       "    <tr>\n",
       "      <th>50%</th>\n",
       "      <td>64.45</td>\n",
       "      <td>79.65</td>\n",
       "    </tr>\n",
       "    <tr>\n",
       "      <th>75%</th>\n",
       "      <td>88.475</td>\n",
       "      <td>94.2</td>\n",
       "    </tr>\n",
       "    <tr>\n",
       "      <th>max</th>\n",
       "      <td>118.75</td>\n",
       "      <td>118.35</td>\n",
       "    </tr>\n",
       "  </tbody>\n",
       "</table>\n",
       "</div>"
      ],
      "text/plain": [
       "Churn         No        Yes\n",
       "count     5163.0     1869.0\n",
       "mean   61.307408  74.441332\n",
       "std    31.094557  24.666053\n",
       "min        18.25      18.85\n",
       "25%         25.1      56.15\n",
       "50%        64.45      79.65\n",
       "75%       88.475       94.2\n",
       "max       118.75     118.35"
      ]
     },
     "execution_count": 34,
     "metadata": {},
     "output_type": "execute_result"
    }
   ],
   "source": [
    "data.groupby('Churn')['MonthlyCharges'].describe().T"
   ]
  },
  {
   "cell_type": "markdown",
   "id": "e407e2d5-132f-4b66-a593-47eedc48c15f",
   "metadata": {},
   "source": [
    "Count - There are more non-churners than churners in the dataset.\n",
    "\n",
    "Mean  - Churners pay 13 USD more per month on average than non-churners. (this gap suggests that higher bills may be a factor to churn).\n",
    "\n",
    "Std\t  - Non-churners have a wider range of monthly charges; churners’ charges vary less. indicating more variety in how much Non-churners pay\n",
    "\n",
    "Min\t  - Both groups can have relatively low charges (around 18–19 USD).\n",
    "\n",
    "25%\t  - of non-churners pay less than 25.10, while 25% of churners pay more than 56.15. (Big difference). \n",
    "\n",
    "50%   - The median churner pays significantly more monthly than the median non-churner.\n",
    "\n",
    "75%\t  - In the upper quartile, churners still pay a bit more per month.\n",
    "\n",
    "Max\t  - The maximum monthly charge is similar in both groups.\n",
    "____________________________________________________________________________________________________________________________________________________\n",
    "Customers who pay more per month are with higher probability to churn, \n",
    "\n",
    "higher monthly charges correlate with higher churn rates.\n",
    "\n",
    "Among customers who did not churn (Churn == No), 25% pay $25.10 or less per month.\n",
    "\n",
    "Among customers who did churn (Churn == Yes), 25% pay $56.15 or less per month."
   ]
  },
  {
   "cell_type": "markdown",
   "id": "4663c50f-e465-4d44-b30f-aee976396a43",
   "metadata": {},
   "source": [
    "### - ***Do customers with longer period contracts churn less? / do customers with short period contract churn more?***\n",
    "### - ***Churn vs. Contract***"
   ]
  },
  {
   "cell_type": "code",
   "execution_count": 35,
   "id": "fc573ff5-3a3c-4782-b698-518cbb29e7c2",
   "metadata": {},
   "outputs": [
    {
     "data": {
      "text/html": [
       "<div>\n",
       "<style scoped>\n",
       "    .dataframe tbody tr th:only-of-type {\n",
       "        vertical-align: middle;\n",
       "    }\n",
       "\n",
       "    .dataframe tbody tr th {\n",
       "        vertical-align: top;\n",
       "    }\n",
       "\n",
       "    .dataframe thead th {\n",
       "        text-align: right;\n",
       "    }\n",
       "</style>\n",
       "<table border=\"1\" class=\"dataframe\">\n",
       "  <thead>\n",
       "    <tr style=\"text-align: right;\">\n",
       "      <th>Churn</th>\n",
       "      <th>No</th>\n",
       "      <th>Yes</th>\n",
       "    </tr>\n",
       "    <tr>\n",
       "      <th>Contract</th>\n",
       "      <th></th>\n",
       "      <th></th>\n",
       "    </tr>\n",
       "  </thead>\n",
       "  <tbody>\n",
       "    <tr>\n",
       "      <th>Month-to-month</th>\n",
       "      <td>0.572903</td>\n",
       "      <td>0.427097</td>\n",
       "    </tr>\n",
       "    <tr>\n",
       "      <th>One year</th>\n",
       "      <td>0.887228</td>\n",
       "      <td>0.112772</td>\n",
       "    </tr>\n",
       "    <tr>\n",
       "      <th>Two year</th>\n",
       "      <td>0.971513</td>\n",
       "      <td>0.028487</td>\n",
       "    </tr>\n",
       "  </tbody>\n",
       "</table>\n",
       "</div>"
      ],
      "text/plain": [
       "Churn                 No       Yes\n",
       "Contract                          \n",
       "Month-to-month  0.572903  0.427097\n",
       "One year        0.887228  0.112772\n",
       "Two year        0.971513  0.028487"
      ]
     },
     "execution_count": 35,
     "metadata": {},
     "output_type": "execute_result"
    }
   ],
   "source": [
    "# percentage (normalize='index')\n",
    "pd.crosstab(data['Contract'], data['Churn'], normalize='index') "
   ]
  },
  {
   "cell_type": "code",
   "execution_count": 36,
   "id": "82beaf10-7f38-470f-b8fe-3b79cb71e65b",
   "metadata": {},
   "outputs": [
    {
     "data": {
      "text/html": [
       "<div>\n",
       "<style scoped>\n",
       "    .dataframe tbody tr th:only-of-type {\n",
       "        vertical-align: middle;\n",
       "    }\n",
       "\n",
       "    .dataframe tbody tr th {\n",
       "        vertical-align: top;\n",
       "    }\n",
       "\n",
       "    .dataframe thead th {\n",
       "        text-align: right;\n",
       "    }\n",
       "</style>\n",
       "<table border=\"1\" class=\"dataframe\">\n",
       "  <thead>\n",
       "    <tr style=\"text-align: right;\">\n",
       "      <th>Churn</th>\n",
       "      <th>No</th>\n",
       "      <th>Yes</th>\n",
       "    </tr>\n",
       "    <tr>\n",
       "      <th>Contract</th>\n",
       "      <th></th>\n",
       "      <th></th>\n",
       "    </tr>\n",
       "  </thead>\n",
       "  <tbody>\n",
       "    <tr>\n",
       "      <th>Month-to-month</th>\n",
       "      <td>2220</td>\n",
       "      <td>1655</td>\n",
       "    </tr>\n",
       "    <tr>\n",
       "      <th>One year</th>\n",
       "      <td>1306</td>\n",
       "      <td>166</td>\n",
       "    </tr>\n",
       "    <tr>\n",
       "      <th>Two year</th>\n",
       "      <td>1637</td>\n",
       "      <td>48</td>\n",
       "    </tr>\n",
       "  </tbody>\n",
       "</table>\n",
       "</div>"
      ],
      "text/plain": [
       "Churn             No   Yes\n",
       "Contract                  \n",
       "Month-to-month  2220  1655\n",
       "One year        1306   166\n",
       "Two year        1637    48"
      ]
     },
     "execution_count": 36,
     "metadata": {},
     "output_type": "execute_result"
    }
   ],
   "source": [
    "pd.crosstab(data['Contract'], data['Churn'])"
   ]
  },
  {
   "cell_type": "markdown",
   "id": "70fc97aa-3f3a-4264-99a8-303ccce437de",
   "metadata": {},
   "source": [
    "<p>Month-to-Month payers - 57% stays, 43%  churn</p>\n",
    "<p>One year payers -  89% stays, 11%  churn</p>\n",
    "<p>Two years payers - 97% stays, 3% churn</p>\n",
    "\n",
    "- Month-to-month customers have the highest churn rate, maby because thay got less barriers to cancel\n",
    "- Shorter contract = higher churn "
   ]
  },
  {
   "cell_type": "markdown",
   "id": "cce50700-1047-446f-a481-2cd8caa8b725",
   "metadata": {},
   "source": [
    "### Do payment methods affect customer churn?\n",
    "## ***Churn vs. PaymentMethod***"
   ]
  },
  {
   "cell_type": "code",
   "execution_count": 37,
   "id": "d1c45d91-3c30-446e-b027-fa59b5a96f21",
   "metadata": {},
   "outputs": [
    {
     "data": {
      "text/html": [
       "<div>\n",
       "<style scoped>\n",
       "    .dataframe tbody tr th:only-of-type {\n",
       "        vertical-align: middle;\n",
       "    }\n",
       "\n",
       "    .dataframe tbody tr th {\n",
       "        vertical-align: top;\n",
       "    }\n",
       "\n",
       "    .dataframe thead th {\n",
       "        text-align: right;\n",
       "    }\n",
       "</style>\n",
       "<table border=\"1\" class=\"dataframe\">\n",
       "  <thead>\n",
       "    <tr style=\"text-align: right;\">\n",
       "      <th>Churn</th>\n",
       "      <th>No</th>\n",
       "      <th>Yes</th>\n",
       "    </tr>\n",
       "    <tr>\n",
       "      <th>PaymentMethod</th>\n",
       "      <th></th>\n",
       "      <th></th>\n",
       "    </tr>\n",
       "  </thead>\n",
       "  <tbody>\n",
       "    <tr>\n",
       "      <th>Bank transfer (automatic)</th>\n",
       "      <td>0.832685</td>\n",
       "      <td>0.167315</td>\n",
       "    </tr>\n",
       "    <tr>\n",
       "      <th>Credit card (automatic)</th>\n",
       "      <td>0.847469</td>\n",
       "      <td>0.152531</td>\n",
       "    </tr>\n",
       "    <tr>\n",
       "      <th>Electronic check</th>\n",
       "      <td>0.547146</td>\n",
       "      <td>0.452854</td>\n",
       "    </tr>\n",
       "    <tr>\n",
       "      <th>Mailed check</th>\n",
       "      <td>0.807980</td>\n",
       "      <td>0.192020</td>\n",
       "    </tr>\n",
       "  </tbody>\n",
       "</table>\n",
       "</div>"
      ],
      "text/plain": [
       "Churn                            No       Yes\n",
       "PaymentMethod                                \n",
       "Bank transfer (automatic)  0.832685  0.167315\n",
       "Credit card (automatic)    0.847469  0.152531\n",
       "Electronic check           0.547146  0.452854\n",
       "Mailed check               0.807980  0.192020"
      ]
     },
     "execution_count": 37,
     "metadata": {},
     "output_type": "execute_result"
    }
   ],
   "source": [
    "# percentage (normalize='index')\n",
    "pd.crosstab(data['PaymentMethod'], data['Churn'], normalize='index') "
   ]
  },
  {
   "cell_type": "code",
   "execution_count": 38,
   "id": "5329864a-0cea-4e16-9ec9-53e663b6af82",
   "metadata": {},
   "outputs": [
    {
     "data": {
      "text/html": [
       "<div>\n",
       "<style scoped>\n",
       "    .dataframe tbody tr th:only-of-type {\n",
       "        vertical-align: middle;\n",
       "    }\n",
       "\n",
       "    .dataframe tbody tr th {\n",
       "        vertical-align: top;\n",
       "    }\n",
       "\n",
       "    .dataframe thead th {\n",
       "        text-align: right;\n",
       "    }\n",
       "</style>\n",
       "<table border=\"1\" class=\"dataframe\">\n",
       "  <thead>\n",
       "    <tr style=\"text-align: right;\">\n",
       "      <th>Churn</th>\n",
       "      <th>No</th>\n",
       "      <th>Yes</th>\n",
       "    </tr>\n",
       "    <tr>\n",
       "      <th>PaymentMethod</th>\n",
       "      <th></th>\n",
       "      <th></th>\n",
       "    </tr>\n",
       "  </thead>\n",
       "  <tbody>\n",
       "    <tr>\n",
       "      <th>Bank transfer (automatic)</th>\n",
       "      <td>1284</td>\n",
       "      <td>258</td>\n",
       "    </tr>\n",
       "    <tr>\n",
       "      <th>Credit card (automatic)</th>\n",
       "      <td>1289</td>\n",
       "      <td>232</td>\n",
       "    </tr>\n",
       "    <tr>\n",
       "      <th>Electronic check</th>\n",
       "      <td>1294</td>\n",
       "      <td>1071</td>\n",
       "    </tr>\n",
       "    <tr>\n",
       "      <th>Mailed check</th>\n",
       "      <td>1296</td>\n",
       "      <td>308</td>\n",
       "    </tr>\n",
       "  </tbody>\n",
       "</table>\n",
       "</div>"
      ],
      "text/plain": [
       "Churn                        No   Yes\n",
       "PaymentMethod                        \n",
       "Bank transfer (automatic)  1284   258\n",
       "Credit card (automatic)    1289   232\n",
       "Electronic check           1294  1071\n",
       "Mailed check               1296   308"
      ]
     },
     "execution_count": 38,
     "metadata": {},
     "output_type": "execute_result"
    }
   ],
   "source": [
    "pd.crosstab(data['PaymentMethod'], data['Churn'])"
   ]
  },
  {
   "cell_type": "markdown",
   "id": "a4ba6b35-f893-489a-985a-b005850fcaeb",
   "metadata": {},
   "source": [
    "### clearly Electronic check has the highest churn rate (45%)\n",
    "#### asuumbtions:\n",
    " - maby this customer are more alert for each monthly payment\n",
    " - and on month-to-monthe it easier to cancel as we already saw\n",
    " - customer that are more digital oriented might follow their payments more efficient\n",
    "\n",
    "### while the rest of the payment method has 15% to 19% churn rate\n",
    "#### asuumbtions:\n",
    "this could be because it is more convenience or this type of payments are get checked less (among other bills in the payment card)\n",
    "more like \"set payment once and forget about it\" approch \n"
   ]
  },
  {
   "cell_type": "markdown",
   "id": "8c4ff6a8-16a3-4581-b385-a890757a40e6",
   "metadata": {},
   "source": [
    "### Does Paperless Billing affect customers churn?\n",
    "## ***Churn vs. PaperlessBilling***"
   ]
  },
  {
   "cell_type": "code",
   "execution_count": 39,
   "id": "9e78266d-c615-424f-aa74-62178cc4c9eb",
   "metadata": {},
   "outputs": [
    {
     "data": {
      "text/html": [
       "<div>\n",
       "<style scoped>\n",
       "    .dataframe tbody tr th:only-of-type {\n",
       "        vertical-align: middle;\n",
       "    }\n",
       "\n",
       "    .dataframe tbody tr th {\n",
       "        vertical-align: top;\n",
       "    }\n",
       "\n",
       "    .dataframe thead th {\n",
       "        text-align: right;\n",
       "    }\n",
       "</style>\n",
       "<table border=\"1\" class=\"dataframe\">\n",
       "  <thead>\n",
       "    <tr style=\"text-align: right;\">\n",
       "      <th>Churn</th>\n",
       "      <th>No</th>\n",
       "      <th>Yes</th>\n",
       "    </tr>\n",
       "    <tr>\n",
       "      <th>PaperlessBilling</th>\n",
       "      <th></th>\n",
       "      <th></th>\n",
       "    </tr>\n",
       "  </thead>\n",
       "  <tbody>\n",
       "    <tr>\n",
       "      <th>No</th>\n",
       "      <td>0.836243</td>\n",
       "      <td>0.163757</td>\n",
       "    </tr>\n",
       "    <tr>\n",
       "      <th>Yes</th>\n",
       "      <td>0.664107</td>\n",
       "      <td>0.335893</td>\n",
       "    </tr>\n",
       "  </tbody>\n",
       "</table>\n",
       "</div>"
      ],
      "text/plain": [
       "Churn                   No       Yes\n",
       "PaperlessBilling                    \n",
       "No                0.836243  0.163757\n",
       "Yes               0.664107  0.335893"
      ]
     },
     "execution_count": 39,
     "metadata": {},
     "output_type": "execute_result"
    }
   ],
   "source": [
    "# percentage (normalize='index')\n",
    "pd.crosstab(data['PaperlessBilling'], data['Churn'], normalize='index')"
   ]
  },
  {
   "cell_type": "code",
   "execution_count": 40,
   "id": "223dd62c-a242-4a6f-be44-5c77be5dc3c6",
   "metadata": {},
   "outputs": [
    {
     "data": {
      "text/html": [
       "<div>\n",
       "<style scoped>\n",
       "    .dataframe tbody tr th:only-of-type {\n",
       "        vertical-align: middle;\n",
       "    }\n",
       "\n",
       "    .dataframe tbody tr th {\n",
       "        vertical-align: top;\n",
       "    }\n",
       "\n",
       "    .dataframe thead th {\n",
       "        text-align: right;\n",
       "    }\n",
       "</style>\n",
       "<table border=\"1\" class=\"dataframe\">\n",
       "  <thead>\n",
       "    <tr style=\"text-align: right;\">\n",
       "      <th>Churn</th>\n",
       "      <th>No</th>\n",
       "      <th>Yes</th>\n",
       "    </tr>\n",
       "    <tr>\n",
       "      <th>PaperlessBilling</th>\n",
       "      <th></th>\n",
       "      <th></th>\n",
       "    </tr>\n",
       "  </thead>\n",
       "  <tbody>\n",
       "    <tr>\n",
       "      <th>No</th>\n",
       "      <td>2395</td>\n",
       "      <td>469</td>\n",
       "    </tr>\n",
       "    <tr>\n",
       "      <th>Yes</th>\n",
       "      <td>2768</td>\n",
       "      <td>1400</td>\n",
       "    </tr>\n",
       "  </tbody>\n",
       "</table>\n",
       "</div>"
      ],
      "text/plain": [
       "Churn               No   Yes\n",
       "PaperlessBilling            \n",
       "No                2395   469\n",
       "Yes               2768  1400"
      ]
     },
     "execution_count": 40,
     "metadata": {},
     "output_type": "execute_result"
    }
   ],
   "source": [
    "pd.crosstab(data['PaperlessBilling'], data['Churn'])"
   ]
  },
  {
   "cell_type": "markdown",
   "id": "fb583f01-c8bd-46c7-a2ce-f6b066aab3a6",
   "metadata": {},
   "source": [
    "##### The churn rate is double (16% vs 34%) for customers that has paperless billing\n",
    "  #### asuumbtions:\n",
    "- maby the customers that have the paperless billing get the bill by email or other digital way \n",
    "  and they might follow their payments more efficient\n",
    "- it might be demographic difference like younger vs older - older people prefer the paper billing and younger the paperless billing\n",
    "- on the other hand, people with a paperless account might be less aware of their bills (the opossite of what I claimed before) \n",
    "  than people with a paper account, and when an incorrect charge occurs, it may cause them to become frustrated and churn.\n"
   ]
  },
  {
   "cell_type": "markdown",
   "id": "4d05b8e1-a273-462b-ac92-0dfdc8d7a809",
   "metadata": {},
   "source": [
    "### Which internet service type has the highest churn rate?\n",
    "## ***Churn vs. InternetService Type***"
   ]
  },
  {
   "cell_type": "code",
   "execution_count": 41,
   "id": "07015fd7-3211-4b85-9304-ef3069270304",
   "metadata": {},
   "outputs": [
    {
     "data": {
      "text/html": [
       "<div>\n",
       "<style scoped>\n",
       "    .dataframe tbody tr th:only-of-type {\n",
       "        vertical-align: middle;\n",
       "    }\n",
       "\n",
       "    .dataframe tbody tr th {\n",
       "        vertical-align: top;\n",
       "    }\n",
       "\n",
       "    .dataframe thead th {\n",
       "        text-align: right;\n",
       "    }\n",
       "</style>\n",
       "<table border=\"1\" class=\"dataframe\">\n",
       "  <thead>\n",
       "    <tr style=\"text-align: right;\">\n",
       "      <th>Churn</th>\n",
       "      <th>No</th>\n",
       "      <th>Yes</th>\n",
       "    </tr>\n",
       "    <tr>\n",
       "      <th>InternetService</th>\n",
       "      <th></th>\n",
       "      <th></th>\n",
       "    </tr>\n",
       "  </thead>\n",
       "  <tbody>\n",
       "    <tr>\n",
       "      <th>DSL</th>\n",
       "      <td>0.810017</td>\n",
       "      <td>0.189983</td>\n",
       "    </tr>\n",
       "    <tr>\n",
       "      <th>Fiber optic</th>\n",
       "      <td>0.581072</td>\n",
       "      <td>0.418928</td>\n",
       "    </tr>\n",
       "    <tr>\n",
       "      <th>No</th>\n",
       "      <td>0.925658</td>\n",
       "      <td>0.074342</td>\n",
       "    </tr>\n",
       "  </tbody>\n",
       "</table>\n",
       "</div>"
      ],
      "text/plain": [
       "Churn                  No       Yes\n",
       "InternetService                    \n",
       "DSL              0.810017  0.189983\n",
       "Fiber optic      0.581072  0.418928\n",
       "No               0.925658  0.074342"
      ]
     },
     "execution_count": 41,
     "metadata": {},
     "output_type": "execute_result"
    }
   ],
   "source": [
    "# percentage (normalize='index')\n",
    "pd.crosstab(data['InternetService'], data['Churn'], normalize='index')"
   ]
  },
  {
   "cell_type": "code",
   "execution_count": 42,
   "id": "a75bb6d7-c04f-4f06-8adf-a02157b7e4e4",
   "metadata": {},
   "outputs": [
    {
     "data": {
      "text/html": [
       "<div>\n",
       "<style scoped>\n",
       "    .dataframe tbody tr th:only-of-type {\n",
       "        vertical-align: middle;\n",
       "    }\n",
       "\n",
       "    .dataframe tbody tr th {\n",
       "        vertical-align: top;\n",
       "    }\n",
       "\n",
       "    .dataframe thead th {\n",
       "        text-align: right;\n",
       "    }\n",
       "</style>\n",
       "<table border=\"1\" class=\"dataframe\">\n",
       "  <thead>\n",
       "    <tr style=\"text-align: right;\">\n",
       "      <th>Churn</th>\n",
       "      <th>No</th>\n",
       "      <th>Yes</th>\n",
       "    </tr>\n",
       "    <tr>\n",
       "      <th>InternetService</th>\n",
       "      <th></th>\n",
       "      <th></th>\n",
       "    </tr>\n",
       "  </thead>\n",
       "  <tbody>\n",
       "    <tr>\n",
       "      <th>DSL</th>\n",
       "      <td>1957</td>\n",
       "      <td>459</td>\n",
       "    </tr>\n",
       "    <tr>\n",
       "      <th>Fiber optic</th>\n",
       "      <td>1799</td>\n",
       "      <td>1297</td>\n",
       "    </tr>\n",
       "    <tr>\n",
       "      <th>No</th>\n",
       "      <td>1407</td>\n",
       "      <td>113</td>\n",
       "    </tr>\n",
       "  </tbody>\n",
       "</table>\n",
       "</div>"
      ],
      "text/plain": [
       "Churn              No   Yes\n",
       "InternetService            \n",
       "DSL              1957   459\n",
       "Fiber optic      1799  1297\n",
       "No               1407   113"
      ]
     },
     "execution_count": 42,
     "metadata": {},
     "output_type": "execute_result"
    }
   ],
   "source": [
    "pd.crosstab(data['InternetService'], data['Churn'])"
   ]
  },
  {
   "cell_type": "markdown",
   "id": "b0ce83fc-3c73-4686-8610-04b6cdb46e9d",
   "metadata": {},
   "source": [
    "- DSL has 19% churn rate\n",
    "- Fiber optic have 42% churn rate\n",
    "- No Internet 7.5% churn rate\n",
    "\n",
    "##### Fiber optic have the highest churn rate, indicate that:\n",
    "- higher costs for fiber leads to churn\n",
    "- the expectation from that service package (FIBER are better) leads to disappointment \n",
    "- competitive market for faster internet might lead to switching providers with better offers"
   ]
  },
  {
   "cell_type": "markdown",
   "id": "3b684d51-002f-416f-872b-3847b342cbc3",
   "metadata": {},
   "source": [
    "### Do senior citizens have a higher churn rate?\n",
    "## ***Churn vs. SeniorCitizen***"
   ]
  },
  {
   "cell_type": "code",
   "execution_count": 43,
   "id": "15548fe0-be90-4856-9117-9654365bf9e6",
   "metadata": {},
   "outputs": [
    {
     "data": {
      "text/html": [
       "<div>\n",
       "<style scoped>\n",
       "    .dataframe tbody tr th:only-of-type {\n",
       "        vertical-align: middle;\n",
       "    }\n",
       "\n",
       "    .dataframe tbody tr th {\n",
       "        vertical-align: top;\n",
       "    }\n",
       "\n",
       "    .dataframe thead th {\n",
       "        text-align: right;\n",
       "    }\n",
       "</style>\n",
       "<table border=\"1\" class=\"dataframe\">\n",
       "  <thead>\n",
       "    <tr style=\"text-align: right;\">\n",
       "      <th>Churn</th>\n",
       "      <th>No</th>\n",
       "      <th>Yes</th>\n",
       "    </tr>\n",
       "    <tr>\n",
       "      <th>SeniorCitizen</th>\n",
       "      <th></th>\n",
       "      <th></th>\n",
       "    </tr>\n",
       "  </thead>\n",
       "  <tbody>\n",
       "    <tr>\n",
       "      <th>0</th>\n",
       "      <td>0.763497</td>\n",
       "      <td>0.236503</td>\n",
       "    </tr>\n",
       "    <tr>\n",
       "      <th>1</th>\n",
       "      <td>0.583187</td>\n",
       "      <td>0.416813</td>\n",
       "    </tr>\n",
       "  </tbody>\n",
       "</table>\n",
       "</div>"
      ],
      "text/plain": [
       "Churn                No       Yes\n",
       "SeniorCitizen                    \n",
       "0              0.763497  0.236503\n",
       "1              0.583187  0.416813"
      ]
     },
     "execution_count": 43,
     "metadata": {},
     "output_type": "execute_result"
    }
   ],
   "source": [
    "# percentage (normalize='index')\n",
    "pd.crosstab(data['SeniorCitizen'], data['Churn'], normalize='index')"
   ]
  },
  {
   "cell_type": "code",
   "execution_count": 44,
   "id": "c57c71d8-943f-4000-b9e6-a311ea426be1",
   "metadata": {},
   "outputs": [
    {
     "data": {
      "text/html": [
       "<div>\n",
       "<style scoped>\n",
       "    .dataframe tbody tr th:only-of-type {\n",
       "        vertical-align: middle;\n",
       "    }\n",
       "\n",
       "    .dataframe tbody tr th {\n",
       "        vertical-align: top;\n",
       "    }\n",
       "\n",
       "    .dataframe thead th {\n",
       "        text-align: right;\n",
       "    }\n",
       "</style>\n",
       "<table border=\"1\" class=\"dataframe\">\n",
       "  <thead>\n",
       "    <tr style=\"text-align: right;\">\n",
       "      <th>Churn</th>\n",
       "      <th>No</th>\n",
       "      <th>Yes</th>\n",
       "    </tr>\n",
       "    <tr>\n",
       "      <th>SeniorCitizen</th>\n",
       "      <th></th>\n",
       "      <th></th>\n",
       "    </tr>\n",
       "  </thead>\n",
       "  <tbody>\n",
       "    <tr>\n",
       "      <th>0</th>\n",
       "      <td>4497</td>\n",
       "      <td>1393</td>\n",
       "    </tr>\n",
       "    <tr>\n",
       "      <th>1</th>\n",
       "      <td>666</td>\n",
       "      <td>476</td>\n",
       "    </tr>\n",
       "  </tbody>\n",
       "</table>\n",
       "</div>"
      ],
      "text/plain": [
       "Churn            No   Yes\n",
       "SeniorCitizen            \n",
       "0              4497  1393\n",
       "1               666   476"
      ]
     },
     "execution_count": 44,
     "metadata": {},
     "output_type": "execute_result"
    }
   ],
   "source": [
    "pd.crosstab(data['SeniorCitizen'], data['Churn'])"
   ]
  },
  {
   "cell_type": "markdown",
   "id": "0b41660b-0a07-42cd-87a7-a7dbd256d043",
   "metadata": {},
   "source": [
    "#### that shows that senior citizens has higher churn rate\n",
    "#### more asuumbtions:\n",
    "- Seniors might be more sensitive to price increases\n",
    "- they use less Tech services that they need to pay for\n",
    "- other providers that has senior citizens discounts or simpler plan package\n"
   ]
  },
  {
   "cell_type": "markdown",
   "id": "8289e82e-be98-4ff8-868e-01b9dc0d945b",
   "metadata": {},
   "source": [
    "### Do customers with partners have a higher churn rate?\n",
    "## ***Churn vs. Partner***"
   ]
  },
  {
   "cell_type": "code",
   "execution_count": 45,
   "id": "9b5edd99-b067-4370-98a3-208b9bcea5f7",
   "metadata": {},
   "outputs": [
    {
     "data": {
      "text/html": [
       "<div>\n",
       "<style scoped>\n",
       "    .dataframe tbody tr th:only-of-type {\n",
       "        vertical-align: middle;\n",
       "    }\n",
       "\n",
       "    .dataframe tbody tr th {\n",
       "        vertical-align: top;\n",
       "    }\n",
       "\n",
       "    .dataframe thead th {\n",
       "        text-align: right;\n",
       "    }\n",
       "</style>\n",
       "<table border=\"1\" class=\"dataframe\">\n",
       "  <thead>\n",
       "    <tr style=\"text-align: right;\">\n",
       "      <th>Churn</th>\n",
       "      <th>No</th>\n",
       "      <th>Yes</th>\n",
       "    </tr>\n",
       "    <tr>\n",
       "      <th>Partner</th>\n",
       "      <th></th>\n",
       "      <th></th>\n",
       "    </tr>\n",
       "  </thead>\n",
       "  <tbody>\n",
       "    <tr>\n",
       "      <th>No</th>\n",
       "      <td>0.670239</td>\n",
       "      <td>0.329761</td>\n",
       "    </tr>\n",
       "    <tr>\n",
       "      <th>Yes</th>\n",
       "      <td>0.802829</td>\n",
       "      <td>0.197171</td>\n",
       "    </tr>\n",
       "  </tbody>\n",
       "</table>\n",
       "</div>"
      ],
      "text/plain": [
       "Churn          No       Yes\n",
       "Partner                    \n",
       "No       0.670239  0.329761\n",
       "Yes      0.802829  0.197171"
      ]
     },
     "execution_count": 45,
     "metadata": {},
     "output_type": "execute_result"
    }
   ],
   "source": [
    "# percentage (normalize='index')\n",
    "pd.crosstab(data['Partner'], data['Churn'], normalize='index')"
   ]
  },
  {
   "cell_type": "code",
   "execution_count": 46,
   "id": "03750d5b-8ec7-4463-8332-93641b7d3e10",
   "metadata": {},
   "outputs": [
    {
     "data": {
      "text/html": [
       "<div>\n",
       "<style scoped>\n",
       "    .dataframe tbody tr th:only-of-type {\n",
       "        vertical-align: middle;\n",
       "    }\n",
       "\n",
       "    .dataframe tbody tr th {\n",
       "        vertical-align: top;\n",
       "    }\n",
       "\n",
       "    .dataframe thead th {\n",
       "        text-align: right;\n",
       "    }\n",
       "</style>\n",
       "<table border=\"1\" class=\"dataframe\">\n",
       "  <thead>\n",
       "    <tr style=\"text-align: right;\">\n",
       "      <th>Churn</th>\n",
       "      <th>No</th>\n",
       "      <th>Yes</th>\n",
       "    </tr>\n",
       "    <tr>\n",
       "      <th>Partner</th>\n",
       "      <th></th>\n",
       "      <th></th>\n",
       "    </tr>\n",
       "  </thead>\n",
       "  <tbody>\n",
       "    <tr>\n",
       "      <th>No</th>\n",
       "      <td>2439</td>\n",
       "      <td>1200</td>\n",
       "    </tr>\n",
       "    <tr>\n",
       "      <th>Yes</th>\n",
       "      <td>2724</td>\n",
       "      <td>669</td>\n",
       "    </tr>\n",
       "  </tbody>\n",
       "</table>\n",
       "</div>"
      ],
      "text/plain": [
       "Churn      No   Yes\n",
       "Partner            \n",
       "No       2439  1200\n",
       "Yes      2724   669"
      ]
     },
     "execution_count": 46,
     "metadata": {},
     "output_type": "execute_result"
    }
   ],
   "source": [
    "pd.crosstab(data['Partner'], data['Churn'])"
   ]
  },
  {
   "cell_type": "markdown",
   "id": "e743ef76-6e1b-4d18-b7aa-b1fbaf092ea1",
   "metadata": {},
   "source": [
    "##### Having a partner shows lower churn rate, the difference is 13%\n",
    "- Customers with a partner may share bills or have more stable finances, less cancelation propbility\n",
    "- The more people depend on the service, the more complicated it is to cancel, the more bureaucracy and coordination with the partner\n"
   ]
  },
  {
   "cell_type": "markdown",
   "id": "38cca941-5455-45c3-8694-27fcea83c754",
   "metadata": {},
   "source": [
    "### MultipleLines effect churn rate?\n",
    "## ***Churn vs. MultipleLines***"
   ]
  },
  {
   "cell_type": "code",
   "execution_count": 67,
   "id": "9c925ff5-f14e-48a0-9f5e-ae43f7919b5e",
   "metadata": {},
   "outputs": [
    {
     "data": {
      "text/html": [
       "<div>\n",
       "<style scoped>\n",
       "    .dataframe tbody tr th:only-of-type {\n",
       "        vertical-align: middle;\n",
       "    }\n",
       "\n",
       "    .dataframe tbody tr th {\n",
       "        vertical-align: top;\n",
       "    }\n",
       "\n",
       "    .dataframe thead th {\n",
       "        text-align: right;\n",
       "    }\n",
       "</style>\n",
       "<table border=\"1\" class=\"dataframe\">\n",
       "  <thead>\n",
       "    <tr style=\"text-align: right;\">\n",
       "      <th>Churn</th>\n",
       "      <th>No</th>\n",
       "      <th>Yes</th>\n",
       "    </tr>\n",
       "    <tr>\n",
       "      <th>MultipleLines</th>\n",
       "      <th></th>\n",
       "      <th></th>\n",
       "    </tr>\n",
       "  </thead>\n",
       "  <tbody>\n",
       "    <tr>\n",
       "      <th>No</th>\n",
       "      <td>2536</td>\n",
       "      <td>849</td>\n",
       "    </tr>\n",
       "    <tr>\n",
       "      <th>No phone service</th>\n",
       "      <td>510</td>\n",
       "      <td>170</td>\n",
       "    </tr>\n",
       "    <tr>\n",
       "      <th>Yes</th>\n",
       "      <td>2117</td>\n",
       "      <td>850</td>\n",
       "    </tr>\n",
       "  </tbody>\n",
       "</table>\n",
       "</div>"
      ],
      "text/plain": [
       "Churn               No  Yes\n",
       "MultipleLines              \n",
       "No                2536  849\n",
       "No phone service   510  170\n",
       "Yes               2117  850"
      ]
     },
     "execution_count": 67,
     "metadata": {},
     "output_type": "execute_result"
    }
   ],
   "source": [
    "pd.crosstab(data['MultipleLines'], data['Churn'])"
   ]
  },
  {
   "cell_type": "code",
   "execution_count": 68,
   "id": "d9ef8fc3-40ce-403d-8f74-ecc3c064ad6a",
   "metadata": {},
   "outputs": [
    {
     "data": {
      "text/html": [
       "<div>\n",
       "<style scoped>\n",
       "    .dataframe tbody tr th:only-of-type {\n",
       "        vertical-align: middle;\n",
       "    }\n",
       "\n",
       "    .dataframe tbody tr th {\n",
       "        vertical-align: top;\n",
       "    }\n",
       "\n",
       "    .dataframe thead th {\n",
       "        text-align: right;\n",
       "    }\n",
       "</style>\n",
       "<table border=\"1\" class=\"dataframe\">\n",
       "  <thead>\n",
       "    <tr style=\"text-align: right;\">\n",
       "      <th>Churn</th>\n",
       "      <th>No</th>\n",
       "      <th>Yes</th>\n",
       "    </tr>\n",
       "    <tr>\n",
       "      <th>MultipleLines</th>\n",
       "      <th></th>\n",
       "      <th></th>\n",
       "    </tr>\n",
       "  </thead>\n",
       "  <tbody>\n",
       "    <tr>\n",
       "      <th>No</th>\n",
       "      <td>0.749188</td>\n",
       "      <td>0.250812</td>\n",
       "    </tr>\n",
       "    <tr>\n",
       "      <th>No phone service</th>\n",
       "      <td>0.750000</td>\n",
       "      <td>0.250000</td>\n",
       "    </tr>\n",
       "    <tr>\n",
       "      <th>Yes</th>\n",
       "      <td>0.713515</td>\n",
       "      <td>0.286485</td>\n",
       "    </tr>\n",
       "  </tbody>\n",
       "</table>\n",
       "</div>"
      ],
      "text/plain": [
       "Churn                   No       Yes\n",
       "MultipleLines                       \n",
       "No                0.749188  0.250812\n",
       "No phone service  0.750000  0.250000\n",
       "Yes               0.713515  0.286485"
      ]
     },
     "execution_count": 68,
     "metadata": {},
     "output_type": "execute_result"
    }
   ],
   "source": [
    "# percentage (normalize='index')\n",
    "pd.crosstab(data['MultipleLines'], data['Churn'], normalize='index')"
   ]
  },
  {
   "cell_type": "markdown",
   "id": "65bf47a1-fc25-40a8-8971-adb56cd196df",
   "metadata": {},
   "source": [
    "- customers with multiple lines have a higher churn rate (28.6%) than those with no multiple lines (25.1%) or no phone service (25.0%).\n",
    "- the gap isn’t big , but it’s consistent across the data.\n",
    "- maby customers with multiple lines might churn becuse higher costs, or other factors"
   ]
  },
  {
   "cell_type": "code",
   "execution_count": 70,
   "id": "c3746b7c-3cc0-485f-9c94-aa1f4bff7c79",
   "metadata": {},
   "outputs": [
    {
     "data": {
      "image/png": "[encoded data removed]",
      "text/plain": [
       "<Figure size 640x480 with 1 Axes>"
      ]
     },
     "metadata": {},
     "output_type": "display_data"
    }
   ],
   "source": [
    "sns.countplot(data=data, x='MultipleLines', hue='Churn')\n",
    "\n",
    "plt.title(\"Churn Distribution by MultipleLines\")\n",
    "plt.xlabel(\"MultipleLines\")\n",
    "plt.ylabel(\"Count\")\n",
    "plt.show()"
   ]
  },
  {
   "cell_type": "markdown",
   "id": "bb3f995c-7a2e-4b61-9271-d1908958c3f2",
   "metadata": {},
   "source": [
    "## ***All Crosstabs Visualization***"
   ]
  },
  {
   "cell_type": "code",
   "execution_count": 5,
   "id": "782d69df-1f1d-40ce-ac78-3499d30406e9",
   "metadata": {},
   "outputs": [
    {
     "data": {
      "image/png": "[encoded data removed]",
      "text/plain": [
       "<Figure size 600x400 with 1 Axes>"
      ]
     },
     "metadata": {},
     "output_type": "display_data"
    },
    {
     "data": {
      "image/png": "[encoded data removed]",
      "text/plain": [
       "<Figure size 600x400 with 1 Axes>"
      ]
     },
     "metadata": {},
     "output_type": "display_data"
    },
    {
     "data": {
      "image/png": "[encoded data removed]",
      "text/plain": [
       "<Figure size 600x400 with 1 Axes>"
      ]
     },
     "metadata": {},
     "output_type": "display_data"
    },
    {
     "data": {
      "image/png": "[encoded data removed]",
      "text/plain": [
       "<Figure size 600x400 with 1 Axes>"
      ]
     },
     "metadata": {},
     "output_type": "display_data"
    },
    {
     "data": {
      "image/png": "[encoded data removed]",
      "text/plain": [
       "<Figure size 600x400 with 1 Axes>"
      ]
     },
     "metadata": {},
     "output_type": "display_data"
    },
    {
     "data": {
      "image/png": "[encoded data removed]",
      "text/plain": [
       "<Figure size 600x400 with 1 Axes>"
      ]
     },
     "metadata": {},
     "output_type": "display_data"
    }
   ],
   "source": [
    "categorical_cols = ['Contract', 'PaymentMethod', 'PaperlessBilling', \n",
    "                    'InternetService', 'SeniorCitizen','gender']\n",
    "\n",
    "for col in categorical_cols:\n",
    "    cross_tab = pd.crosstab(data[col], data['Churn'])\n",
    "    \n",
    "    cross_tab.plot(kind='bar', stacked=False, \n",
    "                   color=['blue', 'red'], \n",
    "                   figsize=(6, 4))\n",
    "    \n",
    "    plt.title(f'Churn VS {col}')\n",
    "    plt.ylabel('Count')\n",
    "    plt.xlabel(col)\n",
    "    plt.legend(title='Churn', loc='upper right')\n",
    "    plt.tight_layout()\n",
    "    plt.show()"
   ]
  },
  {
   "cell_type": "markdown",
   "id": "a4990f79-a5ac-49e9-84de-1de6cb92411b",
   "metadata": {},
   "source": [
    "## ***T-Test***"
   ]
  },
  {
   "cell_type": "markdown",
   "id": "b738b445-412a-4e54-9a1b-aaef5938beae",
   "metadata": {},
   "source": [
    "#### T-Test for churn and monthly charges"
   ]
  },
  {
   "cell_type": "code",
   "execution_count": 47,
   "id": "2a59e292-f263-4a56-9b52-5d35445f9d0a",
   "metadata": {},
   "outputs": [
    {
     "name": "stdout",
     "output_type": "stream",
     "text": [
      "T-statistic: 18.3409\n",
      "P-value: 2.6574e-72\n",
      "Result: Significant difference in average monthly charges between churners and non-churners.\n"
     ]
    },
    {
     "data": {
      "image/png": "[encoded data removed]",
      "text/plain": [
       "<Figure size 640x480 with 1 Axes>"
      ]
     },
     "metadata": {},
     "output_type": "display_data"
    }
   ],
   "source": [
    "# Separate the MonthlyCharges data by churn status\n",
    "churn_yes = data.loc[data['Churn'] == 'Yes', 'MonthlyCharges']\n",
    "churn_no = data.loc[data['Churn'] == 'No', 'MonthlyCharges']\n",
    "\n",
    "# equal_var=False (Welch's Variant - which does not assume equal population) ????\n",
    "t_stat, p_value = stats.ttest_ind(churn_yes, churn_no, equal_var=False)\n",
    "\n",
    "print(f\"T-statistic: {t_stat:.4f}\")\n",
    "print(f\"P-value: {p_value:.4e}\")\n",
    "\n",
    "if p_value < 0.05:\n",
    "    print(\"Result: Significant difference in average monthly charges between churners and non-churners.\")\n",
    "else:\n",
    "    print(\"Result: No significant difference in average monthly charges between churners and non-churners.\")\n",
    "\n",
    "sns.boxplot(x='Churn', y='MonthlyCharges', data=data)\n",
    "plt.title(f\"T-statistic = {t_stat:.2f}, p-value = {p_value:.4f}\")\n",
    "plt.show()"
   ]
  },
  {
   "cell_type": "markdown",
   "id": "831e18c9-722c-4129-8cfd-4cdc020583d6",
   "metadata": {},
   "source": [
    "#### T-test for churn and tenure"
   ]
  },
  {
   "cell_type": "code",
   "execution_count": 48,
   "id": "82a18ea9-d0fd-4e72-9a8e-6cd8e58382c8",
   "metadata": {},
   "outputs": [
    {
     "name": "stdout",
     "output_type": "stream",
     "text": [
      "T-statistic: -34.9719\n",
      "P-value: 2.3471e-234\n",
      "Result: Significant difference in tenure between churners and non-churners.\n"
     ]
    },
    {
     "data": {
      "image/png": "[encoded data removed]",
      "text/plain": [
       "<Figure size 640x480 with 1 Axes>"
      ]
     },
     "metadata": {},
     "output_type": "display_data"
    }
   ],
   "source": [
    "# Separate the tenure data by churn status\n",
    "churn_yes = data.loc[data['Churn'] == 'Yes', 'tenure']\n",
    "churn_no = data.loc[data['Churn'] == 'No', 'tenure']\n",
    "\n",
    "# equal_var=False meaning its a Welch's Variant (which does not assume equal population)\n",
    "t_stat, p_value = stats.ttest_ind(churn_yes, churn_no, equal_var=False)\n",
    "\n",
    "print(f\"T-statistic: {t_stat:.4f}\")\n",
    "print(f\"P-value: {p_value:.4e}\")\n",
    "\n",
    "if p_value < 0.05:\n",
    "    print(\"Result: Significant difference in tenure between churners and non-churners.\")\n",
    "else:\n",
    "    print(\"Result: No significant difference in tenure between churners and non-churners.\")\n",
    "\n",
    "sns.boxplot(x='Churn', y='tenure', data=data)\n",
    "plt.title(f\"T-statistic = {t_stat:.2f}, p-value = {p_value:.4f}\")\n",
    "plt.show()"
   ]
  },
  {
   "cell_type": "markdown",
   "id": "2cd3794a-2856-431c-a42b-c8ba8ef3e57a",
   "metadata": {},
   "source": [
    "### Distribution plots (Tenure,MonthlyCharges,TotalCharges)"
   ]
  },
  {
   "cell_type": "code",
   "execution_count": 12,
   "id": "d9ac3f94-8459-4312-ae27-36e4970263b1",
   "metadata": {},
   "outputs": [
    {
     "data": {
      "image/png": "[encoded data removed]",
      "text/plain": [
       "<Figure size 640x480 with 1 Axes>"
      ]
     },
     "metadata": {},
     "output_type": "display_data"
    },
    {
     "data": {
      "image/png": "[encoded data removed]",
      "text/plain": [
       "<Figure size 640x480 with 1 Axes>"
      ]
     },
     "metadata": {},
     "output_type": "display_data"
    },
    {
     "data": {
      "image/png": "[encoded data removed]",
      "text/plain": [
       "<Figure size 640x480 with 1 Axes>"
      ]
     },
     "metadata": {},
     "output_type": "display_data"
    }
   ],
   "source": [
    "# For Tenure (Number of months the customer has stayed with the company)\n",
    "sns.histplot(data=data, x='tenure', kde=True)\n",
    "plt.title('Distribution of Tenure')\n",
    "plt.show()\n",
    "\n",
    "# For MonthlyCharges\n",
    "sns.histplot(data=data, x='MonthlyCharges', kde=True)\n",
    "plt.title('Distribution of MonthlyCharges')\n",
    "plt.show()\n",
    "\n",
    "# For TotalCharges (after converting to numeric, if needed)\n",
    "sns.histplot(data=data, x='TotalCharges', kde=True)\n",
    "plt.title('Distribution of TotalCharges')\n",
    "plt.show()"
   ]
  },
  {
   "cell_type": "markdown",
   "id": "3f89afb5-ee17-4183-a894-1b75bfd8009e",
   "metadata": {},
   "source": [
    "### Distribution of Tenure \n",
    "- There is a big jump near 1–2 months, indicating many new joined customers.\n",
    "- around 20-40 monthes the frequency drops and remaing relative low\n",
    "- weird jump around 70 monthes - maby long term customers??\n",
    "### Distribution of MonthlyCharges\n",
    "- most customers pay around 20 USD (low payment) - maby only one service plan like only phone\n",
    "- looks like a right skewed distribution - maby small group of customers get all services and pay higher charge per month\n",
    "### Distribution of TotalCharges\n",
    "- the plot shows a wide spread of payments with minor right skewed "
   ]
  },
  {
   "cell_type": "markdown",
   "id": "5e41c4dd-35d3-48ba-96c9-4d926b847bc9",
   "metadata": {},
   "source": [
    "## other approch to groupby churn and numerical columns with Kurtosis"
   ]
  },
  {
   "cell_type": "code",
   "execution_count": 28,
   "id": "2ca84adf-f1a4-4c41-8478-98c3540d993d",
   "metadata": {},
   "outputs": [
    {
     "data": {
      "text/html": [
       "<div>\n",
       "<style scoped>\n",
       "    .dataframe tbody tr th:only-of-type {\n",
       "        vertical-align: middle;\n",
       "    }\n",
       "\n",
       "    .dataframe tbody tr th {\n",
       "        vertical-align: top;\n",
       "    }\n",
       "\n",
       "    .dataframe thead th {\n",
       "        text-align: right;\n",
       "    }\n",
       "</style>\n",
       "<table border=\"1\" class=\"dataframe\">\n",
       "  <thead>\n",
       "    <tr style=\"text-align: right;\">\n",
       "      <th></th>\n",
       "      <th>Mean_MonthlyCharges</th>\n",
       "      <th>Median_MonthlyCharges</th>\n",
       "      <th>Kurtosis_MonthlyCharges</th>\n",
       "      <th>Mean_TotalCharges</th>\n",
       "      <th>Median_TotalCharges</th>\n",
       "      <th>Kurtosis_TotalCharges</th>\n",
       "    </tr>\n",
       "    <tr>\n",
       "      <th>Churn</th>\n",
       "      <th></th>\n",
       "      <th></th>\n",
       "      <th></th>\n",
       "      <th></th>\n",
       "      <th></th>\n",
       "      <th></th>\n",
       "    </tr>\n",
       "  </thead>\n",
       "  <tbody>\n",
       "    <tr>\n",
       "      <th>No</th>\n",
       "      <td>61.265124</td>\n",
       "      <td>64.425</td>\n",
       "      <td>-1.355301</td>\n",
       "      <td>2555.344141</td>\n",
       "      <td>1683.60</td>\n",
       "      <td>NaN</td>\n",
       "    </tr>\n",
       "    <tr>\n",
       "      <th>Yes</th>\n",
       "      <td>74.441332</td>\n",
       "      <td>79.650</td>\n",
       "      <td>-0.361516</td>\n",
       "      <td>1531.796094</td>\n",
       "      <td>703.55</td>\n",
       "      <td>1.461704</td>\n",
       "    </tr>\n",
       "  </tbody>\n",
       "</table>\n",
       "</div>"
      ],
      "text/plain": [
       "       Mean_MonthlyCharges  Median_MonthlyCharges  Kurtosis_MonthlyCharges  \\\n",
       "Churn                                                                        \n",
       "No               61.265124                 64.425                -1.355301   \n",
       "Yes              74.441332                 79.650                -0.361516   \n",
       "\n",
       "       Mean_TotalCharges  Median_TotalCharges  Kurtosis_TotalCharges  \n",
       "Churn                                                                 \n",
       "No           2555.344141              1683.60                    NaN  \n",
       "Yes          1531.796094               703.55               1.461704  "
      ]
     },
     "execution_count": 28,
     "metadata": {},
     "output_type": "execute_result"
    }
   ],
   "source": [
    "from scipy.stats import kurtosis\n",
    "\n",
    "result = data.groupby('Churn', observed=True).agg(\n",
    "    Mean_MonthlyCharges=('MonthlyCharges', 'mean'),\n",
    "    Median_MonthlyCharges=('MonthlyCharges', 'median'),\n",
    "    Kurtosis_MonthlyCharges=('MonthlyCharges', lambda x: kurtosis(x, fisher=True, bias=False)),\n",
    "    \n",
    "    Mean_TotalCharges=('TotalCharges', 'mean'),\n",
    "    Median_TotalCharges=('TotalCharges', 'median'),\n",
    "    Kurtosis_TotalCharges=('TotalCharges', lambda x: kurtosis(x, fisher=True, bias=False))\n",
    ")\n",
    "\n",
    "result"
   ]
  },
  {
   "cell_type": "markdown",
   "id": "8b30ba9e-12d4-460b-aa7c-003e0a1b8bf6",
   "metadata": {},
   "source": [
    "# Customer counts for services use"
   ]
  },
  {
   "cell_type": "code",
   "execution_count": 55,
   "id": "58ae4f1b-312e-4a99-9234-3f9decc36e9c",
   "metadata": {},
   "outputs": [
    {
     "name": "stdout",
     "output_type": "stream",
     "text": [
      "Number of customers with PhoneService = 6352\n",
      "---------------------------------------------------------------\n",
      "Number of customers with MultipleLines = 2967\n",
      "---------------------------------------------------------------\n",
      "Number of customers with InternetService (DSL/Fiber optic) = 5512\n",
      "---------------------------------------------------------------\n",
      "Number of customers with OnlineSecurity = 2015\n",
      "---------------------------------------------------------------\n",
      "Number of customers with OnlineBackup = 2425\n",
      "---------------------------------------------------------------\n",
      "Number of customers with DeviceProtection = 2418\n",
      "---------------------------------------------------------------\n",
      "Number of customers with TechSupport = 2040\n",
      "---------------------------------------------------------------\n",
      "Number of customers with StreamingTV = 2703\n",
      "---------------------------------------------------------------\n",
      "Number of customers with StreamingMovies = 2731\n",
      "---------------------------------------------------------------\n",
      " of total 7032 customer\n"
     ]
    }
   ],
   "source": [
    "# 1. PhoneService: Count \"Yes\"\n",
    "phone_yes_count = data['PhoneService'].eq('Yes').sum()\n",
    "print(\"Number of customers with PhoneService =\", phone_yes_count)\n",
    "print(\"---------------------------------------------------------------\")\n",
    "\n",
    "# 2. MultipleLines: Count \"Yes\"\n",
    "multiple_lines_count = data['MultipleLines'].eq('Yes').sum()\n",
    "print(\"Number of customers with MultipleLines =\", multiple_lines_count)\n",
    "print(\"---------------------------------------------------------------\")\n",
    "\n",
    "# 3. InternetService: Count  DSL or Fiber optic\n",
    "internet_count = data['InternetService'].isin(['DSL', 'Fiber optic']).sum()\n",
    "print(\"Number of customers with InternetService (DSL/Fiber optic) =\", internet_count)\n",
    "print(\"---------------------------------------------------------------\")\n",
    "\n",
    "# 4. OnlineSecurity: Count  \"Yes\"\n",
    "online_security_count = data['OnlineSecurity'].eq('Yes').sum()\n",
    "print(\"Number of customers with OnlineSecurity =\", online_security_count)\n",
    "print(\"---------------------------------------------------------------\")\n",
    "\n",
    "# 5. OnlineBackup: Count \"Yes\"\n",
    "online_backup_count = data['OnlineBackup'].eq('Yes').sum()\n",
    "print(\"Number of customers with OnlineBackup =\", online_backup_count)\n",
    "print(\"---------------------------------------------------------------\")\n",
    "\n",
    "# 6. DeviceProtection: Count \"Yes\"\n",
    "device_protection_count = data['DeviceProtection'].eq('Yes').sum()\n",
    "print(\"Number of customers with DeviceProtection =\", device_protection_count)\n",
    "print(\"---------------------------------------------------------------\")\n",
    "\n",
    "# 7. TechSupport: Count \"Yes\"\n",
    "tech_support_count = data['TechSupport'].eq('Yes').sum()\n",
    "print(\"Number of customers with TechSupport =\", tech_support_count)\n",
    "print(\"---------------------------------------------------------------\")\n",
    "\n",
    "# 8. StreamingTV: Count \"Yes\"\n",
    "streaming_tv_count = data['StreamingTV'].eq('Yes').sum()\n",
    "print(\"Number of customers with StreamingTV =\", streaming_tv_count)\n",
    "print(\"---------------------------------------------------------------\")\n",
    "\n",
    "# 9. StreamingMovies: Count \"Yes\"\n",
    "streaming_movies_count = data['StreamingMovies'].eq('Yes').sum()\n",
    "print(\"Number of customers with StreamingMovies =\", streaming_movies_count)\n",
    "print(\"---------------------------------------------------------------\")\n",
    "print(f\" of total {len(data)} customer\")"
   ]
  },
  {
   "cell_type": "code",
   "execution_count": 57,
   "id": "29c956dd-b3e2-4814-b395-0297a494ebde",
   "metadata": {},
   "outputs": [
    {
     "data": {
      "image/png": "[encoded data removed]",
      "text/plain": [
       "<Figure size 800x800 with 1 Axes>"
      ]
     },
     "metadata": {},
     "output_type": "display_data"
    }
   ],
   "source": [
    "phone_yes_count = data['PhoneService'].eq('Yes').sum()\n",
    "multiple_lines_count = data['MultipleLines'].eq('Yes').sum()\n",
    "internet_count = data['InternetService'].isin(['DSL','Fiber optic']).sum()\n",
    "online_security_count = data['OnlineSecurity'].eq('Yes').sum()\n",
    "online_backup_count = data['OnlineBackup'].eq('Yes').sum()\n",
    "device_protection_count = data['DeviceProtection'].eq('Yes').sum()\n",
    "tech_support_count = data['TechSupport'].eq('Yes').sum()\n",
    "streaming_tv_count = data['StreamingTV'].eq('Yes').sum()\n",
    "streaming_movies_count = data['StreamingMovies'].eq('Yes').sum()\n",
    "\n",
    "service_counts = {\n",
    "    'PhoneService': phone_yes_count,\n",
    "    'MultipleLines': multiple_lines_count,\n",
    "    'InternetService': internet_count,\n",
    "    'OnlineSecurity': online_security_count,\n",
    "    'OnlineBackup': online_backup_count,\n",
    "    'DeviceProtection': device_protection_count,\n",
    "    'TechSupport': tech_support_count,\n",
    "    'StreamingTV': streaming_tv_count,\n",
    "    'StreamingMovies': streaming_movies_count\n",
    "}\n",
    "\n",
    "# Create labels and values for pie chart\n",
    "labels = list(service_counts.keys())\n",
    "values = list(service_counts.values())\n",
    "\n",
    "plt.figure(figsize=(8, 8))\n",
    "plt.pie(values, labels=labels, autopct='%1.1f%%', startangle=140)\n",
    "plt.title('Number of Customers Who Use Each Service')\n",
    "plt.axis('equal')  # Equal aspect ratio ensures the pie is drawn as a circle.\n",
    "plt.show()\n"
   ]
  },
  {
   "cell_type": "markdown",
   "id": "dc6aa728-6b14-4747-86f5-380b5487309c",
   "metadata": {},
   "source": [
    "# number of services for each customer "
   ]
  },
  {
   "cell_type": "code",
   "execution_count": 65,
   "id": "a64a8d65-6991-4123-abb5-f16389149318",
   "metadata": {},
   "outputs": [
    {
     "name": "stdout",
     "output_type": "stream",
     "text": [
      "    customerID  NumServices  MonthlyCharges\n",
      "0   7590-VHVEG            2           29.85\n",
      "1   5575-GNVDE            4           56.95\n",
      "2   3668-QPYBK            4           53.85\n",
      "3   7795-CFOCW            4            42.3\n",
      "4   9237-HQITU            2            70.7\n",
      "5   9305-CDSKC            6           99.65\n",
      "6   1452-KIOVK            5            89.1\n",
      "7   6713-OKOMC            2           29.75\n",
      "8   7892-POOKP            7           104.8\n",
      "9   6388-TABGU            4           56.15\n",
      "10  9763-GRSKD            3           49.95\n",
      "11  7469-LKBCI            1           18.95\n",
      "12  8091-TTVAX            6          100.35\n",
      "13  0280-XJGEX            7           103.7\n",
      "14  5129-JLPIS            7           105.5\n",
      "15  3655-SNQYZ            9          113.25\n",
      "16  8191-XWSZG            1           20.65\n",
      "17  9959-WOFKT            7           106.7\n",
      "18  4190-MFLUW            4            55.2\n",
      "19  4183-MYFRB            5           90.05\n"
     ]
    }
   ],
   "source": [
    "data['NumServices'] = (\n",
    "    data['PhoneService'].eq('Yes').astype(int) +\n",
    "    data['MultipleLines'].eq('Yes').astype(int) +\n",
    "    data['InternetService'].isin(['DSL', 'Fiber optic']).astype(int) +\n",
    "    data['OnlineSecurity'].eq('Yes').astype(int) +\n",
    "    data['OnlineBackup'].eq('Yes').astype(int) +\n",
    "    data['DeviceProtection'].eq('Yes').astype(int) +\n",
    "    data['TechSupport'].eq('Yes').astype(int) +\n",
    "    data['StreamingTV'].eq('Yes').astype(int) +\n",
    "    data['StreamingMovies'].eq('Yes').astype(int)\n",
    ")\n",
    "\n",
    "# Show how many services each row uses (add NumServices column to dataset)\n",
    "print(data[['customerID', 'NumServices', 'MonthlyCharges']].head(20))"
   ]
  },
  {
   "cell_type": "markdown",
   "id": "b0c49339-3557-47d3-a757-1899dded7d62",
   "metadata": {},
   "source": [
    "#### coorelation between number of services and monthlyCharges"
   ]
  },
  {
   "cell_type": "code",
   "execution_count": 71,
   "id": "85c3447e-f66d-455a-81b9-a3839ba0c3d1",
   "metadata": {},
   "outputs": [
    {
     "name": "stdout",
     "output_type": "stream",
     "text": [
      "                NumServices  MonthlyCharges\n",
      "NumServices        1.000000        0.851408\n",
      "MonthlyCharges     0.851408        1.000000\n"
     ]
    }
   ],
   "source": [
    "\n",
    "corr_matrix = data[['NumServices', 'MonthlyCharges']].corr()\n",
    "print(corr_matrix)"
   ]
  },
  {
   "cell_type": "code",
   "execution_count": 72,
   "id": "f166617e-69d9-473a-a891-7fa422955814",
   "metadata": {},
   "outputs": [
    {
     "data": {
      "image/png": "[encoded data removed]",
      "text/plain": [
       "<Figure size 640x480 with 1 Axes>"
      ]
     },
     "metadata": {},
     "output_type": "display_data"
    }
   ],
   "source": [
    "sns.scatterplot(data=data, x='NumServices', y='MonthlyCharges')\n",
    "plt.title('Number of Services vs. Monthly Charges')\n",
    "plt.show()"
   ]
  },
  {
   "cell_type": "markdown",
   "id": "f29ffedf-d3b1-4c82-8589-202de4e83cc9",
   "metadata": {},
   "source": [
    " - strong correlation between number of services per customer to monthly charge"
   ]
  }
 ],
 "metadata": {
  "kernelspec": {
   "display_name": "Python 3 (ipykernel)",
   "language": "python",
   "name": "python3"
  },
  "language_info": {
   "codemirror_mode": {
    "name": "ipython",
    "version": 3
   },
   "file_extension": ".py",
   "mimetype": "text/x-python",
   "name": "python",
   "nbconvert_exporter": "python",
   "pygments_lexer": "ipython3",
   "version": "3.12.7"
  }
 },
 "nbformat": 4,
 "nbformat_minor": 5
}
